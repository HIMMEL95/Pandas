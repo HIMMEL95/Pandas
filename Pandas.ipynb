{
 "cells": [
  {
   "cell_type": "code",
   "execution_count": 1,
   "metadata": {},
   "outputs": [],
   "source": [
    "import pandas as pd \n",
    "import numpy as np\n",
    "import matplotlib.pyplot as plt\n",
    "import seaborn as sns"
   ]
  },
  {
   "cell_type": "markdown",
   "metadata": {},
   "source": [
    "[1.series](#series)\n",
    "\n",
    "[2.dataframe](#dataframe)\n",
    "\n",
    "[3.get_dummies](#get_dummies)\n",
    "\n",
    "[4.corr](#corr)\n",
    "\n",
    "[5.groups](#groups)\n",
    "\n",
    "[6.transform](#transform)\n",
    "\n",
    "[7.pivot_table](#pivot_table)\n",
    "\n",
    "[8.level=(index)](#level=(index))\n",
    "\n",
    "[9.stack/unstack](#stack/unstack)\n",
    "\n",
    "[10.concat](#concat)\n",
    "\n",
    "[11.merge](#merge)"
   ]
  },
  {
   "cell_type": "markdown",
   "metadata": {},
   "source": [
    "## series"
   ]
  },
  {
   "cell_type": "code",
   "execution_count": 2,
   "metadata": {},
   "outputs": [
    {
     "output_type": "execute_result",
     "data": {
      "text/plain": [
       "0    1\n",
       "1    2\n",
       "2    3\n",
       "dtype: int64"
      ]
     },
     "metadata": {},
     "execution_count": 2
    }
   ],
   "source": [
    "# 정수값 데이터 생성\n",
    "s1 = pd.Series([1, 2, 3])\n",
    "s1"
   ]
  },
  {
   "cell_type": "code",
   "execution_count": 3,
   "metadata": {},
   "outputs": [
    {
     "output_type": "execute_result",
     "data": {
      "text/plain": [
       "0    a\n",
       "1    b\n",
       "2    c\n",
       "dtype: object"
      ]
     },
     "metadata": {},
     "execution_count": 3
    }
   ],
   "source": [
    "# 문자열 데이터 생성\n",
    "s2 = pd.Series(['a', 'b', 'c'])\n",
    "s2"
   ]
  },
  {
   "cell_type": "code",
   "execution_count": 4,
   "metadata": {},
   "outputs": [
    {
     "output_type": "execute_result",
     "data": {
      "text/plain": [
       "0        0\n",
       "1        1\n",
       "2        2\n",
       "3        3\n",
       "4        4\n",
       "      ... \n",
       "195    195\n",
       "196    196\n",
       "197    197\n",
       "198    198\n",
       "199    199\n",
       "Length: 200, dtype: int64"
      ]
     },
     "metadata": {},
     "execution_count": 4
    }
   ],
   "source": [
    "# 범위를 통한 데이터 생성\n",
    "s3 = pd.Series(np.arange(200))\n",
    "s3"
   ]
  },
  {
   "cell_type": "code",
   "execution_count": 5,
   "metadata": {},
   "outputs": [
    {
     "output_type": "execute_result",
     "data": {
      "text/plain": [
       "100    1\n",
       "200    2\n",
       "300    3\n",
       "dtype: int64"
      ]
     },
     "metadata": {},
     "execution_count": 5
    }
   ],
   "source": [
    "# inex 값을 만들어 데이터 생성\n",
    "# pd.Series([data_values], [index_values])\n",
    "\n",
    "s4 = pd.Series([1, 2, 3], [100, 200, 300])\n",
    "s4"
   ]
  },
  {
   "cell_type": "code",
   "execution_count": 6,
   "metadata": {},
   "outputs": [
    {
     "output_type": "execute_result",
     "data": {
      "text/plain": [
       "a    1\n",
       "m    2\n",
       "k    3\n",
       "dtype: int64"
      ]
     },
     "metadata": {},
     "execution_count": 6
    }
   ],
   "source": [
    "s5 = pd.Series([1, 2, 3], ['a', 'm', 'k'])\n",
    "s5"
   ]
  },
  {
   "cell_type": "code",
   "execution_count": 7,
   "metadata": {},
   "outputs": [
    {
     "output_type": "execute_result",
     "data": {
      "text/plain": [
       "100    0\n",
       "101    1\n",
       "102    2\n",
       "103    3\n",
       "104    4\n",
       "dtype: int16"
      ]
     },
     "metadata": {},
     "execution_count": 7
    }
   ],
   "source": [
    "# 데이터 타입을 정해서 데이터 생성\n",
    "s6 = pd.Series(np.arange(5), np.arange(100,105), dtype = np.int16)\n",
    "s6"
   ]
  },
  {
   "cell_type": "markdown",
   "metadata": {},
   "source": [
    "### Series size, shape, unique, count, value_counts 함수\n",
    "- size : 개수 반환\n",
    "- shape : 튜플 형태로 shape 반환\n",
    "- unique : 유일한 값만 ndarray로 반환\n",
    "- count : NaN을 제외한 개수 반환\n",
    "- mean : NaN을 제외한 평균\n",
    "- value_counts : NaN을 제외하고 각 값들의 빈도를 반환 "
   ]
  },
  {
   "cell_type": "code",
   "execution_count": 8,
   "metadata": {},
   "outputs": [
    {
     "output_type": "execute_result",
     "data": {
      "text/plain": [
       "0     2.0\n",
       "1     3.0\n",
       "2     5.0\n",
       "3     5.0\n",
       "4     7.0\n",
       "5     8.0\n",
       "6     NaN\n",
       "7     NaN\n",
       "8     NaN\n",
       "9     NaN\n",
       "10    NaN\n",
       "11    NaN\n",
       "12    NaN\n",
       "13    NaN\n",
       "14    NaN\n",
       "15    NaN\n",
       "dtype: float64"
      ]
     },
     "metadata": {},
     "execution_count": 8
    }
   ],
   "source": [
    "# 데이터 값의 수가 다른 두 데이터의 연산 \n",
    "\n",
    "s = pd.Series([1, 1, 2, 1, 2, 2, 2, 1, 1, 3, 3, 4, 5, 5, 7, np.NaN])\n",
    "s1 = pd.Series([1, 2, 3, 4, 5, 6])\n",
    "\n",
    "s + s1"
   ]
  },
  {
   "cell_type": "code",
   "execution_count": 9,
   "metadata": {},
   "outputs": [
    {
     "output_type": "execute_result",
     "data": {
      "text/plain": [
       "3"
      ]
     },
     "metadata": {},
     "execution_count": 9
    }
   ],
   "source": [
    "# bool값을 이용한 조건 값 계산\n",
    "\n",
    "s = pd.Series(np.arange(10), np.arange(10)+1)\n",
    "(s >= 7).sum()"
   ]
  },
  {
   "cell_type": "code",
   "execution_count": 10,
   "metadata": {},
   "outputs": [
    {
     "output_type": "execute_result",
     "data": {
      "text/plain": [
       "24"
      ]
     },
     "metadata": {},
     "execution_count": 10
    }
   ],
   "source": [
    "# 조건으로 데이터 계산\n",
    "\n",
    "s = pd.Series(np.arange(10), np.arange(10)+1)\n",
    "s[(s >= 7)].sum()"
   ]
  },
  {
   "cell_type": "code",
   "execution_count": 11,
   "metadata": {},
   "outputs": [
    {
     "output_type": "execute_result",
     "data": {
      "text/plain": [
       "a    300\n",
       "b    101\n",
       "c    900\n",
       "d    103\n",
       "e    104\n",
       "dtype: int64"
      ]
     },
     "metadata": {},
     "execution_count": 11
    }
   ],
   "source": [
    "# 특정 값의 데이터 변경\n",
    "\n",
    "s = pd.Series(np.arange(100, 105), ['a', 'b', 'c', 'd', 'e'])\n",
    "s[['a', 'c']] = [300, 900]\n",
    "s"
   ]
  },
  {
   "cell_type": "code",
   "execution_count": 12,
   "metadata": {},
   "outputs": [
    {
     "output_type": "execute_result",
     "data": {
      "text/plain": [
       "a    400\n",
       "b    101\n",
       "c    900\n",
       "d    103\n",
       "e    104\n",
       "dtype: int64"
      ]
     },
     "metadata": {},
     "execution_count": 12
    }
   ],
   "source": [
    "s['a'] = 400\n",
    "s"
   ]
  },
  {
   "cell_type": "code",
   "execution_count": 13,
   "metadata": {},
   "outputs": [
    {
     "output_type": "execute_result",
     "data": {
      "text/plain": [
       "b    101\n",
       "c    102\n",
       "d    103\n",
       "dtype: int64"
      ]
     },
     "metadata": {},
     "execution_count": 13
    }
   ],
   "source": [
    "# 특정 범위의 데이터 값 출력\n",
    "\n",
    "s2 = pd.Series(np.arange(100, 105), ['a', 'b', 'c', 'd', 'e'])\n",
    "s2['b':'d']"
   ]
  },
  {
   "cell_type": "markdown",
   "metadata": {},
   "source": [
    "## dataframe"
   ]
  },
  {
   "cell_type": "code",
   "execution_count": 14,
   "metadata": {},
   "outputs": [
    {
     "output_type": "execute_result",
     "data": {
      "text/plain": [
       "       a    b    c\n",
       "100  110  200  300\n",
       "101  111  201  301\n",
       "102  112  202  302"
      ],
      "text/html": "<div>\n<style scoped>\n    .dataframe tbody tr th:only-of-type {\n        vertical-align: middle;\n    }\n\n    .dataframe tbody tr th {\n        vertical-align: top;\n    }\n\n    .dataframe thead th {\n        text-align: right;\n    }\n</style>\n<table border=\"1\" class=\"dataframe\">\n  <thead>\n    <tr style=\"text-align: right;\">\n      <th></th>\n      <th>a</th>\n      <th>b</th>\n      <th>c</th>\n    </tr>\n  </thead>\n  <tbody>\n    <tr>\n      <th>100</th>\n      <td>110</td>\n      <td>200</td>\n      <td>300</td>\n    </tr>\n    <tr>\n      <th>101</th>\n      <td>111</td>\n      <td>201</td>\n      <td>301</td>\n    </tr>\n    <tr>\n      <th>102</th>\n      <td>112</td>\n      <td>202</td>\n      <td>302</td>\n    </tr>\n  </tbody>\n</table>\n</div>"
     },
     "metadata": {},
     "execution_count": 14
    }
   ],
   "source": [
    "# Series 데이터를 묶어서 인덱스 [100, 101, 102]의 데이터 생성\n",
    "\n",
    "a = pd.Series([110, 200, 300], ['a', 'b', 'c'])\n",
    "b = pd.Series([111, 201, 301], ['a', 'b', 'c'])\n",
    "c = pd.Series([112, 202, 302], ['a', 'b', 'c'])\n",
    "\n",
    "result = pd.DataFrame([a, b, c], [100, 101, 102])\n",
    "result"
   ]
  },
  {
   "cell_type": "code",
   "execution_count": 15,
   "metadata": {},
   "outputs": [
    {
     "output_type": "execute_result",
     "data": {
      "text/plain": [
       "             Survived  Pclass  \\\n",
       "PassengerId                     \n",
       "1                   0       3   \n",
       "2                   1       1   \n",
       "3                   1       3   \n",
       "4                   1       1   \n",
       "5                   0       3   \n",
       "...               ...     ...   \n",
       "887                 0       2   \n",
       "888                 1       1   \n",
       "889                 0       3   \n",
       "890                 1       1   \n",
       "891                 0       3   \n",
       "\n",
       "                                                          Name   Age  \n",
       "PassengerId                                                           \n",
       "1                                      Braund, Mr. Owen Harris  22.0  \n",
       "2            Cumings, Mrs. John Bradley (Florence Briggs Th...  38.0  \n",
       "3                                       Heikkinen, Miss. Laina  26.0  \n",
       "4                 Futrelle, Mrs. Jacques Heath (Lily May Peel)  35.0  \n",
       "5                                     Allen, Mr. William Henry  35.0  \n",
       "...                                                        ...   ...  \n",
       "887                                      Montvila, Rev. Juozas  27.0  \n",
       "888                               Graham, Miss. Margaret Edith  19.0  \n",
       "889                   Johnston, Miss. Catherine Helen \"Carrie\"   NaN  \n",
       "890                                      Behr, Mr. Karl Howell  26.0  \n",
       "891                                        Dooley, Mr. Patrick  32.0  \n",
       "\n",
       "[891 rows x 4 columns]"
      ],
      "text/html": "<div>\n<style scoped>\n    .dataframe tbody tr th:only-of-type {\n        vertical-align: middle;\n    }\n\n    .dataframe tbody tr th {\n        vertical-align: top;\n    }\n\n    .dataframe thead th {\n        text-align: right;\n    }\n</style>\n<table border=\"1\" class=\"dataframe\">\n  <thead>\n    <tr style=\"text-align: right;\">\n      <th></th>\n      <th>Survived</th>\n      <th>Pclass</th>\n      <th>Name</th>\n      <th>Age</th>\n    </tr>\n    <tr>\n      <th>PassengerId</th>\n      <th></th>\n      <th></th>\n      <th></th>\n      <th></th>\n    </tr>\n  </thead>\n  <tbody>\n    <tr>\n      <th>1</th>\n      <td>0</td>\n      <td>3</td>\n      <td>Braund, Mr. Owen Harris</td>\n      <td>22.0</td>\n    </tr>\n    <tr>\n      <th>2</th>\n      <td>1</td>\n      <td>1</td>\n      <td>Cumings, Mrs. John Bradley (Florence Briggs Th...</td>\n      <td>38.0</td>\n    </tr>\n    <tr>\n      <th>3</th>\n      <td>1</td>\n      <td>3</td>\n      <td>Heikkinen, Miss. Laina</td>\n      <td>26.0</td>\n    </tr>\n    <tr>\n      <th>4</th>\n      <td>1</td>\n      <td>1</td>\n      <td>Futrelle, Mrs. Jacques Heath (Lily May Peel)</td>\n      <td>35.0</td>\n    </tr>\n    <tr>\n      <th>5</th>\n      <td>0</td>\n      <td>3</td>\n      <td>Allen, Mr. William Henry</td>\n      <td>35.0</td>\n    </tr>\n    <tr>\n      <th>...</th>\n      <td>...</td>\n      <td>...</td>\n      <td>...</td>\n      <td>...</td>\n    </tr>\n    <tr>\n      <th>887</th>\n      <td>0</td>\n      <td>2</td>\n      <td>Montvila, Rev. Juozas</td>\n      <td>27.0</td>\n    </tr>\n    <tr>\n      <th>888</th>\n      <td>1</td>\n      <td>1</td>\n      <td>Graham, Miss. Margaret Edith</td>\n      <td>19.0</td>\n    </tr>\n    <tr>\n      <th>889</th>\n      <td>0</td>\n      <td>3</td>\n      <td>Johnston, Miss. Catherine Helen \"Carrie\"</td>\n      <td>NaN</td>\n    </tr>\n    <tr>\n      <th>890</th>\n      <td>1</td>\n      <td>1</td>\n      <td>Behr, Mr. Karl Howell</td>\n      <td>26.0</td>\n    </tr>\n    <tr>\n      <th>891</th>\n      <td>0</td>\n      <td>3</td>\n      <td>Dooley, Mr. Patrick</td>\n      <td>32.0</td>\n    </tr>\n  </tbody>\n</table>\n<p>891 rows × 4 columns</p>\n</div>"
     },
     "metadata": {},
     "execution_count": 15
    }
   ],
   "source": [
    "# 데이터에서 필요한 index와 사용할 col의 데이터를 출력\n",
    "\n",
    "train_data = pd.read_csv('../train.csv', index_col = 'PassengerId', usecols=['PassengerId', 'Survived', 'Pclass', 'Name', 'Age'])\n",
    "train_data"
   ]
  },
  {
   "cell_type": "code",
   "execution_count": 16,
   "metadata": {},
   "outputs": [
    {
     "output_type": "execute_result",
     "data": {
      "text/plain": [
       "             Survived  Pclass\n",
       "PassengerId                  \n",
       "1                   0       3\n",
       "2                   1       1\n",
       "3                   1       3\n",
       "4                   1       1\n",
       "5                   0       3\n",
       "...               ...     ...\n",
       "887                 0       2\n",
       "888                 1       1\n",
       "889                 0       3\n",
       "890                 1       1\n",
       "891                 0       3\n",
       "\n",
       "[891 rows x 2 columns]"
      ],
      "text/html": "<div>\n<style scoped>\n    .dataframe tbody tr th:only-of-type {\n        vertical-align: middle;\n    }\n\n    .dataframe tbody tr th {\n        vertical-align: top;\n    }\n\n    .dataframe thead th {\n        text-align: right;\n    }\n</style>\n<table border=\"1\" class=\"dataframe\">\n  <thead>\n    <tr style=\"text-align: right;\">\n      <th></th>\n      <th>Survived</th>\n      <th>Pclass</th>\n    </tr>\n    <tr>\n      <th>PassengerId</th>\n      <th></th>\n      <th></th>\n    </tr>\n  </thead>\n  <tbody>\n    <tr>\n      <th>1</th>\n      <td>0</td>\n      <td>3</td>\n    </tr>\n    <tr>\n      <th>2</th>\n      <td>1</td>\n      <td>1</td>\n    </tr>\n    <tr>\n      <th>3</th>\n      <td>1</td>\n      <td>3</td>\n    </tr>\n    <tr>\n      <th>4</th>\n      <td>1</td>\n      <td>1</td>\n    </tr>\n    <tr>\n      <th>5</th>\n      <td>0</td>\n      <td>3</td>\n    </tr>\n    <tr>\n      <th>...</th>\n      <td>...</td>\n      <td>...</td>\n    </tr>\n    <tr>\n      <th>887</th>\n      <td>0</td>\n      <td>2</td>\n    </tr>\n    <tr>\n      <th>888</th>\n      <td>1</td>\n      <td>1</td>\n    </tr>\n    <tr>\n      <th>889</th>\n      <td>0</td>\n      <td>3</td>\n    </tr>\n    <tr>\n      <th>890</th>\n      <td>1</td>\n      <td>1</td>\n    </tr>\n    <tr>\n      <th>891</th>\n      <td>0</td>\n      <td>3</td>\n    </tr>\n  </tbody>\n</table>\n<p>891 rows × 2 columns</p>\n</div>"
     },
     "metadata": {},
     "execution_count": 16
    }
   ],
   "source": [
    "# 특정 열의 데이터 값 출력\n",
    "\n",
    "train_data[['Survived', 'Pclass']]"
   ]
  },
  {
   "cell_type": "code",
   "execution_count": 17,
   "metadata": {},
   "outputs": [
    {
     "output_type": "execute_result",
     "data": {
      "text/plain": [
       "             Survived  Pclass\n",
       "PassengerId                  \n",
       "1                   0       3\n",
       "2                   1       1\n",
       "3                   1       3\n",
       "4                   1       1\n",
       "5                   0       3\n",
       "...               ...     ...\n",
       "887                 0       2\n",
       "888                 1       1\n",
       "889                 0       3\n",
       "890                 1       1\n",
       "891                 0       3\n",
       "\n",
       "[891 rows x 2 columns]"
      ],
      "text/html": "<div>\n<style scoped>\n    .dataframe tbody tr th:only-of-type {\n        vertical-align: middle;\n    }\n\n    .dataframe tbody tr th {\n        vertical-align: top;\n    }\n\n    .dataframe thead th {\n        text-align: right;\n    }\n</style>\n<table border=\"1\" class=\"dataframe\">\n  <thead>\n    <tr style=\"text-align: right;\">\n      <th></th>\n      <th>Survived</th>\n      <th>Pclass</th>\n    </tr>\n    <tr>\n      <th>PassengerId</th>\n      <th></th>\n      <th></th>\n    </tr>\n  </thead>\n  <tbody>\n    <tr>\n      <th>1</th>\n      <td>0</td>\n      <td>3</td>\n    </tr>\n    <tr>\n      <th>2</th>\n      <td>1</td>\n      <td>1</td>\n    </tr>\n    <tr>\n      <th>3</th>\n      <td>1</td>\n      <td>3</td>\n    </tr>\n    <tr>\n      <th>4</th>\n      <td>1</td>\n      <td>1</td>\n    </tr>\n    <tr>\n      <th>5</th>\n      <td>0</td>\n      <td>3</td>\n    </tr>\n    <tr>\n      <th>...</th>\n      <td>...</td>\n      <td>...</td>\n    </tr>\n    <tr>\n      <th>887</th>\n      <td>0</td>\n      <td>2</td>\n    </tr>\n    <tr>\n      <th>888</th>\n      <td>1</td>\n      <td>1</td>\n    </tr>\n    <tr>\n      <th>889</th>\n      <td>0</td>\n      <td>3</td>\n    </tr>\n    <tr>\n      <th>890</th>\n      <td>1</td>\n      <td>1</td>\n    </tr>\n    <tr>\n      <th>891</th>\n      <td>0</td>\n      <td>3</td>\n    </tr>\n  </tbody>\n</table>\n<p>891 rows × 2 columns</p>\n</div>"
     },
     "metadata": {},
     "execution_count": 17
    }
   ],
   "source": [
    "train_data.loc[:, ['Survived', 'Pclass']]"
   ]
  },
  {
   "cell_type": "code",
   "execution_count": 18,
   "metadata": {},
   "outputs": [
    {
     "output_type": "execute_result",
     "data": {
      "text/plain": [
       "             Survived  Pclass\n",
       "PassengerId                  \n",
       "1                   0       3\n",
       "2                   1       1\n",
       "3                   1       3\n",
       "4                   1       1\n",
       "5                   0       3\n",
       "...               ...     ...\n",
       "887                 0       2\n",
       "888                 1       1\n",
       "889                 0       3\n",
       "890                 1       1\n",
       "891                 0       3\n",
       "\n",
       "[891 rows x 2 columns]"
      ],
      "text/html": "<div>\n<style scoped>\n    .dataframe tbody tr th:only-of-type {\n        vertical-align: middle;\n    }\n\n    .dataframe tbody tr th {\n        vertical-align: top;\n    }\n\n    .dataframe thead th {\n        text-align: right;\n    }\n</style>\n<table border=\"1\" class=\"dataframe\">\n  <thead>\n    <tr style=\"text-align: right;\">\n      <th></th>\n      <th>Survived</th>\n      <th>Pclass</th>\n    </tr>\n    <tr>\n      <th>PassengerId</th>\n      <th></th>\n      <th></th>\n    </tr>\n  </thead>\n  <tbody>\n    <tr>\n      <th>1</th>\n      <td>0</td>\n      <td>3</td>\n    </tr>\n    <tr>\n      <th>2</th>\n      <td>1</td>\n      <td>1</td>\n    </tr>\n    <tr>\n      <th>3</th>\n      <td>1</td>\n      <td>3</td>\n    </tr>\n    <tr>\n      <th>4</th>\n      <td>1</td>\n      <td>1</td>\n    </tr>\n    <tr>\n      <th>5</th>\n      <td>0</td>\n      <td>3</td>\n    </tr>\n    <tr>\n      <th>...</th>\n      <td>...</td>\n      <td>...</td>\n    </tr>\n    <tr>\n      <th>887</th>\n      <td>0</td>\n      <td>2</td>\n    </tr>\n    <tr>\n      <th>888</th>\n      <td>1</td>\n      <td>1</td>\n    </tr>\n    <tr>\n      <th>889</th>\n      <td>0</td>\n      <td>3</td>\n    </tr>\n    <tr>\n      <th>890</th>\n      <td>1</td>\n      <td>1</td>\n    </tr>\n    <tr>\n      <th>891</th>\n      <td>0</td>\n      <td>3</td>\n    </tr>\n  </tbody>\n</table>\n<p>891 rows × 2 columns</p>\n</div>"
     },
     "metadata": {},
     "execution_count": 18
    }
   ],
   "source": [
    "train_data.iloc[:, [0,1]]"
   ]
  },
  {
   "cell_type": "code",
   "execution_count": 19,
   "metadata": {},
   "outputs": [
    {
     "output_type": "execute_result",
     "data": {
      "text/plain": [
       "             Survived  Pclass  \\\n",
       "PassengerId                     \n",
       "2                   1       1   \n",
       "4                   1       1   \n",
       "62                  1       1   \n",
       "138                 0       1   \n",
       "216                 1       1   \n",
       "219                 1       1   \n",
       "225                 1       1   \n",
       "231                 1       1   \n",
       "249                 1       1   \n",
       "258                 1       1   \n",
       "259                 1       1   \n",
       "270                 1       1   \n",
       "274                 0       1   \n",
       "310                 1       1   \n",
       "319                 1       1   \n",
       "326                 1       1   \n",
       "333                 0       1   \n",
       "384                 1       1   \n",
       "391                 1       1   \n",
       "413                 1       1   \n",
       "448                 1       1   \n",
       "453                 0       1   \n",
       "487                 1       1   \n",
       "513                 1       1   \n",
       "521                 1       1   \n",
       "538                 1       1   \n",
       "541                 1       1   \n",
       "559                 1       1   \n",
       "573                 1       1   \n",
       "578                 1       1   \n",
       "582                 1       1   \n",
       "584                 0       1   \n",
       "605                 1       1   \n",
       "633                 1       1   \n",
       "672                 0       1   \n",
       "680                 1       1   \n",
       "691                 1       1   \n",
       "702                 1       1   \n",
       "717                 1       1   \n",
       "738                 1       1   \n",
       "742                 0       1   \n",
       "760                 1       1   \n",
       "764                 1       1   \n",
       "807                 0       1   \n",
       "810                 1       1   \n",
       "823                 0       1   \n",
       "836                 1       1   \n",
       "843                 1       1   \n",
       "868                 0       1   \n",
       "873                 0       1   \n",
       "\n",
       "                                                          Name   Age  \n",
       "PassengerId                                                           \n",
       "2            Cumings, Mrs. John Bradley (Florence Briggs Th...  38.0  \n",
       "4                 Futrelle, Mrs. Jacques Heath (Lily May Peel)  35.0  \n",
       "62                                         Icard, Miss. Amelie  38.0  \n",
       "138                                Futrelle, Mr. Jacques Heath  37.0  \n",
       "216                                    Newell, Miss. Madeleine  31.0  \n",
       "219                                      Bazzani, Miss. Albina  32.0  \n",
       "225                               Hoyt, Mr. Frederick Maxfield  38.0  \n",
       "231               Harris, Mrs. Henry Birkhardt (Irene Wallach)  35.0  \n",
       "249                              Beckwith, Mr. Richard Leonard  37.0  \n",
       "258                                       Cherry, Miss. Gladys  30.0  \n",
       "259                                           Ward, Miss. Anna  35.0  \n",
       "270                                     Bissette, Miss. Amelia  35.0  \n",
       "274                                      Natsch, Mr. Charles H  37.0  \n",
       "310                             Francatelli, Miss. Laura Mabel  30.0  \n",
       "319                                   Wick, Miss. Mary Natalie  31.0  \n",
       "326                                   Young, Miss. Marie Grice  36.0  \n",
       "333                                  Graham, Mr. George Edward  38.0  \n",
       "384          Holverson, Mrs. Alexander Oskar (Mary Aline To...  35.0  \n",
       "391                                 Carter, Mr. William Ernest  36.0  \n",
       "413                                     Minahan, Miss. Daisy E  33.0  \n",
       "448                                Seward, Mr. Frederic Kimber  34.0  \n",
       "453                            Foreman, Mr. Benjamin Laventall  30.0  \n",
       "487            Hoyt, Mrs. Frederick Maxfield (Jane Anne Forby)  35.0  \n",
       "513                                  McGough, Mr. James Robert  36.0  \n",
       "521                                      Perreault, Miss. Anne  30.0  \n",
       "538                                        LeRoy, Miss. Bertha  30.0  \n",
       "541                                    Crosby, Miss. Harriet R  36.0  \n",
       "559                     Taussig, Mrs. Emil (Tillie Mandelbaum)  39.0  \n",
       "573                           Flynn, Mr. John Irwin (\"Irving\")  36.0  \n",
       "578                  Silvey, Mrs. William Baird (Alice Munger)  39.0  \n",
       "582          Thayer, Mrs. John Borland (Marian Longstreth M...  39.0  \n",
       "584                                        Ross, Mr. John Hugo  36.0  \n",
       "605                            Homer, Mr. Harry (\"Mr E Haven\")  35.0  \n",
       "633                                  Stahelin-Maeglin, Dr. Max  32.0  \n",
       "672                                     Davidson, Mr. Thornton  31.0  \n",
       "680                         Cardeza, Mr. Thomas Drake Martinez  36.0  \n",
       "691                                    Dick, Mr. Albert Adrian  31.0  \n",
       "702                           Silverthorne, Mr. Spencer Victor  35.0  \n",
       "717                              Endres, Miss. Caroline Louise  38.0  \n",
       "738                                     Lesurer, Mr. Gustave J  35.0  \n",
       "742                              Cavendish, Mr. Tyrell William  36.0  \n",
       "760          Rothes, the Countess. of (Lucy Noel Martha Dye...  33.0  \n",
       "764                  Carter, Mrs. William Ernest (Lucile Polk)  36.0  \n",
       "807                                     Andrews, Mr. Thomas Jr  39.0  \n",
       "810             Chambers, Mrs. Norman Campbell (Bertha Griggs)  33.0  \n",
       "823                            Reuchlin, Jonkheer. John George  38.0  \n",
       "836                                Compton, Miss. Sara Rebecca  39.0  \n",
       "843                                    Serepeca, Miss. Augusta  30.0  \n",
       "868                       Roebling, Mr. Washington Augustus II  31.0  \n",
       "873                                   Carlsson, Mr. Frans Olof  33.0  "
      ],
      "text/html": "<div>\n<style scoped>\n    .dataframe tbody tr th:only-of-type {\n        vertical-align: middle;\n    }\n\n    .dataframe tbody tr th {\n        vertical-align: top;\n    }\n\n    .dataframe thead th {\n        text-align: right;\n    }\n</style>\n<table border=\"1\" class=\"dataframe\">\n  <thead>\n    <tr style=\"text-align: right;\">\n      <th></th>\n      <th>Survived</th>\n      <th>Pclass</th>\n      <th>Name</th>\n      <th>Age</th>\n    </tr>\n    <tr>\n      <th>PassengerId</th>\n      <th></th>\n      <th></th>\n      <th></th>\n      <th></th>\n    </tr>\n  </thead>\n  <tbody>\n    <tr>\n      <th>2</th>\n      <td>1</td>\n      <td>1</td>\n      <td>Cumings, Mrs. John Bradley (Florence Briggs Th...</td>\n      <td>38.0</td>\n    </tr>\n    <tr>\n      <th>4</th>\n      <td>1</td>\n      <td>1</td>\n      <td>Futrelle, Mrs. Jacques Heath (Lily May Peel)</td>\n      <td>35.0</td>\n    </tr>\n    <tr>\n      <th>62</th>\n      <td>1</td>\n      <td>1</td>\n      <td>Icard, Miss. Amelie</td>\n      <td>38.0</td>\n    </tr>\n    <tr>\n      <th>138</th>\n      <td>0</td>\n      <td>1</td>\n      <td>Futrelle, Mr. Jacques Heath</td>\n      <td>37.0</td>\n    </tr>\n    <tr>\n      <th>216</th>\n      <td>1</td>\n      <td>1</td>\n      <td>Newell, Miss. Madeleine</td>\n      <td>31.0</td>\n    </tr>\n    <tr>\n      <th>219</th>\n      <td>1</td>\n      <td>1</td>\n      <td>Bazzani, Miss. Albina</td>\n      <td>32.0</td>\n    </tr>\n    <tr>\n      <th>225</th>\n      <td>1</td>\n      <td>1</td>\n      <td>Hoyt, Mr. Frederick Maxfield</td>\n      <td>38.0</td>\n    </tr>\n    <tr>\n      <th>231</th>\n      <td>1</td>\n      <td>1</td>\n      <td>Harris, Mrs. Henry Birkhardt (Irene Wallach)</td>\n      <td>35.0</td>\n    </tr>\n    <tr>\n      <th>249</th>\n      <td>1</td>\n      <td>1</td>\n      <td>Beckwith, Mr. Richard Leonard</td>\n      <td>37.0</td>\n    </tr>\n    <tr>\n      <th>258</th>\n      <td>1</td>\n      <td>1</td>\n      <td>Cherry, Miss. Gladys</td>\n      <td>30.0</td>\n    </tr>\n    <tr>\n      <th>259</th>\n      <td>1</td>\n      <td>1</td>\n      <td>Ward, Miss. Anna</td>\n      <td>35.0</td>\n    </tr>\n    <tr>\n      <th>270</th>\n      <td>1</td>\n      <td>1</td>\n      <td>Bissette, Miss. Amelia</td>\n      <td>35.0</td>\n    </tr>\n    <tr>\n      <th>274</th>\n      <td>0</td>\n      <td>1</td>\n      <td>Natsch, Mr. Charles H</td>\n      <td>37.0</td>\n    </tr>\n    <tr>\n      <th>310</th>\n      <td>1</td>\n      <td>1</td>\n      <td>Francatelli, Miss. Laura Mabel</td>\n      <td>30.0</td>\n    </tr>\n    <tr>\n      <th>319</th>\n      <td>1</td>\n      <td>1</td>\n      <td>Wick, Miss. Mary Natalie</td>\n      <td>31.0</td>\n    </tr>\n    <tr>\n      <th>326</th>\n      <td>1</td>\n      <td>1</td>\n      <td>Young, Miss. Marie Grice</td>\n      <td>36.0</td>\n    </tr>\n    <tr>\n      <th>333</th>\n      <td>0</td>\n      <td>1</td>\n      <td>Graham, Mr. George Edward</td>\n      <td>38.0</td>\n    </tr>\n    <tr>\n      <th>384</th>\n      <td>1</td>\n      <td>1</td>\n      <td>Holverson, Mrs. Alexander Oskar (Mary Aline To...</td>\n      <td>35.0</td>\n    </tr>\n    <tr>\n      <th>391</th>\n      <td>1</td>\n      <td>1</td>\n      <td>Carter, Mr. William Ernest</td>\n      <td>36.0</td>\n    </tr>\n    <tr>\n      <th>413</th>\n      <td>1</td>\n      <td>1</td>\n      <td>Minahan, Miss. Daisy E</td>\n      <td>33.0</td>\n    </tr>\n    <tr>\n      <th>448</th>\n      <td>1</td>\n      <td>1</td>\n      <td>Seward, Mr. Frederic Kimber</td>\n      <td>34.0</td>\n    </tr>\n    <tr>\n      <th>453</th>\n      <td>0</td>\n      <td>1</td>\n      <td>Foreman, Mr. Benjamin Laventall</td>\n      <td>30.0</td>\n    </tr>\n    <tr>\n      <th>487</th>\n      <td>1</td>\n      <td>1</td>\n      <td>Hoyt, Mrs. Frederick Maxfield (Jane Anne Forby)</td>\n      <td>35.0</td>\n    </tr>\n    <tr>\n      <th>513</th>\n      <td>1</td>\n      <td>1</td>\n      <td>McGough, Mr. James Robert</td>\n      <td>36.0</td>\n    </tr>\n    <tr>\n      <th>521</th>\n      <td>1</td>\n      <td>1</td>\n      <td>Perreault, Miss. Anne</td>\n      <td>30.0</td>\n    </tr>\n    <tr>\n      <th>538</th>\n      <td>1</td>\n      <td>1</td>\n      <td>LeRoy, Miss. Bertha</td>\n      <td>30.0</td>\n    </tr>\n    <tr>\n      <th>541</th>\n      <td>1</td>\n      <td>1</td>\n      <td>Crosby, Miss. Harriet R</td>\n      <td>36.0</td>\n    </tr>\n    <tr>\n      <th>559</th>\n      <td>1</td>\n      <td>1</td>\n      <td>Taussig, Mrs. Emil (Tillie Mandelbaum)</td>\n      <td>39.0</td>\n    </tr>\n    <tr>\n      <th>573</th>\n      <td>1</td>\n      <td>1</td>\n      <td>Flynn, Mr. John Irwin (\"Irving\")</td>\n      <td>36.0</td>\n    </tr>\n    <tr>\n      <th>578</th>\n      <td>1</td>\n      <td>1</td>\n      <td>Silvey, Mrs. William Baird (Alice Munger)</td>\n      <td>39.0</td>\n    </tr>\n    <tr>\n      <th>582</th>\n      <td>1</td>\n      <td>1</td>\n      <td>Thayer, Mrs. John Borland (Marian Longstreth M...</td>\n      <td>39.0</td>\n    </tr>\n    <tr>\n      <th>584</th>\n      <td>0</td>\n      <td>1</td>\n      <td>Ross, Mr. John Hugo</td>\n      <td>36.0</td>\n    </tr>\n    <tr>\n      <th>605</th>\n      <td>1</td>\n      <td>1</td>\n      <td>Homer, Mr. Harry (\"Mr E Haven\")</td>\n      <td>35.0</td>\n    </tr>\n    <tr>\n      <th>633</th>\n      <td>1</td>\n      <td>1</td>\n      <td>Stahelin-Maeglin, Dr. Max</td>\n      <td>32.0</td>\n    </tr>\n    <tr>\n      <th>672</th>\n      <td>0</td>\n      <td>1</td>\n      <td>Davidson, Mr. Thornton</td>\n      <td>31.0</td>\n    </tr>\n    <tr>\n      <th>680</th>\n      <td>1</td>\n      <td>1</td>\n      <td>Cardeza, Mr. Thomas Drake Martinez</td>\n      <td>36.0</td>\n    </tr>\n    <tr>\n      <th>691</th>\n      <td>1</td>\n      <td>1</td>\n      <td>Dick, Mr. Albert Adrian</td>\n      <td>31.0</td>\n    </tr>\n    <tr>\n      <th>702</th>\n      <td>1</td>\n      <td>1</td>\n      <td>Silverthorne, Mr. Spencer Victor</td>\n      <td>35.0</td>\n    </tr>\n    <tr>\n      <th>717</th>\n      <td>1</td>\n      <td>1</td>\n      <td>Endres, Miss. Caroline Louise</td>\n      <td>38.0</td>\n    </tr>\n    <tr>\n      <th>738</th>\n      <td>1</td>\n      <td>1</td>\n      <td>Lesurer, Mr. Gustave J</td>\n      <td>35.0</td>\n    </tr>\n    <tr>\n      <th>742</th>\n      <td>0</td>\n      <td>1</td>\n      <td>Cavendish, Mr. Tyrell William</td>\n      <td>36.0</td>\n    </tr>\n    <tr>\n      <th>760</th>\n      <td>1</td>\n      <td>1</td>\n      <td>Rothes, the Countess. of (Lucy Noel Martha Dye...</td>\n      <td>33.0</td>\n    </tr>\n    <tr>\n      <th>764</th>\n      <td>1</td>\n      <td>1</td>\n      <td>Carter, Mrs. William Ernest (Lucile Polk)</td>\n      <td>36.0</td>\n    </tr>\n    <tr>\n      <th>807</th>\n      <td>0</td>\n      <td>1</td>\n      <td>Andrews, Mr. Thomas Jr</td>\n      <td>39.0</td>\n    </tr>\n    <tr>\n      <th>810</th>\n      <td>1</td>\n      <td>1</td>\n      <td>Chambers, Mrs. Norman Campbell (Bertha Griggs)</td>\n      <td>33.0</td>\n    </tr>\n    <tr>\n      <th>823</th>\n      <td>0</td>\n      <td>1</td>\n      <td>Reuchlin, Jonkheer. John George</td>\n      <td>38.0</td>\n    </tr>\n    <tr>\n      <th>836</th>\n      <td>1</td>\n      <td>1</td>\n      <td>Compton, Miss. Sara Rebecca</td>\n      <td>39.0</td>\n    </tr>\n    <tr>\n      <th>843</th>\n      <td>1</td>\n      <td>1</td>\n      <td>Serepeca, Miss. Augusta</td>\n      <td>30.0</td>\n    </tr>\n    <tr>\n      <th>868</th>\n      <td>0</td>\n      <td>1</td>\n      <td>Roebling, Mr. Washington Augustus II</td>\n      <td>31.0</td>\n    </tr>\n    <tr>\n      <th>873</th>\n      <td>0</td>\n      <td>1</td>\n      <td>Carlsson, Mr. Frans Olof</td>\n      <td>33.0</td>\n    </tr>\n  </tbody>\n</table>\n</div>"
     },
     "metadata": {},
     "execution_count": 19
    }
   ],
   "source": [
    "# 불러온 데이터에서 특정 열의 특정 값을 조건을 사용하여 데이터 출력\n",
    "\n",
    "Pclass = (train_data['Pclass'] == 1)\n",
    "Age1 = (train_data['Age'] >= 30)\n",
    "Age2 = (train_data['Age'] < 40)\n",
    "\n",
    "train_data[Pclass & Age1 & Age2]"
   ]
  },
  {
   "cell_type": "code",
   "execution_count": 20,
   "metadata": {},
   "outputs": [
    {
     "output_type": "execute_result",
     "data": {
      "text/plain": [
       "0      22.000000\n",
       "1      38.000000\n",
       "2      26.000000\n",
       "3      35.000000\n",
       "4      35.000000\n",
       "         ...    \n",
       "886    27.000000\n",
       "887    19.000000\n",
       "888    29.699118\n",
       "889    26.000000\n",
       "890    32.000000\n",
       "Name: Age, Length: 891, dtype: float64"
      ]
     },
     "metadata": {},
     "execution_count": 20
    }
   ],
   "source": [
    "df = pd.read_csv('../train.csv')\n",
    "\n",
    "age_mean = df['Age'].mean()\n",
    "\n",
    "df['Age'].fillna(age_mean)"
   ]
  },
  {
   "cell_type": "code",
   "execution_count": 21,
   "metadata": {},
   "outputs": [
    {
     "output_type": "execute_result",
     "data": {
      "text/plain": [
       "28.343689655172415"
      ]
     },
     "metadata": {},
     "execution_count": 21
    }
   ],
   "source": [
    "# 생존자의 평균 연령을 구하여라\n",
    "\n",
    "survived_age = df[['Survived', 'Age']]\n",
    "survived_age[df['Survived']==1].mean()\n",
    "\n",
    "train_data[train_data['Survived'] == 1]['Age'].mean()"
   ]
  },
  {
   "cell_type": "markdown",
   "metadata": {},
   "source": [
    "## get_dummies"
   ]
  },
  {
   "cell_type": "code",
   "execution_count": 22,
   "metadata": {},
   "outputs": [
    {
     "output_type": "execute_result",
     "data": {
      "text/plain": [
       "     PassengerId  Survived  Pclass   Age  SibSp  Parch     Fare  \\\n",
       "0              1         0       3  22.0      1      0   7.2500   \n",
       "1              2         1       1  38.0      1      0  71.2833   \n",
       "2              3         1       3  26.0      0      0   7.9250   \n",
       "3              4         1       1  35.0      1      0  53.1000   \n",
       "4              5         0       3  35.0      0      0   8.0500   \n",
       "..           ...       ...     ...   ...    ...    ...      ...   \n",
       "886          887         0       2  27.0      0      0  13.0000   \n",
       "887          888         1       1  19.0      0      0  30.0000   \n",
       "888          889         0       3   NaN      1      2  23.4500   \n",
       "889          890         1       1  26.0      0      0  30.0000   \n",
       "890          891         0       3  32.0      0      0   7.7500   \n",
       "\n",
       "     Name_Abbing, Mr. Anthony  Name_Abbott, Mr. Rossmore Edward  \\\n",
       "0                           0                                 0   \n",
       "1                           0                                 0   \n",
       "2                           0                                 0   \n",
       "3                           0                                 0   \n",
       "4                           0                                 0   \n",
       "..                        ...                               ...   \n",
       "886                         0                                 0   \n",
       "887                         0                                 0   \n",
       "888                         0                                 0   \n",
       "889                         0                                 0   \n",
       "890                         0                                 0   \n",
       "\n",
       "     Name_Abbott, Mrs. Stanton (Rosa Hunt)  ...  Cabin_F G73  Cabin_F2  \\\n",
       "0                                        0  ...            0         0   \n",
       "1                                        0  ...            0         0   \n",
       "2                                        0  ...            0         0   \n",
       "3                                        0  ...            0         0   \n",
       "4                                        0  ...            0         0   \n",
       "..                                     ...  ...          ...       ...   \n",
       "886                                      0  ...            0         0   \n",
       "887                                      0  ...            0         0   \n",
       "888                                      0  ...            0         0   \n",
       "889                                      0  ...            0         0   \n",
       "890                                      0  ...            0         0   \n",
       "\n",
       "     Cabin_F33  Cabin_F38  Cabin_F4  Cabin_G6  Cabin_T  Embarked_C  \\\n",
       "0            0          0         0         0        0           0   \n",
       "1            0          0         0         0        0           1   \n",
       "2            0          0         0         0        0           0   \n",
       "3            0          0         0         0        0           0   \n",
       "4            0          0         0         0        0           0   \n",
       "..         ...        ...       ...       ...      ...         ...   \n",
       "886          0          0         0         0        0           0   \n",
       "887          0          0         0         0        0           0   \n",
       "888          0          0         0         0        0           0   \n",
       "889          0          0         0         0        0           1   \n",
       "890          0          0         0         0        0           0   \n",
       "\n",
       "     Embarked_Q  Embarked_S  \n",
       "0             0           1  \n",
       "1             0           0  \n",
       "2             0           1  \n",
       "3             0           1  \n",
       "4             0           1  \n",
       "..          ...         ...  \n",
       "886           0           1  \n",
       "887           0           1  \n",
       "888           0           1  \n",
       "889           0           0  \n",
       "890           1           0  \n",
       "\n",
       "[891 rows x 1731 columns]"
      ],
      "text/html": "<div>\n<style scoped>\n    .dataframe tbody tr th:only-of-type {\n        vertical-align: middle;\n    }\n\n    .dataframe tbody tr th {\n        vertical-align: top;\n    }\n\n    .dataframe thead th {\n        text-align: right;\n    }\n</style>\n<table border=\"1\" class=\"dataframe\">\n  <thead>\n    <tr style=\"text-align: right;\">\n      <th></th>\n      <th>PassengerId</th>\n      <th>Survived</th>\n      <th>Pclass</th>\n      <th>Age</th>\n      <th>SibSp</th>\n      <th>Parch</th>\n      <th>Fare</th>\n      <th>Name_Abbing, Mr. Anthony</th>\n      <th>Name_Abbott, Mr. Rossmore Edward</th>\n      <th>Name_Abbott, Mrs. Stanton (Rosa Hunt)</th>\n      <th>...</th>\n      <th>Cabin_F G73</th>\n      <th>Cabin_F2</th>\n      <th>Cabin_F33</th>\n      <th>Cabin_F38</th>\n      <th>Cabin_F4</th>\n      <th>Cabin_G6</th>\n      <th>Cabin_T</th>\n      <th>Embarked_C</th>\n      <th>Embarked_Q</th>\n      <th>Embarked_S</th>\n    </tr>\n  </thead>\n  <tbody>\n    <tr>\n      <th>0</th>\n      <td>1</td>\n      <td>0</td>\n      <td>3</td>\n      <td>22.0</td>\n      <td>1</td>\n      <td>0</td>\n      <td>7.2500</td>\n      <td>0</td>\n      <td>0</td>\n      <td>0</td>\n      <td>...</td>\n      <td>0</td>\n      <td>0</td>\n      <td>0</td>\n      <td>0</td>\n      <td>0</td>\n      <td>0</td>\n      <td>0</td>\n      <td>0</td>\n      <td>0</td>\n      <td>1</td>\n    </tr>\n    <tr>\n      <th>1</th>\n      <td>2</td>\n      <td>1</td>\n      <td>1</td>\n      <td>38.0</td>\n      <td>1</td>\n      <td>0</td>\n      <td>71.2833</td>\n      <td>0</td>\n      <td>0</td>\n      <td>0</td>\n      <td>...</td>\n      <td>0</td>\n      <td>0</td>\n      <td>0</td>\n      <td>0</td>\n      <td>0</td>\n      <td>0</td>\n      <td>0</td>\n      <td>1</td>\n      <td>0</td>\n      <td>0</td>\n    </tr>\n    <tr>\n      <th>2</th>\n      <td>3</td>\n      <td>1</td>\n      <td>3</td>\n      <td>26.0</td>\n      <td>0</td>\n      <td>0</td>\n      <td>7.9250</td>\n      <td>0</td>\n      <td>0</td>\n      <td>0</td>\n      <td>...</td>\n      <td>0</td>\n      <td>0</td>\n      <td>0</td>\n      <td>0</td>\n      <td>0</td>\n      <td>0</td>\n      <td>0</td>\n      <td>0</td>\n      <td>0</td>\n      <td>1</td>\n    </tr>\n    <tr>\n      <th>3</th>\n      <td>4</td>\n      <td>1</td>\n      <td>1</td>\n      <td>35.0</td>\n      <td>1</td>\n      <td>0</td>\n      <td>53.1000</td>\n      <td>0</td>\n      <td>0</td>\n      <td>0</td>\n      <td>...</td>\n      <td>0</td>\n      <td>0</td>\n      <td>0</td>\n      <td>0</td>\n      <td>0</td>\n      <td>0</td>\n      <td>0</td>\n      <td>0</td>\n      <td>0</td>\n      <td>1</td>\n    </tr>\n    <tr>\n      <th>4</th>\n      <td>5</td>\n      <td>0</td>\n      <td>3</td>\n      <td>35.0</td>\n      <td>0</td>\n      <td>0</td>\n      <td>8.0500</td>\n      <td>0</td>\n      <td>0</td>\n      <td>0</td>\n      <td>...</td>\n      <td>0</td>\n      <td>0</td>\n      <td>0</td>\n      <td>0</td>\n      <td>0</td>\n      <td>0</td>\n      <td>0</td>\n      <td>0</td>\n      <td>0</td>\n      <td>1</td>\n    </tr>\n    <tr>\n      <th>...</th>\n      <td>...</td>\n      <td>...</td>\n      <td>...</td>\n      <td>...</td>\n      <td>...</td>\n      <td>...</td>\n      <td>...</td>\n      <td>...</td>\n      <td>...</td>\n      <td>...</td>\n      <td>...</td>\n      <td>...</td>\n      <td>...</td>\n      <td>...</td>\n      <td>...</td>\n      <td>...</td>\n      <td>...</td>\n      <td>...</td>\n      <td>...</td>\n      <td>...</td>\n      <td>...</td>\n    </tr>\n    <tr>\n      <th>886</th>\n      <td>887</td>\n      <td>0</td>\n      <td>2</td>\n      <td>27.0</td>\n      <td>0</td>\n      <td>0</td>\n      <td>13.0000</td>\n      <td>0</td>\n      <td>0</td>\n      <td>0</td>\n      <td>...</td>\n      <td>0</td>\n      <td>0</td>\n      <td>0</td>\n      <td>0</td>\n      <td>0</td>\n      <td>0</td>\n      <td>0</td>\n      <td>0</td>\n      <td>0</td>\n      <td>1</td>\n    </tr>\n    <tr>\n      <th>887</th>\n      <td>888</td>\n      <td>1</td>\n      <td>1</td>\n      <td>19.0</td>\n      <td>0</td>\n      <td>0</td>\n      <td>30.0000</td>\n      <td>0</td>\n      <td>0</td>\n      <td>0</td>\n      <td>...</td>\n      <td>0</td>\n      <td>0</td>\n      <td>0</td>\n      <td>0</td>\n      <td>0</td>\n      <td>0</td>\n      <td>0</td>\n      <td>0</td>\n      <td>0</td>\n      <td>1</td>\n    </tr>\n    <tr>\n      <th>888</th>\n      <td>889</td>\n      <td>0</td>\n      <td>3</td>\n      <td>NaN</td>\n      <td>1</td>\n      <td>2</td>\n      <td>23.4500</td>\n      <td>0</td>\n      <td>0</td>\n      <td>0</td>\n      <td>...</td>\n      <td>0</td>\n      <td>0</td>\n      <td>0</td>\n      <td>0</td>\n      <td>0</td>\n      <td>0</td>\n      <td>0</td>\n      <td>0</td>\n      <td>0</td>\n      <td>1</td>\n    </tr>\n    <tr>\n      <th>889</th>\n      <td>890</td>\n      <td>1</td>\n      <td>1</td>\n      <td>26.0</td>\n      <td>0</td>\n      <td>0</td>\n      <td>30.0000</td>\n      <td>0</td>\n      <td>0</td>\n      <td>0</td>\n      <td>...</td>\n      <td>0</td>\n      <td>0</td>\n      <td>0</td>\n      <td>0</td>\n      <td>0</td>\n      <td>0</td>\n      <td>0</td>\n      <td>1</td>\n      <td>0</td>\n      <td>0</td>\n    </tr>\n    <tr>\n      <th>890</th>\n      <td>891</td>\n      <td>0</td>\n      <td>3</td>\n      <td>32.0</td>\n      <td>0</td>\n      <td>0</td>\n      <td>7.7500</td>\n      <td>0</td>\n      <td>0</td>\n      <td>0</td>\n      <td>...</td>\n      <td>0</td>\n      <td>0</td>\n      <td>0</td>\n      <td>0</td>\n      <td>0</td>\n      <td>0</td>\n      <td>0</td>\n      <td>0</td>\n      <td>1</td>\n      <td>0</td>\n    </tr>\n  </tbody>\n</table>\n<p>891 rows × 1731 columns</p>\n</div>"
     },
     "metadata": {},
     "execution_count": 22
    }
   ],
   "source": [
    "# one hot encoding\n",
    "\n",
    "train_data = pd.read_csv('../train.csv')\n",
    "train_data.head()\n",
    "\n",
    "pd.get_dummies(train_data)"
   ]
  },
  {
   "cell_type": "code",
   "execution_count": 23,
   "metadata": {},
   "outputs": [
    {
     "output_type": "execute_result",
     "data": {
      "text/plain": [
       "     PassengerId                                               Name     Sex  \\\n",
       "0              1                            Braund, Mr. Owen Harris    male   \n",
       "1              2  Cumings, Mrs. John Bradley (Florence Briggs Th...  female   \n",
       "2              3                             Heikkinen, Miss. Laina  female   \n",
       "3              4       Futrelle, Mrs. Jacques Heath (Lily May Peel)  female   \n",
       "4              5                           Allen, Mr. William Henry    male   \n",
       "..           ...                                                ...     ...   \n",
       "886          887                              Montvila, Rev. Juozas    male   \n",
       "887          888                       Graham, Miss. Margaret Edith  female   \n",
       "888          889           Johnston, Miss. Catherine Helen \"Carrie\"  female   \n",
       "889          890                              Behr, Mr. Karl Howell    male   \n",
       "890          891                                Dooley, Mr. Patrick    male   \n",
       "\n",
       "      Age  SibSp  Parch            Ticket     Fare Cabin  Pclass_1  Pclass_2  \\\n",
       "0    22.0      1      0         A/5 21171   7.2500   NaN         0         0   \n",
       "1    38.0      1      0          PC 17599  71.2833   C85         1         0   \n",
       "2    26.0      0      0  STON/O2. 3101282   7.9250   NaN         0         0   \n",
       "3    35.0      1      0            113803  53.1000  C123         1         0   \n",
       "4    35.0      0      0            373450   8.0500   NaN         0         0   \n",
       "..    ...    ...    ...               ...      ...   ...       ...       ...   \n",
       "886  27.0      0      0            211536  13.0000   NaN         0         1   \n",
       "887  19.0      0      0            112053  30.0000   B42         1         0   \n",
       "888   NaN      1      2        W./C. 6607  23.4500   NaN         0         0   \n",
       "889  26.0      0      0            111369  30.0000  C148         1         0   \n",
       "890  32.0      0      0            370376   7.7500   NaN         0         0   \n",
       "\n",
       "     Pclass_3  Survived_0  Survived_1  Embarked_C  Embarked_Q  Embarked_S  \n",
       "0           1           1           0           0           0           1  \n",
       "1           0           0           1           1           0           0  \n",
       "2           1           0           1           0           0           1  \n",
       "3           0           0           1           0           0           1  \n",
       "4           1           1           0           0           0           1  \n",
       "..        ...         ...         ...         ...         ...         ...  \n",
       "886         0           1           0           0           0           1  \n",
       "887         0           0           1           0           0           1  \n",
       "888         1           1           0           0           0           1  \n",
       "889         0           0           1           1           0           0  \n",
       "890         1           1           0           0           1           0  \n",
       "\n",
       "[891 rows x 17 columns]"
      ],
      "text/html": "<div>\n<style scoped>\n    .dataframe tbody tr th:only-of-type {\n        vertical-align: middle;\n    }\n\n    .dataframe tbody tr th {\n        vertical-align: top;\n    }\n\n    .dataframe thead th {\n        text-align: right;\n    }\n</style>\n<table border=\"1\" class=\"dataframe\">\n  <thead>\n    <tr style=\"text-align: right;\">\n      <th></th>\n      <th>PassengerId</th>\n      <th>Name</th>\n      <th>Sex</th>\n      <th>Age</th>\n      <th>SibSp</th>\n      <th>Parch</th>\n      <th>Ticket</th>\n      <th>Fare</th>\n      <th>Cabin</th>\n      <th>Pclass_1</th>\n      <th>Pclass_2</th>\n      <th>Pclass_3</th>\n      <th>Survived_0</th>\n      <th>Survived_1</th>\n      <th>Embarked_C</th>\n      <th>Embarked_Q</th>\n      <th>Embarked_S</th>\n    </tr>\n  </thead>\n  <tbody>\n    <tr>\n      <th>0</th>\n      <td>1</td>\n      <td>Braund, Mr. Owen Harris</td>\n      <td>male</td>\n      <td>22.0</td>\n      <td>1</td>\n      <td>0</td>\n      <td>A/5 21171</td>\n      <td>7.2500</td>\n      <td>NaN</td>\n      <td>0</td>\n      <td>0</td>\n      <td>1</td>\n      <td>1</td>\n      <td>0</td>\n      <td>0</td>\n      <td>0</td>\n      <td>1</td>\n    </tr>\n    <tr>\n      <th>1</th>\n      <td>2</td>\n      <td>Cumings, Mrs. John Bradley (Florence Briggs Th...</td>\n      <td>female</td>\n      <td>38.0</td>\n      <td>1</td>\n      <td>0</td>\n      <td>PC 17599</td>\n      <td>71.2833</td>\n      <td>C85</td>\n      <td>1</td>\n      <td>0</td>\n      <td>0</td>\n      <td>0</td>\n      <td>1</td>\n      <td>1</td>\n      <td>0</td>\n      <td>0</td>\n    </tr>\n    <tr>\n      <th>2</th>\n      <td>3</td>\n      <td>Heikkinen, Miss. Laina</td>\n      <td>female</td>\n      <td>26.0</td>\n      <td>0</td>\n      <td>0</td>\n      <td>STON/O2. 3101282</td>\n      <td>7.9250</td>\n      <td>NaN</td>\n      <td>0</td>\n      <td>0</td>\n      <td>1</td>\n      <td>0</td>\n      <td>1</td>\n      <td>0</td>\n      <td>0</td>\n      <td>1</td>\n    </tr>\n    <tr>\n      <th>3</th>\n      <td>4</td>\n      <td>Futrelle, Mrs. Jacques Heath (Lily May Peel)</td>\n      <td>female</td>\n      <td>35.0</td>\n      <td>1</td>\n      <td>0</td>\n      <td>113803</td>\n      <td>53.1000</td>\n      <td>C123</td>\n      <td>1</td>\n      <td>0</td>\n      <td>0</td>\n      <td>0</td>\n      <td>1</td>\n      <td>0</td>\n      <td>0</td>\n      <td>1</td>\n    </tr>\n    <tr>\n      <th>4</th>\n      <td>5</td>\n      <td>Allen, Mr. William Henry</td>\n      <td>male</td>\n      <td>35.0</td>\n      <td>0</td>\n      <td>0</td>\n      <td>373450</td>\n      <td>8.0500</td>\n      <td>NaN</td>\n      <td>0</td>\n      <td>0</td>\n      <td>1</td>\n      <td>1</td>\n      <td>0</td>\n      <td>0</td>\n      <td>0</td>\n      <td>1</td>\n    </tr>\n    <tr>\n      <th>...</th>\n      <td>...</td>\n      <td>...</td>\n      <td>...</td>\n      <td>...</td>\n      <td>...</td>\n      <td>...</td>\n      <td>...</td>\n      <td>...</td>\n      <td>...</td>\n      <td>...</td>\n      <td>...</td>\n      <td>...</td>\n      <td>...</td>\n      <td>...</td>\n      <td>...</td>\n      <td>...</td>\n      <td>...</td>\n    </tr>\n    <tr>\n      <th>886</th>\n      <td>887</td>\n      <td>Montvila, Rev. Juozas</td>\n      <td>male</td>\n      <td>27.0</td>\n      <td>0</td>\n      <td>0</td>\n      <td>211536</td>\n      <td>13.0000</td>\n      <td>NaN</td>\n      <td>0</td>\n      <td>1</td>\n      <td>0</td>\n      <td>1</td>\n      <td>0</td>\n      <td>0</td>\n      <td>0</td>\n      <td>1</td>\n    </tr>\n    <tr>\n      <th>887</th>\n      <td>888</td>\n      <td>Graham, Miss. Margaret Edith</td>\n      <td>female</td>\n      <td>19.0</td>\n      <td>0</td>\n      <td>0</td>\n      <td>112053</td>\n      <td>30.0000</td>\n      <td>B42</td>\n      <td>1</td>\n      <td>0</td>\n      <td>0</td>\n      <td>0</td>\n      <td>1</td>\n      <td>0</td>\n      <td>0</td>\n      <td>1</td>\n    </tr>\n    <tr>\n      <th>888</th>\n      <td>889</td>\n      <td>Johnston, Miss. Catherine Helen \"Carrie\"</td>\n      <td>female</td>\n      <td>NaN</td>\n      <td>1</td>\n      <td>2</td>\n      <td>W./C. 6607</td>\n      <td>23.4500</td>\n      <td>NaN</td>\n      <td>0</td>\n      <td>0</td>\n      <td>1</td>\n      <td>1</td>\n      <td>0</td>\n      <td>0</td>\n      <td>0</td>\n      <td>1</td>\n    </tr>\n    <tr>\n      <th>889</th>\n      <td>890</td>\n      <td>Behr, Mr. Karl Howell</td>\n      <td>male</td>\n      <td>26.0</td>\n      <td>0</td>\n      <td>0</td>\n      <td>111369</td>\n      <td>30.0000</td>\n      <td>C148</td>\n      <td>1</td>\n      <td>0</td>\n      <td>0</td>\n      <td>0</td>\n      <td>1</td>\n      <td>1</td>\n      <td>0</td>\n      <td>0</td>\n    </tr>\n    <tr>\n      <th>890</th>\n      <td>891</td>\n      <td>Dooley, Mr. Patrick</td>\n      <td>male</td>\n      <td>32.0</td>\n      <td>0</td>\n      <td>0</td>\n      <td>370376</td>\n      <td>7.7500</td>\n      <td>NaN</td>\n      <td>0</td>\n      <td>0</td>\n      <td>1</td>\n      <td>1</td>\n      <td>0</td>\n      <td>0</td>\n      <td>1</td>\n      <td>0</td>\n    </tr>\n  </tbody>\n</table>\n<p>891 rows × 17 columns</p>\n</div>"
     },
     "metadata": {},
     "execution_count": 23
    }
   ],
   "source": [
    "# 특정 열의 값들을 열로 추가해서 데이터 표현하기\n",
    "\n",
    "pd.get_dummies(train_data, columns=['Pclass', 'Survived', 'Embarked'])"
   ]
  },
  {
   "cell_type": "code",
   "execution_count": 24,
   "metadata": {},
   "outputs": [
    {
     "output_type": "execute_result",
     "data": {
      "text/plain": [
       "     PassengerId                                               Name     Sex  \\\n",
       "0              1                            Braund, Mr. Owen Harris    male   \n",
       "1              2  Cumings, Mrs. John Bradley (Florence Briggs Th...  female   \n",
       "2              3                             Heikkinen, Miss. Laina  female   \n",
       "3              4       Futrelle, Mrs. Jacques Heath (Lily May Peel)  female   \n",
       "4              5                           Allen, Mr. William Henry    male   \n",
       "..           ...                                                ...     ...   \n",
       "886          887                              Montvila, Rev. Juozas    male   \n",
       "887          888                       Graham, Miss. Margaret Edith  female   \n",
       "888          889           Johnston, Miss. Catherine Helen \"Carrie\"  female   \n",
       "889          890                              Behr, Mr. Karl Howell    male   \n",
       "890          891                                Dooley, Mr. Patrick    male   \n",
       "\n",
       "      Age  SibSp  Parch            Ticket     Fare Cabin  Pclass_2  Pclass_3  \\\n",
       "0    22.0      1      0         A/5 21171   7.2500   NaN         0         1   \n",
       "1    38.0      1      0          PC 17599  71.2833   C85         0         0   \n",
       "2    26.0      0      0  STON/O2. 3101282   7.9250   NaN         0         1   \n",
       "3    35.0      1      0            113803  53.1000  C123         0         0   \n",
       "4    35.0      0      0            373450   8.0500   NaN         0         1   \n",
       "..    ...    ...    ...               ...      ...   ...       ...       ...   \n",
       "886  27.0      0      0            211536  13.0000   NaN         1         0   \n",
       "887  19.0      0      0            112053  30.0000   B42         0         0   \n",
       "888   NaN      1      2        W./C. 6607  23.4500   NaN         0         1   \n",
       "889  26.0      0      0            111369  30.0000  C148         0         0   \n",
       "890  32.0      0      0            370376   7.7500   NaN         0         1   \n",
       "\n",
       "     Survived_1  Embarked_Q  Embarked_S  \n",
       "0             0           0           1  \n",
       "1             1           0           0  \n",
       "2             1           0           1  \n",
       "3             1           0           1  \n",
       "4             0           0           1  \n",
       "..          ...         ...         ...  \n",
       "886           0           0           1  \n",
       "887           1           0           1  \n",
       "888           0           0           1  \n",
       "889           1           0           0  \n",
       "890           0           1           0  \n",
       "\n",
       "[891 rows x 14 columns]"
      ],
      "text/html": "<div>\n<style scoped>\n    .dataframe tbody tr th:only-of-type {\n        vertical-align: middle;\n    }\n\n    .dataframe tbody tr th {\n        vertical-align: top;\n    }\n\n    .dataframe thead th {\n        text-align: right;\n    }\n</style>\n<table border=\"1\" class=\"dataframe\">\n  <thead>\n    <tr style=\"text-align: right;\">\n      <th></th>\n      <th>PassengerId</th>\n      <th>Name</th>\n      <th>Sex</th>\n      <th>Age</th>\n      <th>SibSp</th>\n      <th>Parch</th>\n      <th>Ticket</th>\n      <th>Fare</th>\n      <th>Cabin</th>\n      <th>Pclass_2</th>\n      <th>Pclass_3</th>\n      <th>Survived_1</th>\n      <th>Embarked_Q</th>\n      <th>Embarked_S</th>\n    </tr>\n  </thead>\n  <tbody>\n    <tr>\n      <th>0</th>\n      <td>1</td>\n      <td>Braund, Mr. Owen Harris</td>\n      <td>male</td>\n      <td>22.0</td>\n      <td>1</td>\n      <td>0</td>\n      <td>A/5 21171</td>\n      <td>7.2500</td>\n      <td>NaN</td>\n      <td>0</td>\n      <td>1</td>\n      <td>0</td>\n      <td>0</td>\n      <td>1</td>\n    </tr>\n    <tr>\n      <th>1</th>\n      <td>2</td>\n      <td>Cumings, Mrs. John Bradley (Florence Briggs Th...</td>\n      <td>female</td>\n      <td>38.0</td>\n      <td>1</td>\n      <td>0</td>\n      <td>PC 17599</td>\n      <td>71.2833</td>\n      <td>C85</td>\n      <td>0</td>\n      <td>0</td>\n      <td>1</td>\n      <td>0</td>\n      <td>0</td>\n    </tr>\n    <tr>\n      <th>2</th>\n      <td>3</td>\n      <td>Heikkinen, Miss. Laina</td>\n      <td>female</td>\n      <td>26.0</td>\n      <td>0</td>\n      <td>0</td>\n      <td>STON/O2. 3101282</td>\n      <td>7.9250</td>\n      <td>NaN</td>\n      <td>0</td>\n      <td>1</td>\n      <td>1</td>\n      <td>0</td>\n      <td>1</td>\n    </tr>\n    <tr>\n      <th>3</th>\n      <td>4</td>\n      <td>Futrelle, Mrs. Jacques Heath (Lily May Peel)</td>\n      <td>female</td>\n      <td>35.0</td>\n      <td>1</td>\n      <td>0</td>\n      <td>113803</td>\n      <td>53.1000</td>\n      <td>C123</td>\n      <td>0</td>\n      <td>0</td>\n      <td>1</td>\n      <td>0</td>\n      <td>1</td>\n    </tr>\n    <tr>\n      <th>4</th>\n      <td>5</td>\n      <td>Allen, Mr. William Henry</td>\n      <td>male</td>\n      <td>35.0</td>\n      <td>0</td>\n      <td>0</td>\n      <td>373450</td>\n      <td>8.0500</td>\n      <td>NaN</td>\n      <td>0</td>\n      <td>1</td>\n      <td>0</td>\n      <td>0</td>\n      <td>1</td>\n    </tr>\n    <tr>\n      <th>...</th>\n      <td>...</td>\n      <td>...</td>\n      <td>...</td>\n      <td>...</td>\n      <td>...</td>\n      <td>...</td>\n      <td>...</td>\n      <td>...</td>\n      <td>...</td>\n      <td>...</td>\n      <td>...</td>\n      <td>...</td>\n      <td>...</td>\n      <td>...</td>\n    </tr>\n    <tr>\n      <th>886</th>\n      <td>887</td>\n      <td>Montvila, Rev. Juozas</td>\n      <td>male</td>\n      <td>27.0</td>\n      <td>0</td>\n      <td>0</td>\n      <td>211536</td>\n      <td>13.0000</td>\n      <td>NaN</td>\n      <td>1</td>\n      <td>0</td>\n      <td>0</td>\n      <td>0</td>\n      <td>1</td>\n    </tr>\n    <tr>\n      <th>887</th>\n      <td>888</td>\n      <td>Graham, Miss. Margaret Edith</td>\n      <td>female</td>\n      <td>19.0</td>\n      <td>0</td>\n      <td>0</td>\n      <td>112053</td>\n      <td>30.0000</td>\n      <td>B42</td>\n      <td>0</td>\n      <td>0</td>\n      <td>1</td>\n      <td>0</td>\n      <td>1</td>\n    </tr>\n    <tr>\n      <th>888</th>\n      <td>889</td>\n      <td>Johnston, Miss. Catherine Helen \"Carrie\"</td>\n      <td>female</td>\n      <td>NaN</td>\n      <td>1</td>\n      <td>2</td>\n      <td>W./C. 6607</td>\n      <td>23.4500</td>\n      <td>NaN</td>\n      <td>0</td>\n      <td>1</td>\n      <td>0</td>\n      <td>0</td>\n      <td>1</td>\n    </tr>\n    <tr>\n      <th>889</th>\n      <td>890</td>\n      <td>Behr, Mr. Karl Howell</td>\n      <td>male</td>\n      <td>26.0</td>\n      <td>0</td>\n      <td>0</td>\n      <td>111369</td>\n      <td>30.0000</td>\n      <td>C148</td>\n      <td>0</td>\n      <td>0</td>\n      <td>1</td>\n      <td>0</td>\n      <td>0</td>\n    </tr>\n    <tr>\n      <th>890</th>\n      <td>891</td>\n      <td>Dooley, Mr. Patrick</td>\n      <td>male</td>\n      <td>32.0</td>\n      <td>0</td>\n      <td>0</td>\n      <td>370376</td>\n      <td>7.7500</td>\n      <td>NaN</td>\n      <td>0</td>\n      <td>1</td>\n      <td>0</td>\n      <td>1</td>\n      <td>0</td>\n    </tr>\n  </tbody>\n</table>\n<p>891 rows × 14 columns</p>\n</div>"
     },
     "metadata": {},
     "execution_count": 24
    }
   ],
   "source": [
    "# drop_first 는 첫번째 범주의 값의 열을 제거하고 나머지 값들만 열로 추출해서 출력 \n",
    "\n",
    "pd.get_dummies(train_data, columns=['Pclass', 'Survived', 'Embarked'], drop_first=True)"
   ]
  },
  {
   "cell_type": "markdown",
   "metadata": {},
   "source": [
    "## corr"
   ]
  },
  {
   "cell_type": "code",
   "execution_count": 25,
   "metadata": {},
   "outputs": [
    {
     "output_type": "execute_result",
     "data": {
      "text/plain": [
       "<matplotlib.image.AxesImage at 0x7f86856e9f60>"
      ]
     },
     "metadata": {},
     "execution_count": 25
    },
    {
     "output_type": "display_data",
     "data": {
      "text/plain": "<Figure size 288x288 with 1 Axes>",
      "image/svg+xml": "<?xml version=\"1.0\" encoding=\"utf-8\" standalone=\"no\"?>\n<!DOCTYPE svg PUBLIC \"-//W3C//DTD SVG 1.1//EN\"\n  \"http://www.w3.org/Graphics/SVG/1.1/DTD/svg11.dtd\">\n<!-- Created with matplotlib (https://matplotlib.org/) -->\n<svg height=\"257.778125pt\" version=\"1.1\" viewBox=\"0 0 250.9625 257.778125\" width=\"250.9625pt\" xmlns=\"http://www.w3.org/2000/svg\" xmlns:xlink=\"http://www.w3.org/1999/xlink\">\n <metadata>\n  <rdf:RDF xmlns:cc=\"http://creativecommons.org/ns#\" xmlns:dc=\"http://purl.org/dc/elements/1.1/\" xmlns:rdf=\"http://www.w3.org/1999/02/22-rdf-syntax-ns#\">\n   <cc:Work>\n    <dc:type rdf:resource=\"http://purl.org/dc/dcmitype/StillImage\"/>\n    <dc:date>2021-01-24T22:15:05.415128</dc:date>\n    <dc:format>image/svg+xml</dc:format>\n    <dc:creator>\n     <cc:Agent>\n      <dc:title>Matplotlib v3.3.3, https://matplotlib.org/</dc:title>\n     </cc:Agent>\n    </dc:creator>\n   </cc:Work>\n  </rdf:RDF>\n </metadata>\n <defs>\n  <style type=\"text/css\">*{stroke-linecap:butt;stroke-linejoin:round;}</style>\n </defs>\n <g id=\"figure_1\">\n  <g id=\"patch_1\">\n   <path d=\"M 0 257.778125 \nL 250.9625 257.778125 \nL 250.9625 0 \nL 0 0 \nz\n\" style=\"fill:none;\"/>\n  </g>\n  <g id=\"axes_1\">\n   <g id=\"patch_2\">\n    <path d=\"M 20.5625 247.078125 \nL 243.7625 247.078125 \nL 243.7625 23.878125 \nL 20.5625 23.878125 \nz\n\" style=\"fill:#ffffff;\"/>\n   </g>\n   <g clip-path=\"url(#p826a4636cc)\">\n    <image height=\"224\" id=\"image2ba2d9755b\" transform=\"scale(1 -1)translate(0 -224)\" width=\"224\" x=\"20.5625\" xlink:href=\"data:image/png;base64,\niVBORw0KGgoAAAANSUhEUgAAAOAAAADgCAYAAAAaLWrhAAADn0lEQVR4nO3dP6sNcBzH8XOcc7knIrlYlOVKKclEd7NdBoMMlMUm6T4As4wmgwegGGTEZlMmWZTYkO71L6Kj+8f1MN7Dfb2ewOecznn3G7/D40t3NgehX0c3yvnBkRsv0/2PNxfS/fWd6c8/2Jht999fvpfub0vXYYsTIIQECCEBQkiAEBIghAQIIQFCSIAQEiCEBAghAUJIgBASIIQECCEBQkiAEBIghAQIIQFCSIAQEiCEBAghAUJIgBASIIQECCEBQkiAEBIghAQIofHwX/sBJp9G6f7yUnufb//rtXR/5eo03X+7cD/dn39wLd33AkJIgBASIIQECCEBQkiAEBIghAQIIQFCSIAQEiCEBAghAUJIgBASIIQECCEBQkiAEBIghAQIIQFCSIAQEiCEBAghAUJIgBASIIQECCEBQkiAEBIghMbj6Wb6AUar6fxgOjdM92eX2/t8b+L7fMdeXEn3R3/b398LCCEBQkiAEBIghAQIIQFCSIAQEiCEBAghAUJIgBASIIQECCEBQkiAEBIghAQIIQFCSIAQEiCEBAghAUJIgBASIIQECCEBQkiAEBIghAQIIQFCSIAQGq/uae+j7fje3ic8/Hgl3X/y/FG6v3i+vc934OAk3f9ywn1A2LIECCEBQkiAEBIghAQIIQFCSIAQEiCEBAghAUJIgBASIIQECCEBQkiAEBIghAQIIQFCSIAQEiCEBAghAUJIgBASIIQECCEBQkiAEBIghAQIIQFCaDzzu73Pt+/Vj3S/vs937szFdP/Dhd3p/syfdH5w6PaLdN8LCCEBQkiAEBIghAQIIQFCSIAQEiCEBAghAUJIgBASIIQECCEBQkiAEBIghAQIIQFCSIAQEiCEBAghAUJIgBASIIQECCEBQkiAEBIghAQIIQFCSIAQGm/MDNMP8PTZw3T/7OKldP/b6b3p/uRrex9yOtf+/97dPZXuewEhJEAICRBCAoSQACEkQAgJEEIChJAAISRACAkQQgKEkAAhJEAICRBCAoSQACEkQAgJEEIChJAAISRACAkQQgKEkAAhJEAICRBCAoSQACEkQAgJEELDjc/z6YG4k7eul/OD0Vp7H29tV3sfb/vP9vuvT9rvvxk/QV5ACAkQQgKEkAAhJEAICRBCAoSQACEkQAgJEEIChJAAISRACAkQQgKEkAAhJEAICRBCAoSQACEkQAgJEEIChJAAISRACAkQQgKEkAAhJEAICRBCAoTQf8yrS9PpLP4NAAAAAElFTkSuQmCC\" y=\"-23.078125\"/>\n   </g>\n   <g id=\"matplotlib.axis_1\">\n    <g id=\"xtick_1\">\n     <g id=\"line2d_1\">\n      <defs>\n       <path d=\"M 0 0 \nL 0 3.5 \n\" id=\"m9c55f34f71\" style=\"stroke:#000000;stroke-width:0.8;\"/>\n      </defs>\n      <g>\n       <use style=\"stroke:#000000;stroke-width:0.8;\" x=\"36.505357\" xlink:href=\"#m9c55f34f71\" y=\"247.078125\"/>\n      </g>\n     </g>\n     <g id=\"line2d_2\">\n      <defs>\n       <path d=\"M 0 0 \nL 0 -3.5 \n\" id=\"mddb6791649\" style=\"stroke:#000000;stroke-width:0.8;\"/>\n      </defs>\n      <g>\n       <use style=\"stroke:#000000;stroke-width:0.8;\" x=\"36.505357\" xlink:href=\"#mddb6791649\" y=\"23.878125\"/>\n      </g>\n     </g>\n     <g id=\"text_1\">\n      <!-- 0 -->\n      <g transform=\"translate(33.324107 14.798438)scale(0.1 -0.1)\">\n       <defs>\n        <path d=\"M 31.78125 66.40625 \nQ 24.171875 66.40625 20.328125 58.90625 \nQ 16.5 51.421875 16.5 36.375 \nQ 16.5 21.390625 20.328125 13.890625 \nQ 24.171875 6.390625 31.78125 6.390625 \nQ 39.453125 6.390625 43.28125 13.890625 \nQ 47.125 21.390625 47.125 36.375 \nQ 47.125 51.421875 43.28125 58.90625 \nQ 39.453125 66.40625 31.78125 66.40625 \nz\nM 31.78125 74.21875 \nQ 44.046875 74.21875 50.515625 64.515625 \nQ 56.984375 54.828125 56.984375 36.375 \nQ 56.984375 17.96875 50.515625 8.265625 \nQ 44.046875 -1.421875 31.78125 -1.421875 \nQ 19.53125 -1.421875 13.0625 8.265625 \nQ 6.59375 17.96875 6.59375 36.375 \nQ 6.59375 54.828125 13.0625 64.515625 \nQ 19.53125 74.21875 31.78125 74.21875 \nz\n\" id=\"DejaVuSans-48\"/>\n       </defs>\n       <use xlink:href=\"#DejaVuSans-48\"/>\n      </g>\n     </g>\n    </g>\n    <g id=\"xtick_2\">\n     <g id=\"line2d_3\">\n      <g>\n       <use style=\"stroke:#000000;stroke-width:0.8;\" x=\"68.391071\" xlink:href=\"#m9c55f34f71\" y=\"247.078125\"/>\n      </g>\n     </g>\n     <g id=\"line2d_4\">\n      <g>\n       <use style=\"stroke:#000000;stroke-width:0.8;\" x=\"68.391071\" xlink:href=\"#mddb6791649\" y=\"23.878125\"/>\n      </g>\n     </g>\n     <g id=\"text_2\">\n      <!-- 1 -->\n      <g transform=\"translate(65.209821 14.798438)scale(0.1 -0.1)\">\n       <defs>\n        <path d=\"M 12.40625 8.296875 \nL 28.515625 8.296875 \nL 28.515625 63.921875 \nL 10.984375 60.40625 \nL 10.984375 69.390625 \nL 28.421875 72.90625 \nL 38.28125 72.90625 \nL 38.28125 8.296875 \nL 54.390625 8.296875 \nL 54.390625 0 \nL 12.40625 0 \nz\n\" id=\"DejaVuSans-49\"/>\n       </defs>\n       <use xlink:href=\"#DejaVuSans-49\"/>\n      </g>\n     </g>\n    </g>\n    <g id=\"xtick_3\">\n     <g id=\"line2d_5\">\n      <g>\n       <use style=\"stroke:#000000;stroke-width:0.8;\" x=\"100.276786\" xlink:href=\"#m9c55f34f71\" y=\"247.078125\"/>\n      </g>\n     </g>\n     <g id=\"line2d_6\">\n      <g>\n       <use style=\"stroke:#000000;stroke-width:0.8;\" x=\"100.276786\" xlink:href=\"#mddb6791649\" y=\"23.878125\"/>\n      </g>\n     </g>\n     <g id=\"text_3\">\n      <!-- 2 -->\n      <g transform=\"translate(97.095536 14.798438)scale(0.1 -0.1)\">\n       <defs>\n        <path d=\"M 19.1875 8.296875 \nL 53.609375 8.296875 \nL 53.609375 0 \nL 7.328125 0 \nL 7.328125 8.296875 \nQ 12.9375 14.109375 22.625 23.890625 \nQ 32.328125 33.6875 34.8125 36.53125 \nQ 39.546875 41.84375 41.421875 45.53125 \nQ 43.3125 49.21875 43.3125 52.78125 \nQ 43.3125 58.59375 39.234375 62.25 \nQ 35.15625 65.921875 28.609375 65.921875 \nQ 23.96875 65.921875 18.8125 64.3125 \nQ 13.671875 62.703125 7.8125 59.421875 \nL 7.8125 69.390625 \nQ 13.765625 71.78125 18.9375 73 \nQ 24.125 74.21875 28.421875 74.21875 \nQ 39.75 74.21875 46.484375 68.546875 \nQ 53.21875 62.890625 53.21875 53.421875 \nQ 53.21875 48.921875 51.53125 44.890625 \nQ 49.859375 40.875 45.40625 35.40625 \nQ 44.1875 33.984375 37.640625 27.21875 \nQ 31.109375 20.453125 19.1875 8.296875 \nz\n\" id=\"DejaVuSans-50\"/>\n       </defs>\n       <use xlink:href=\"#DejaVuSans-50\"/>\n      </g>\n     </g>\n    </g>\n    <g id=\"xtick_4\">\n     <g id=\"line2d_7\">\n      <g>\n       <use style=\"stroke:#000000;stroke-width:0.8;\" x=\"132.1625\" xlink:href=\"#m9c55f34f71\" y=\"247.078125\"/>\n      </g>\n     </g>\n     <g id=\"line2d_8\">\n      <g>\n       <use style=\"stroke:#000000;stroke-width:0.8;\" x=\"132.1625\" xlink:href=\"#mddb6791649\" y=\"23.878125\"/>\n      </g>\n     </g>\n     <g id=\"text_4\">\n      <!-- 3 -->\n      <g transform=\"translate(128.98125 14.798438)scale(0.1 -0.1)\">\n       <defs>\n        <path d=\"M 40.578125 39.3125 \nQ 47.65625 37.796875 51.625 33 \nQ 55.609375 28.21875 55.609375 21.1875 \nQ 55.609375 10.40625 48.1875 4.484375 \nQ 40.765625 -1.421875 27.09375 -1.421875 \nQ 22.515625 -1.421875 17.65625 -0.515625 \nQ 12.796875 0.390625 7.625 2.203125 \nL 7.625 11.71875 \nQ 11.71875 9.328125 16.59375 8.109375 \nQ 21.484375 6.890625 26.8125 6.890625 \nQ 36.078125 6.890625 40.9375 10.546875 \nQ 45.796875 14.203125 45.796875 21.1875 \nQ 45.796875 27.640625 41.28125 31.265625 \nQ 36.765625 34.90625 28.71875 34.90625 \nL 20.21875 34.90625 \nL 20.21875 43.015625 \nL 29.109375 43.015625 \nQ 36.375 43.015625 40.234375 45.921875 \nQ 44.09375 48.828125 44.09375 54.296875 \nQ 44.09375 59.90625 40.109375 62.90625 \nQ 36.140625 65.921875 28.71875 65.921875 \nQ 24.65625 65.921875 20.015625 65.03125 \nQ 15.375 64.15625 9.8125 62.3125 \nL 9.8125 71.09375 \nQ 15.4375 72.65625 20.34375 73.4375 \nQ 25.25 74.21875 29.59375 74.21875 \nQ 40.828125 74.21875 47.359375 69.109375 \nQ 53.90625 64.015625 53.90625 55.328125 \nQ 53.90625 49.265625 50.4375 45.09375 \nQ 46.96875 40.921875 40.578125 39.3125 \nz\n\" id=\"DejaVuSans-51\"/>\n       </defs>\n       <use xlink:href=\"#DejaVuSans-51\"/>\n      </g>\n     </g>\n    </g>\n    <g id=\"xtick_5\">\n     <g id=\"line2d_9\">\n      <g>\n       <use style=\"stroke:#000000;stroke-width:0.8;\" x=\"164.048214\" xlink:href=\"#m9c55f34f71\" y=\"247.078125\"/>\n      </g>\n     </g>\n     <g id=\"line2d_10\">\n      <g>\n       <use style=\"stroke:#000000;stroke-width:0.8;\" x=\"164.048214\" xlink:href=\"#mddb6791649\" y=\"23.878125\"/>\n      </g>\n     </g>\n     <g id=\"text_5\">\n      <!-- 4 -->\n      <g transform=\"translate(160.866964 14.798438)scale(0.1 -0.1)\">\n       <defs>\n        <path d=\"M 37.796875 64.3125 \nL 12.890625 25.390625 \nL 37.796875 25.390625 \nz\nM 35.203125 72.90625 \nL 47.609375 72.90625 \nL 47.609375 25.390625 \nL 58.015625 25.390625 \nL 58.015625 17.1875 \nL 47.609375 17.1875 \nL 47.609375 0 \nL 37.796875 0 \nL 37.796875 17.1875 \nL 4.890625 17.1875 \nL 4.890625 26.703125 \nz\n\" id=\"DejaVuSans-52\"/>\n       </defs>\n       <use xlink:href=\"#DejaVuSans-52\"/>\n      </g>\n     </g>\n    </g>\n    <g id=\"xtick_6\">\n     <g id=\"line2d_11\">\n      <g>\n       <use style=\"stroke:#000000;stroke-width:0.8;\" x=\"195.933929\" xlink:href=\"#m9c55f34f71\" y=\"247.078125\"/>\n      </g>\n     </g>\n     <g id=\"line2d_12\">\n      <g>\n       <use style=\"stroke:#000000;stroke-width:0.8;\" x=\"195.933929\" xlink:href=\"#mddb6791649\" y=\"23.878125\"/>\n      </g>\n     </g>\n     <g id=\"text_6\">\n      <!-- 5 -->\n      <g transform=\"translate(192.752679 14.798438)scale(0.1 -0.1)\">\n       <defs>\n        <path d=\"M 10.796875 72.90625 \nL 49.515625 72.90625 \nL 49.515625 64.59375 \nL 19.828125 64.59375 \nL 19.828125 46.734375 \nQ 21.96875 47.46875 24.109375 47.828125 \nQ 26.265625 48.1875 28.421875 48.1875 \nQ 40.625 48.1875 47.75 41.5 \nQ 54.890625 34.8125 54.890625 23.390625 \nQ 54.890625 11.625 47.5625 5.09375 \nQ 40.234375 -1.421875 26.90625 -1.421875 \nQ 22.3125 -1.421875 17.546875 -0.640625 \nQ 12.796875 0.140625 7.71875 1.703125 \nL 7.71875 11.625 \nQ 12.109375 9.234375 16.796875 8.0625 \nQ 21.484375 6.890625 26.703125 6.890625 \nQ 35.15625 6.890625 40.078125 11.328125 \nQ 45.015625 15.765625 45.015625 23.390625 \nQ 45.015625 31 40.078125 35.4375 \nQ 35.15625 39.890625 26.703125 39.890625 \nQ 22.75 39.890625 18.8125 39.015625 \nQ 14.890625 38.140625 10.796875 36.28125 \nz\n\" id=\"DejaVuSans-53\"/>\n       </defs>\n       <use xlink:href=\"#DejaVuSans-53\"/>\n      </g>\n     </g>\n    </g>\n    <g id=\"xtick_7\">\n     <g id=\"line2d_13\">\n      <g>\n       <use style=\"stroke:#000000;stroke-width:0.8;\" x=\"227.819643\" xlink:href=\"#m9c55f34f71\" y=\"247.078125\"/>\n      </g>\n     </g>\n     <g id=\"line2d_14\">\n      <g>\n       <use style=\"stroke:#000000;stroke-width:0.8;\" x=\"227.819643\" xlink:href=\"#mddb6791649\" y=\"23.878125\"/>\n      </g>\n     </g>\n     <g id=\"text_7\">\n      <!-- 6 -->\n      <g transform=\"translate(224.638393 14.798438)scale(0.1 -0.1)\">\n       <defs>\n        <path d=\"M 33.015625 40.375 \nQ 26.375 40.375 22.484375 35.828125 \nQ 18.609375 31.296875 18.609375 23.390625 \nQ 18.609375 15.53125 22.484375 10.953125 \nQ 26.375 6.390625 33.015625 6.390625 \nQ 39.65625 6.390625 43.53125 10.953125 \nQ 47.40625 15.53125 47.40625 23.390625 \nQ 47.40625 31.296875 43.53125 35.828125 \nQ 39.65625 40.375 33.015625 40.375 \nz\nM 52.59375 71.296875 \nL 52.59375 62.3125 \nQ 48.875 64.0625 45.09375 64.984375 \nQ 41.3125 65.921875 37.59375 65.921875 \nQ 27.828125 65.921875 22.671875 59.328125 \nQ 17.53125 52.734375 16.796875 39.40625 \nQ 19.671875 43.65625 24.015625 45.921875 \nQ 28.375 48.1875 33.59375 48.1875 \nQ 44.578125 48.1875 50.953125 41.515625 \nQ 57.328125 34.859375 57.328125 23.390625 \nQ 57.328125 12.15625 50.6875 5.359375 \nQ 44.046875 -1.421875 33.015625 -1.421875 \nQ 20.359375 -1.421875 13.671875 8.265625 \nQ 6.984375 17.96875 6.984375 36.375 \nQ 6.984375 53.65625 15.1875 63.9375 \nQ 23.390625 74.21875 37.203125 74.21875 \nQ 40.921875 74.21875 44.703125 73.484375 \nQ 48.484375 72.75 52.59375 71.296875 \nz\n\" id=\"DejaVuSans-54\"/>\n       </defs>\n       <use xlink:href=\"#DejaVuSans-54\"/>\n      </g>\n     </g>\n    </g>\n   </g>\n   <g id=\"matplotlib.axis_2\">\n    <g id=\"ytick_1\">\n     <g id=\"line2d_15\">\n      <defs>\n       <path d=\"M 0 0 \nL -3.5 0 \n\" id=\"mbf2f591294\" style=\"stroke:#000000;stroke-width:0.8;\"/>\n      </defs>\n      <g>\n       <use style=\"stroke:#000000;stroke-width:0.8;\" x=\"20.5625\" xlink:href=\"#mbf2f591294\" y=\"39.820982\"/>\n      </g>\n     </g>\n     <g id=\"text_8\">\n      <!-- 0 -->\n      <g transform=\"translate(7.2 43.620201)scale(0.1 -0.1)\">\n       <use xlink:href=\"#DejaVuSans-48\"/>\n      </g>\n     </g>\n    </g>\n    <g id=\"ytick_2\">\n     <g id=\"line2d_16\">\n      <g>\n       <use style=\"stroke:#000000;stroke-width:0.8;\" x=\"20.5625\" xlink:href=\"#mbf2f591294\" y=\"71.706696\"/>\n      </g>\n     </g>\n     <g id=\"text_9\">\n      <!-- 1 -->\n      <g transform=\"translate(7.2 75.505915)scale(0.1 -0.1)\">\n       <use xlink:href=\"#DejaVuSans-49\"/>\n      </g>\n     </g>\n    </g>\n    <g id=\"ytick_3\">\n     <g id=\"line2d_17\">\n      <g>\n       <use style=\"stroke:#000000;stroke-width:0.8;\" x=\"20.5625\" xlink:href=\"#mbf2f591294\" y=\"103.592411\"/>\n      </g>\n     </g>\n     <g id=\"text_10\">\n      <!-- 2 -->\n      <g transform=\"translate(7.2 107.391629)scale(0.1 -0.1)\">\n       <use xlink:href=\"#DejaVuSans-50\"/>\n      </g>\n     </g>\n    </g>\n    <g id=\"ytick_4\">\n     <g id=\"line2d_18\">\n      <g>\n       <use style=\"stroke:#000000;stroke-width:0.8;\" x=\"20.5625\" xlink:href=\"#mbf2f591294\" y=\"135.478125\"/>\n      </g>\n     </g>\n     <g id=\"text_11\">\n      <!-- 3 -->\n      <g transform=\"translate(7.2 139.277344)scale(0.1 -0.1)\">\n       <use xlink:href=\"#DejaVuSans-51\"/>\n      </g>\n     </g>\n    </g>\n    <g id=\"ytick_5\">\n     <g id=\"line2d_19\">\n      <g>\n       <use style=\"stroke:#000000;stroke-width:0.8;\" x=\"20.5625\" xlink:href=\"#mbf2f591294\" y=\"167.363839\"/>\n      </g>\n     </g>\n     <g id=\"text_12\">\n      <!-- 4 -->\n      <g transform=\"translate(7.2 171.163058)scale(0.1 -0.1)\">\n       <use xlink:href=\"#DejaVuSans-52\"/>\n      </g>\n     </g>\n    </g>\n    <g id=\"ytick_6\">\n     <g id=\"line2d_20\">\n      <g>\n       <use style=\"stroke:#000000;stroke-width:0.8;\" x=\"20.5625\" xlink:href=\"#mbf2f591294\" y=\"199.249554\"/>\n      </g>\n     </g>\n     <g id=\"text_13\">\n      <!-- 5 -->\n      <g transform=\"translate(7.2 203.048772)scale(0.1 -0.1)\">\n       <use xlink:href=\"#DejaVuSans-53\"/>\n      </g>\n     </g>\n    </g>\n    <g id=\"ytick_7\">\n     <g id=\"line2d_21\">\n      <g>\n       <use style=\"stroke:#000000;stroke-width:0.8;\" x=\"20.5625\" xlink:href=\"#mbf2f591294\" y=\"231.135268\"/>\n      </g>\n     </g>\n     <g id=\"text_14\">\n      <!-- 6 -->\n      <g transform=\"translate(7.2 234.934487)scale(0.1 -0.1)\">\n       <use xlink:href=\"#DejaVuSans-54\"/>\n      </g>\n     </g>\n    </g>\n   </g>\n   <g id=\"patch_3\">\n    <path d=\"M 20.5625 247.078125 \nL 20.5625 23.878125 \n\" style=\"fill:none;stroke:#000000;stroke-linecap:square;stroke-linejoin:miter;stroke-width:0.8;\"/>\n   </g>\n   <g id=\"patch_4\">\n    <path d=\"M 243.7625 247.078125 \nL 243.7625 23.878125 \n\" style=\"fill:none;stroke:#000000;stroke-linecap:square;stroke-linejoin:miter;stroke-width:0.8;\"/>\n   </g>\n   <g id=\"patch_5\">\n    <path d=\"M 20.5625 247.078125 \nL 243.7625 247.078125 \n\" style=\"fill:none;stroke:#000000;stroke-linecap:square;stroke-linejoin:miter;stroke-width:0.8;\"/>\n   </g>\n   <g id=\"patch_6\">\n    <path d=\"M 20.5625 23.878125 \nL 243.7625 23.878125 \n\" style=\"fill:none;stroke:#000000;stroke-linecap:square;stroke-linejoin:miter;stroke-width:0.8;\"/>\n   </g>\n  </g>\n </g>\n <defs>\n  <clipPath id=\"p826a4636cc\">\n   <rect height=\"223.2\" width=\"223.2\" x=\"20.5625\" y=\"23.878125\"/>\n  </clipPath>\n </defs>\n</svg>\n",
      "image/png": "[encoded data removed]"
     },
     "metadata": {
      "needs_background": "light"
     }
    }
   ],
   "source": [
    "# 데이터 간의 상관관계를 표시 \n",
    "\n",
    "train_data = pd.read_csv('../train.csv')\n",
    "train_data.head()\n",
    "\n",
    "corr = train_data.corr()\n",
    "\n",
    "plt.matshow(corr)"
   ]
  },
  {
   "cell_type": "markdown",
   "metadata": {},
   "source": [
    "## groups"
   ]
  },
  {
   "cell_type": "code",
   "execution_count": 26,
   "metadata": {},
   "outputs": [
    {
     "output_type": "execute_result",
     "data": {
      "text/plain": [
       "{1: [1, 3, 6, 11, 23, 27, 30, 31, 34, 35, 52, 54, 55, 61, 62, 64, 83, 88, 92, 96, 97, 102, 110, 118, 124, 136, 137, 139, 151, 155, 166, 168, 170, 174, 177, 185, 187, 194, 195, 209, 215, 218, 224, 230, 245, 248, 252, 256, 257, 258, 262, 263, 268, 269, 270, 273, 275, 284, 290, 291, 295, 297, 298, 299, 305, 306, 307, 309, 310, 311, 318, 319, 325, 329, 331, 332, 334, 336, 337, 339, 341, 351, 356, 366, 369, 370, 373, 375, 377, 380, 383, 390, 393, 412, 430, 434, 435, 438, 445, 447, ...], 2: [9, 15, 17, 20, 21, 33, 41, 43, 53, 56, 58, 66, 70, 72, 78, 84, 98, 99, 117, 120, 122, 123, 133, 134, 135, 144, 145, 148, 149, 150, 161, 178, 181, 183, 190, 191, 193, 199, 211, 213, 217, 219, 221, 226, 228, 232, 234, 236, 237, 238, 239, 242, 247, 249, 259, 265, 272, 277, 288, 292, 303, 308, 312, 314, 316, 317, 322, 323, 327, 340, 342, 343, 344, 345, 346, 357, 361, 385, 387, 389, 397, 398, 399, 405, 407, 413, 416, 417, 418, 426, 427, 432, 437, 439, 440, 443, 446, 450, 458, 463, ...], 3: [0, 2, 4, 5, 7, 8, 10, 12, 13, 14, 16, 18, 19, 22, 24, 25, 26, 28, 29, 32, 36, 37, 38, 39, 40, 42, 44, 45, 46, 47, 48, 49, 50, 51, 57, 59, 60, 63, 65, 67, 68, 69, 71, 73, 74, 75, 76, 77, 79, 80, 81, 82, 85, 86, 87, 89, 90, 91, 93, 94, 95, 100, 101, 103, 104, 105, 106, 107, 108, 109, 111, 112, 113, 114, 115, 116, 119, 121, 125, 126, 127, 128, 129, 130, 131, 132, 138, 140, 141, 142, 143, 146, 147, 152, 153, 154, 156, 157, 158, 159, ...]}"
      ]
     },
     "metadata": {},
     "execution_count": 26
    }
   ],
   "source": [
    "# groups 속성\n",
    "\n",
    "train_data = pd.read_csv('../train.csv')\n",
    "\n",
    "class_group = train_data.groupby('Pclass')\n",
    "class_group.groups"
   ]
  },
  {
   "cell_type": "markdown",
   "metadata": {},
   "source": [
    "### grouping 함수\n",
    "- 그룹 데이터에 적용 가능한 통계 함수(NaN은 제외한 연산)\n",
    "- count : 데이터 개수\n",
    "- sum : 데이터 합\n",
    "- mean, std, var : 평균, 표준편차, 분산\n",
    "- min, max : 최소, 최대"
   ]
  },
  {
   "cell_type": "code",
   "execution_count": 27,
   "metadata": {},
   "outputs": [
    {
     "output_type": "execute_result",
     "data": {
      "text/plain": [
       "        PassengerId  Survived  Name  Sex  Age  SibSp  Parch  Ticket  Fare  \\\n",
       "Pclass                                                                      \n",
       "1               216       216   216  216  186    216    216     216   216   \n",
       "2               184       184   184  184  173    184    184     184   184   \n",
       "3               491       491   491  491  355    491    491     491   491   \n",
       "\n",
       "        Cabin  Embarked  \n",
       "Pclass                   \n",
       "1         176       214  \n",
       "2          16       184  \n",
       "3          12       491  "
      ],
      "text/html": "<div>\n<style scoped>\n    .dataframe tbody tr th:only-of-type {\n        vertical-align: middle;\n    }\n\n    .dataframe tbody tr th {\n        vertical-align: top;\n    }\n\n    .dataframe thead th {\n        text-align: right;\n    }\n</style>\n<table border=\"1\" class=\"dataframe\">\n  <thead>\n    <tr style=\"text-align: right;\">\n      <th></th>\n      <th>PassengerId</th>\n      <th>Survived</th>\n      <th>Name</th>\n      <th>Sex</th>\n      <th>Age</th>\n      <th>SibSp</th>\n      <th>Parch</th>\n      <th>Ticket</th>\n      <th>Fare</th>\n      <th>Cabin</th>\n      <th>Embarked</th>\n    </tr>\n    <tr>\n      <th>Pclass</th>\n      <th></th>\n      <th></th>\n      <th></th>\n      <th></th>\n      <th></th>\n      <th></th>\n      <th></th>\n      <th></th>\n      <th></th>\n      <th></th>\n      <th></th>\n    </tr>\n  </thead>\n  <tbody>\n    <tr>\n      <th>1</th>\n      <td>216</td>\n      <td>216</td>\n      <td>216</td>\n      <td>216</td>\n      <td>186</td>\n      <td>216</td>\n      <td>216</td>\n      <td>216</td>\n      <td>216</td>\n      <td>176</td>\n      <td>214</td>\n    </tr>\n    <tr>\n      <th>2</th>\n      <td>184</td>\n      <td>184</td>\n      <td>184</td>\n      <td>184</td>\n      <td>173</td>\n      <td>184</td>\n      <td>184</td>\n      <td>184</td>\n      <td>184</td>\n      <td>16</td>\n      <td>184</td>\n    </tr>\n    <tr>\n      <th>3</th>\n      <td>491</td>\n      <td>491</td>\n      <td>491</td>\n      <td>491</td>\n      <td>355</td>\n      <td>491</td>\n      <td>491</td>\n      <td>491</td>\n      <td>491</td>\n      <td>12</td>\n      <td>491</td>\n    </tr>\n  </tbody>\n</table>\n</div>"
     },
     "metadata": {},
     "execution_count": 27
    }
   ],
   "source": [
    "class_group.count()"
   ]
  },
  {
   "cell_type": "code",
   "execution_count": 28,
   "metadata": {},
   "outputs": [
    {
     "output_type": "execute_result",
     "data": {
      "text/plain": [
       "        PassengerId  Survived      Age  SibSp  Parch        Fare\n",
       "Pclass                                                          \n",
       "1             99705       136  7111.42     90     77  18177.4125\n",
       "2             82056        87  5168.83     74     70   3801.8417\n",
       "3            215625       119  8924.92    302    193   6714.6951"
      ],
      "text/html": "<div>\n<style scoped>\n    .dataframe tbody tr th:only-of-type {\n        vertical-align: middle;\n    }\n\n    .dataframe tbody tr th {\n        vertical-align: top;\n    }\n\n    .dataframe thead th {\n        text-align: right;\n    }\n</style>\n<table border=\"1\" class=\"dataframe\">\n  <thead>\n    <tr style=\"text-align: right;\">\n      <th></th>\n      <th>PassengerId</th>\n      <th>Survived</th>\n      <th>Age</th>\n      <th>SibSp</th>\n      <th>Parch</th>\n      <th>Fare</th>\n    </tr>\n    <tr>\n      <th>Pclass</th>\n      <th></th>\n      <th></th>\n      <th></th>\n      <th></th>\n      <th></th>\n      <th></th>\n    </tr>\n  </thead>\n  <tbody>\n    <tr>\n      <th>1</th>\n      <td>99705</td>\n      <td>136</td>\n      <td>7111.42</td>\n      <td>90</td>\n      <td>77</td>\n      <td>18177.4125</td>\n    </tr>\n    <tr>\n      <th>2</th>\n      <td>82056</td>\n      <td>87</td>\n      <td>5168.83</td>\n      <td>74</td>\n      <td>70</td>\n      <td>3801.8417</td>\n    </tr>\n    <tr>\n      <th>3</th>\n      <td>215625</td>\n      <td>119</td>\n      <td>8924.92</td>\n      <td>302</td>\n      <td>193</td>\n      <td>6714.6951</td>\n    </tr>\n  </tbody>\n</table>\n</div>"
     },
     "metadata": {},
     "execution_count": 28
    }
   ],
   "source": [
    "class_group.sum()"
   ]
  },
  {
   "cell_type": "code",
   "execution_count": 29,
   "metadata": {},
   "outputs": [
    {
     "output_type": "execute_result",
     "data": {
      "text/plain": [
       "        PassengerId  Survived        Age     SibSp     Parch       Fare\n",
       "Pclass                                                                 \n",
       "1        461.597222  0.629630  38.233441  0.416667  0.356481  84.154687\n",
       "2        445.956522  0.472826  29.877630  0.402174  0.380435  20.662183\n",
       "3        439.154786  0.242363  25.140620  0.615071  0.393075  13.675550"
      ],
      "text/html": "<div>\n<style scoped>\n    .dataframe tbody tr th:only-of-type {\n        vertical-align: middle;\n    }\n\n    .dataframe tbody tr th {\n        vertical-align: top;\n    }\n\n    .dataframe thead th {\n        text-align: right;\n    }\n</style>\n<table border=\"1\" class=\"dataframe\">\n  <thead>\n    <tr style=\"text-align: right;\">\n      <th></th>\n      <th>PassengerId</th>\n      <th>Survived</th>\n      <th>Age</th>\n      <th>SibSp</th>\n      <th>Parch</th>\n      <th>Fare</th>\n    </tr>\n    <tr>\n      <th>Pclass</th>\n      <th></th>\n      <th></th>\n      <th></th>\n      <th></th>\n      <th></th>\n      <th></th>\n    </tr>\n  </thead>\n  <tbody>\n    <tr>\n      <th>1</th>\n      <td>461.597222</td>\n      <td>0.629630</td>\n      <td>38.233441</td>\n      <td>0.416667</td>\n      <td>0.356481</td>\n      <td>84.154687</td>\n    </tr>\n    <tr>\n      <th>2</th>\n      <td>445.956522</td>\n      <td>0.472826</td>\n      <td>29.877630</td>\n      <td>0.402174</td>\n      <td>0.380435</td>\n      <td>20.662183</td>\n    </tr>\n    <tr>\n      <th>3</th>\n      <td>439.154786</td>\n      <td>0.242363</td>\n      <td>25.140620</td>\n      <td>0.615071</td>\n      <td>0.393075</td>\n      <td>13.675550</td>\n    </tr>\n  </tbody>\n</table>\n</div>"
     },
     "metadata": {},
     "execution_count": 29
    }
   ],
   "source": [
    "class_group.mean()"
   ]
  },
  {
   "cell_type": "code",
   "execution_count": 30,
   "metadata": {},
   "outputs": [
    {
     "output_type": "execute_result",
     "data": {
      "text/plain": [
       "Sex\n",
       "female    0.742038\n",
       "male      0.188908\n",
       "Name: Survived, dtype: float64"
      ]
     },
     "metadata": {},
     "execution_count": 30
    }
   ],
   "source": [
    "# 성별 생존율\n",
    "\n",
    "train_data.groupby(['Sex']).Survived.mean()\n",
    "# = train_data.groupby(['Sex])['Survived].mean()"
   ]
  },
  {
   "cell_type": "code",
   "execution_count": 31,
   "metadata": {},
   "outputs": [
    {
     "output_type": "execute_result",
     "data": {
      "text/plain": [
       "              PassengerId  Survived  SibSp  Parch      Fare\n",
       "Pclass Age                                                 \n",
       "1      0.92         306.0       1.0    1.0    2.0  151.5500\n",
       "       2.00         298.0       0.0    1.0    2.0  151.5500\n",
       "       4.00         446.0       1.0    0.0    2.0   81.8583\n",
       "       11.00        803.0       1.0    1.0    2.0  120.0000\n",
       "       14.00        436.0       1.0    1.0    2.0  120.0000\n",
       "...                   ...       ...    ...    ...       ...\n",
       "3      61.00        327.0       0.0    0.0    0.0    6.2375\n",
       "       63.00        484.0       1.0    0.0    0.0    9.5875\n",
       "       65.00        281.0       0.0    0.0    0.0    7.7500\n",
       "       70.50        117.0       0.0    0.0    0.0    7.7500\n",
       "       74.00        852.0       0.0    0.0    0.0    7.7750\n",
       "\n",
       "[182 rows x 5 columns]"
      ],
      "text/html": "<div>\n<style scoped>\n    .dataframe tbody tr th:only-of-type {\n        vertical-align: middle;\n    }\n\n    .dataframe tbody tr th {\n        vertical-align: top;\n    }\n\n    .dataframe thead th {\n        text-align: right;\n    }\n</style>\n<table border=\"1\" class=\"dataframe\">\n  <thead>\n    <tr style=\"text-align: right;\">\n      <th></th>\n      <th></th>\n      <th>PassengerId</th>\n      <th>Survived</th>\n      <th>SibSp</th>\n      <th>Parch</th>\n      <th>Fare</th>\n    </tr>\n    <tr>\n      <th>Pclass</th>\n      <th>Age</th>\n      <th></th>\n      <th></th>\n      <th></th>\n      <th></th>\n      <th></th>\n    </tr>\n  </thead>\n  <tbody>\n    <tr>\n      <th rowspan=\"5\" valign=\"top\">1</th>\n      <th>0.92</th>\n      <td>306.0</td>\n      <td>1.0</td>\n      <td>1.0</td>\n      <td>2.0</td>\n      <td>151.5500</td>\n    </tr>\n    <tr>\n      <th>2.00</th>\n      <td>298.0</td>\n      <td>0.0</td>\n      <td>1.0</td>\n      <td>2.0</td>\n      <td>151.5500</td>\n    </tr>\n    <tr>\n      <th>4.00</th>\n      <td>446.0</td>\n      <td>1.0</td>\n      <td>0.0</td>\n      <td>2.0</td>\n      <td>81.8583</td>\n    </tr>\n    <tr>\n      <th>11.00</th>\n      <td>803.0</td>\n      <td>1.0</td>\n      <td>1.0</td>\n      <td>2.0</td>\n      <td>120.0000</td>\n    </tr>\n    <tr>\n      <th>14.00</th>\n      <td>436.0</td>\n      <td>1.0</td>\n      <td>1.0</td>\n      <td>2.0</td>\n      <td>120.0000</td>\n    </tr>\n    <tr>\n      <th>...</th>\n      <th>...</th>\n      <td>...</td>\n      <td>...</td>\n      <td>...</td>\n      <td>...</td>\n      <td>...</td>\n    </tr>\n    <tr>\n      <th rowspan=\"5\" valign=\"top\">3</th>\n      <th>61.00</th>\n      <td>327.0</td>\n      <td>0.0</td>\n      <td>0.0</td>\n      <td>0.0</td>\n      <td>6.2375</td>\n    </tr>\n    <tr>\n      <th>63.00</th>\n      <td>484.0</td>\n      <td>1.0</td>\n      <td>0.0</td>\n      <td>0.0</td>\n      <td>9.5875</td>\n    </tr>\n    <tr>\n      <th>65.00</th>\n      <td>281.0</td>\n      <td>0.0</td>\n      <td>0.0</td>\n      <td>0.0</td>\n      <td>7.7500</td>\n    </tr>\n    <tr>\n      <th>70.50</th>\n      <td>117.0</td>\n      <td>0.0</td>\n      <td>0.0</td>\n      <td>0.0</td>\n      <td>7.7500</td>\n    </tr>\n    <tr>\n      <th>74.00</th>\n      <td>852.0</td>\n      <td>0.0</td>\n      <td>0.0</td>\n      <td>0.0</td>\n      <td>7.7750</td>\n    </tr>\n  </tbody>\n</table>\n<p>182 rows × 5 columns</p>\n</div>"
     },
     "metadata": {},
     "execution_count": 31
    }
   ],
   "source": [
    "# 여러 컬럼을 묶어서 특정 값 구하기\n",
    "\n",
    "train_data.groupby(['Pclass', 'Age']).mean()"
   ]
  },
  {
   "cell_type": "code",
   "execution_count": 32,
   "metadata": {},
   "outputs": [
    {
     "output_type": "execute_result",
     "data": {
      "text/plain": [
       "PassengerId    443.105263\n",
       "Survived         0.921053\n",
       "Age             28.722973\n",
       "SibSp            0.486842\n",
       "Parch            0.605263\n",
       "Fare            21.970121\n",
       "Name: (2, female), dtype: float64"
      ]
     },
     "metadata": {},
     "execution_count": 32
    }
   ],
   "source": [
    "# loc를 활용하여 묶은 열들의 조건 값 구하기\n",
    "\n",
    "train_data.groupby(['Pclass', 'Sex']).mean().loc[(2, 'female')]"
   ]
  },
  {
   "cell_type": "code",
   "execution_count": 33,
   "metadata": {},
   "outputs": [
    {
     "output_type": "execute_result",
     "data": {
      "text/plain": [
       "        PassengerId  Survived  \\\n",
       "Pclass                          \n",
       "3                 1         0   \n",
       "1                 2         1   \n",
       "3                 3         1   \n",
       "1                 4         1   \n",
       "3                 5         0   \n",
       "...             ...       ...   \n",
       "2               887         0   \n",
       "1               888         1   \n",
       "3               889         0   \n",
       "1               890         1   \n",
       "3               891         0   \n",
       "\n",
       "                                                     Name     Sex   Age  \\\n",
       "Pclass                                                                    \n",
       "3                                 Braund, Mr. Owen Harris    male  22.0   \n",
       "1       Cumings, Mrs. John Bradley (Florence Briggs Th...  female  38.0   \n",
       "3                                  Heikkinen, Miss. Laina  female  26.0   \n",
       "1            Futrelle, Mrs. Jacques Heath (Lily May Peel)  female  35.0   \n",
       "3                                Allen, Mr. William Henry    male  35.0   \n",
       "...                                                   ...     ...   ...   \n",
       "2                                   Montvila, Rev. Juozas    male  27.0   \n",
       "1                            Graham, Miss. Margaret Edith  female  19.0   \n",
       "3                Johnston, Miss. Catherine Helen \"Carrie\"  female   NaN   \n",
       "1                                   Behr, Mr. Karl Howell    male  26.0   \n",
       "3                                     Dooley, Mr. Patrick    male  32.0   \n",
       "\n",
       "        SibSp  Parch            Ticket     Fare Cabin Embarked  \n",
       "Pclass                                                          \n",
       "3           1      0         A/5 21171   7.2500   NaN        S  \n",
       "1           1      0          PC 17599  71.2833   C85        C  \n",
       "3           0      0  STON/O2. 3101282   7.9250   NaN        S  \n",
       "1           1      0            113803  53.1000  C123        S  \n",
       "3           0      0            373450   8.0500   NaN        S  \n",
       "...       ...    ...               ...      ...   ...      ...  \n",
       "2           0      0            211536  13.0000   NaN        S  \n",
       "1           0      0            112053  30.0000   B42        S  \n",
       "3           1      2        W./C. 6607  23.4500   NaN        S  \n",
       "1           0      0            111369  30.0000  C148        C  \n",
       "3           0      0            370376   7.7500   NaN        Q  \n",
       "\n",
       "[891 rows x 11 columns]"
      ],
      "text/html": "<div>\n<style scoped>\n    .dataframe tbody tr th:only-of-type {\n        vertical-align: middle;\n    }\n\n    .dataframe tbody tr th {\n        vertical-align: top;\n    }\n\n    .dataframe thead th {\n        text-align: right;\n    }\n</style>\n<table border=\"1\" class=\"dataframe\">\n  <thead>\n    <tr style=\"text-align: right;\">\n      <th></th>\n      <th>PassengerId</th>\n      <th>Survived</th>\n      <th>Name</th>\n      <th>Sex</th>\n      <th>Age</th>\n      <th>SibSp</th>\n      <th>Parch</th>\n      <th>Ticket</th>\n      <th>Fare</th>\n      <th>Cabin</th>\n      <th>Embarked</th>\n    </tr>\n    <tr>\n      <th>Pclass</th>\n      <th></th>\n      <th></th>\n      <th></th>\n      <th></th>\n      <th></th>\n      <th></th>\n      <th></th>\n      <th></th>\n      <th></th>\n      <th></th>\n      <th></th>\n    </tr>\n  </thead>\n  <tbody>\n    <tr>\n      <th>3</th>\n      <td>1</td>\n      <td>0</td>\n      <td>Braund, Mr. Owen Harris</td>\n      <td>male</td>\n      <td>22.0</td>\n      <td>1</td>\n      <td>0</td>\n      <td>A/5 21171</td>\n      <td>7.2500</td>\n      <td>NaN</td>\n      <td>S</td>\n    </tr>\n    <tr>\n      <th>1</th>\n      <td>2</td>\n      <td>1</td>\n      <td>Cumings, Mrs. John Bradley (Florence Briggs Th...</td>\n      <td>female</td>\n      <td>38.0</td>\n      <td>1</td>\n      <td>0</td>\n      <td>PC 17599</td>\n      <td>71.2833</td>\n      <td>C85</td>\n      <td>C</td>\n    </tr>\n    <tr>\n      <th>3</th>\n      <td>3</td>\n      <td>1</td>\n      <td>Heikkinen, Miss. Laina</td>\n      <td>female</td>\n      <td>26.0</td>\n      <td>0</td>\n      <td>0</td>\n      <td>STON/O2. 3101282</td>\n      <td>7.9250</td>\n      <td>NaN</td>\n      <td>S</td>\n    </tr>\n    <tr>\n      <th>1</th>\n      <td>4</td>\n      <td>1</td>\n      <td>Futrelle, Mrs. Jacques Heath (Lily May Peel)</td>\n      <td>female</td>\n      <td>35.0</td>\n      <td>1</td>\n      <td>0</td>\n      <td>113803</td>\n      <td>53.1000</td>\n      <td>C123</td>\n      <td>S</td>\n    </tr>\n    <tr>\n      <th>3</th>\n      <td>5</td>\n      <td>0</td>\n      <td>Allen, Mr. William Henry</td>\n      <td>male</td>\n      <td>35.0</td>\n      <td>0</td>\n      <td>0</td>\n      <td>373450</td>\n      <td>8.0500</td>\n      <td>NaN</td>\n      <td>S</td>\n    </tr>\n    <tr>\n      <th>...</th>\n      <td>...</td>\n      <td>...</td>\n      <td>...</td>\n      <td>...</td>\n      <td>...</td>\n      <td>...</td>\n      <td>...</td>\n      <td>...</td>\n      <td>...</td>\n      <td>...</td>\n      <td>...</td>\n    </tr>\n    <tr>\n      <th>2</th>\n      <td>887</td>\n      <td>0</td>\n      <td>Montvila, Rev. Juozas</td>\n      <td>male</td>\n      <td>27.0</td>\n      <td>0</td>\n      <td>0</td>\n      <td>211536</td>\n      <td>13.0000</td>\n      <td>NaN</td>\n      <td>S</td>\n    </tr>\n    <tr>\n      <th>1</th>\n      <td>888</td>\n      <td>1</td>\n      <td>Graham, Miss. Margaret Edith</td>\n      <td>female</td>\n      <td>19.0</td>\n      <td>0</td>\n      <td>0</td>\n      <td>112053</td>\n      <td>30.0000</td>\n      <td>B42</td>\n      <td>S</td>\n    </tr>\n    <tr>\n      <th>3</th>\n      <td>889</td>\n      <td>0</td>\n      <td>Johnston, Miss. Catherine Helen \"Carrie\"</td>\n      <td>female</td>\n      <td>NaN</td>\n      <td>1</td>\n      <td>2</td>\n      <td>W./C. 6607</td>\n      <td>23.4500</td>\n      <td>NaN</td>\n      <td>S</td>\n    </tr>\n    <tr>\n      <th>1</th>\n      <td>890</td>\n      <td>1</td>\n      <td>Behr, Mr. Karl Howell</td>\n      <td>male</td>\n      <td>26.0</td>\n      <td>0</td>\n      <td>0</td>\n      <td>111369</td>\n      <td>30.0000</td>\n      <td>C148</td>\n      <td>C</td>\n    </tr>\n    <tr>\n      <th>3</th>\n      <td>891</td>\n      <td>0</td>\n      <td>Dooley, Mr. Patrick</td>\n      <td>male</td>\n      <td>32.0</td>\n      <td>0</td>\n      <td>0</td>\n      <td>370376</td>\n      <td>7.7500</td>\n      <td>NaN</td>\n      <td>Q</td>\n    </tr>\n  </tbody>\n</table>\n<p>891 rows × 11 columns</p>\n</div>"
     },
     "metadata": {},
     "execution_count": 33
    }
   ],
   "source": [
    "# index를 활용한 groupby\n",
    "\n",
    "train_data.set_index('Pclass')"
   ]
  },
  {
   "cell_type": "code",
   "execution_count": 34,
   "metadata": {},
   "outputs": [
    {
     "output_type": "execute_result",
     "data": {
      "text/plain": [
       "               PassengerId  Survived  \\\n",
       "Pclass Sex                             \n",
       "3      male              1         0   \n",
       "1      female            2         1   \n",
       "3      female            3         1   \n",
       "1      female            4         1   \n",
       "3      male              5         0   \n",
       "...                    ...       ...   \n",
       "2      male            887         0   \n",
       "1      female          888         1   \n",
       "3      female          889         0   \n",
       "1      male            890         1   \n",
       "3      male            891         0   \n",
       "\n",
       "                                                            Name   Age  SibSp  \\\n",
       "Pclass Sex                                                                      \n",
       "3      male                              Braund, Mr. Owen Harris  22.0      1   \n",
       "1      female  Cumings, Mrs. John Bradley (Florence Briggs Th...  38.0      1   \n",
       "3      female                             Heikkinen, Miss. Laina  26.0      0   \n",
       "1      female       Futrelle, Mrs. Jacques Heath (Lily May Peel)  35.0      1   \n",
       "3      male                             Allen, Mr. William Henry  35.0      0   \n",
       "...                                                          ...   ...    ...   \n",
       "2      male                                Montvila, Rev. Juozas  27.0      0   \n",
       "1      female                       Graham, Miss. Margaret Edith  19.0      0   \n",
       "3      female           Johnston, Miss. Catherine Helen \"Carrie\"   NaN      1   \n",
       "1      male                                Behr, Mr. Karl Howell  26.0      0   \n",
       "3      male                                  Dooley, Mr. Patrick  32.0      0   \n",
       "\n",
       "               Parch            Ticket     Fare Cabin Embarked  \n",
       "Pclass Sex                                                      \n",
       "3      male        0         A/5 21171   7.2500   NaN        S  \n",
       "1      female      0          PC 17599  71.2833   C85        C  \n",
       "3      female      0  STON/O2. 3101282   7.9250   NaN        S  \n",
       "1      female      0            113803  53.1000  C123        S  \n",
       "3      male        0            373450   8.0500   NaN        S  \n",
       "...              ...               ...      ...   ...      ...  \n",
       "2      male        0            211536  13.0000   NaN        S  \n",
       "1      female      0            112053  30.0000   B42        S  \n",
       "3      female      2        W./C. 6607  23.4500   NaN        S  \n",
       "1      male        0            111369  30.0000  C148        C  \n",
       "3      male        0            370376   7.7500   NaN        Q  \n",
       "\n",
       "[891 rows x 10 columns]"
      ],
      "text/html": "<div>\n<style scoped>\n    .dataframe tbody tr th:only-of-type {\n        vertical-align: middle;\n    }\n\n    .dataframe tbody tr th {\n        vertical-align: top;\n    }\n\n    .dataframe thead th {\n        text-align: right;\n    }\n</style>\n<table border=\"1\" class=\"dataframe\">\n  <thead>\n    <tr style=\"text-align: right;\">\n      <th></th>\n      <th></th>\n      <th>PassengerId</th>\n      <th>Survived</th>\n      <th>Name</th>\n      <th>Age</th>\n      <th>SibSp</th>\n      <th>Parch</th>\n      <th>Ticket</th>\n      <th>Fare</th>\n      <th>Cabin</th>\n      <th>Embarked</th>\n    </tr>\n    <tr>\n      <th>Pclass</th>\n      <th>Sex</th>\n      <th></th>\n      <th></th>\n      <th></th>\n      <th></th>\n      <th></th>\n      <th></th>\n      <th></th>\n      <th></th>\n      <th></th>\n      <th></th>\n    </tr>\n  </thead>\n  <tbody>\n    <tr>\n      <th>3</th>\n      <th>male</th>\n      <td>1</td>\n      <td>0</td>\n      <td>Braund, Mr. Owen Harris</td>\n      <td>22.0</td>\n      <td>1</td>\n      <td>0</td>\n      <td>A/5 21171</td>\n      <td>7.2500</td>\n      <td>NaN</td>\n      <td>S</td>\n    </tr>\n    <tr>\n      <th>1</th>\n      <th>female</th>\n      <td>2</td>\n      <td>1</td>\n      <td>Cumings, Mrs. John Bradley (Florence Briggs Th...</td>\n      <td>38.0</td>\n      <td>1</td>\n      <td>0</td>\n      <td>PC 17599</td>\n      <td>71.2833</td>\n      <td>C85</td>\n      <td>C</td>\n    </tr>\n    <tr>\n      <th>3</th>\n      <th>female</th>\n      <td>3</td>\n      <td>1</td>\n      <td>Heikkinen, Miss. Laina</td>\n      <td>26.0</td>\n      <td>0</td>\n      <td>0</td>\n      <td>STON/O2. 3101282</td>\n      <td>7.9250</td>\n      <td>NaN</td>\n      <td>S</td>\n    </tr>\n    <tr>\n      <th>1</th>\n      <th>female</th>\n      <td>4</td>\n      <td>1</td>\n      <td>Futrelle, Mrs. Jacques Heath (Lily May Peel)</td>\n      <td>35.0</td>\n      <td>1</td>\n      <td>0</td>\n      <td>113803</td>\n      <td>53.1000</td>\n      <td>C123</td>\n      <td>S</td>\n    </tr>\n    <tr>\n      <th>3</th>\n      <th>male</th>\n      <td>5</td>\n      <td>0</td>\n      <td>Allen, Mr. William Henry</td>\n      <td>35.0</td>\n      <td>0</td>\n      <td>0</td>\n      <td>373450</td>\n      <td>8.0500</td>\n      <td>NaN</td>\n      <td>S</td>\n    </tr>\n    <tr>\n      <th>...</th>\n      <th>...</th>\n      <td>...</td>\n      <td>...</td>\n      <td>...</td>\n      <td>...</td>\n      <td>...</td>\n      <td>...</td>\n      <td>...</td>\n      <td>...</td>\n      <td>...</td>\n      <td>...</td>\n    </tr>\n    <tr>\n      <th>2</th>\n      <th>male</th>\n      <td>887</td>\n      <td>0</td>\n      <td>Montvila, Rev. Juozas</td>\n      <td>27.0</td>\n      <td>0</td>\n      <td>0</td>\n      <td>211536</td>\n      <td>13.0000</td>\n      <td>NaN</td>\n      <td>S</td>\n    </tr>\n    <tr>\n      <th>1</th>\n      <th>female</th>\n      <td>888</td>\n      <td>1</td>\n      <td>Graham, Miss. Margaret Edith</td>\n      <td>19.0</td>\n      <td>0</td>\n      <td>0</td>\n      <td>112053</td>\n      <td>30.0000</td>\n      <td>B42</td>\n      <td>S</td>\n    </tr>\n    <tr>\n      <th>3</th>\n      <th>female</th>\n      <td>889</td>\n      <td>0</td>\n      <td>Johnston, Miss. Catherine Helen \"Carrie\"</td>\n      <td>NaN</td>\n      <td>1</td>\n      <td>2</td>\n      <td>W./C. 6607</td>\n      <td>23.4500</td>\n      <td>NaN</td>\n      <td>S</td>\n    </tr>\n    <tr>\n      <th>1</th>\n      <th>male</th>\n      <td>890</td>\n      <td>1</td>\n      <td>Behr, Mr. Karl Howell</td>\n      <td>26.0</td>\n      <td>0</td>\n      <td>0</td>\n      <td>111369</td>\n      <td>30.0000</td>\n      <td>C148</td>\n      <td>C</td>\n    </tr>\n    <tr>\n      <th>3</th>\n      <th>male</th>\n      <td>891</td>\n      <td>0</td>\n      <td>Dooley, Mr. Patrick</td>\n      <td>32.0</td>\n      <td>0</td>\n      <td>0</td>\n      <td>370376</td>\n      <td>7.7500</td>\n      <td>NaN</td>\n      <td>Q</td>\n    </tr>\n  </tbody>\n</table>\n<p>891 rows × 10 columns</p>\n</div>"
     },
     "metadata": {},
     "execution_count": 34
    }
   ],
   "source": [
    "train_data.set_index(['Pclass', 'Sex'])"
   ]
  },
  {
   "cell_type": "markdown",
   "metadata": {},
   "source": [
    "## transform"
   ]
  },
  {
   "cell_type": "code",
   "execution_count": 35,
   "metadata": {},
   "outputs": [
    {
     "output_type": "execute_result",
     "data": {
      "text/plain": [
       "        PassengerId  Survived        Age     SibSp     Parch       Fare\n",
       "Pclass                                                                 \n",
       "1        461.597222  0.629630  38.233441  0.416667  0.356481  84.154687\n",
       "2        445.956522  0.472826  29.877630  0.402174  0.380435  20.662183\n",
       "3        439.154786  0.242363  25.140620  0.615071  0.393075  13.675550"
      ],
      "text/html": "<div>\n<style scoped>\n    .dataframe tbody tr th:only-of-type {\n        vertical-align: middle;\n    }\n\n    .dataframe tbody tr th {\n        vertical-align: top;\n    }\n\n    .dataframe thead th {\n        text-align: right;\n    }\n</style>\n<table border=\"1\" class=\"dataframe\">\n  <thead>\n    <tr style=\"text-align: right;\">\n      <th></th>\n      <th>PassengerId</th>\n      <th>Survived</th>\n      <th>Age</th>\n      <th>SibSp</th>\n      <th>Parch</th>\n      <th>Fare</th>\n    </tr>\n    <tr>\n      <th>Pclass</th>\n      <th></th>\n      <th></th>\n      <th></th>\n      <th></th>\n      <th></th>\n      <th></th>\n    </tr>\n  </thead>\n  <tbody>\n    <tr>\n      <th>1</th>\n      <td>461.597222</td>\n      <td>0.629630</td>\n      <td>38.233441</td>\n      <td>0.416667</td>\n      <td>0.356481</td>\n      <td>84.154687</td>\n    </tr>\n    <tr>\n      <th>2</th>\n      <td>445.956522</td>\n      <td>0.472826</td>\n      <td>29.877630</td>\n      <td>0.402174</td>\n      <td>0.380435</td>\n      <td>20.662183</td>\n    </tr>\n    <tr>\n      <th>3</th>\n      <td>439.154786</td>\n      <td>0.242363</td>\n      <td>25.140620</td>\n      <td>0.615071</td>\n      <td>0.393075</td>\n      <td>13.675550</td>\n    </tr>\n  </tbody>\n</table>\n</div>"
     },
     "metadata": {},
     "execution_count": 35
    }
   ],
   "source": [
    "train_data.groupby('Pclass').mean()"
   ]
  },
  {
   "cell_type": "code",
   "execution_count": 36,
   "metadata": {},
   "outputs": [
    {
     "output_type": "execute_result",
     "data": {
      "text/plain": [
       "     PassengerId  Survived        Age     SibSp     Parch       Fare\n",
       "0     439.154786  0.242363  25.140620  0.615071  0.393075  13.675550\n",
       "1     461.597222  0.629630  38.233441  0.416667  0.356481  84.154687\n",
       "2     439.154786  0.242363  25.140620  0.615071  0.393075  13.675550\n",
       "3     461.597222  0.629630  38.233441  0.416667  0.356481  84.154687\n",
       "4     439.154786  0.242363  25.140620  0.615071  0.393075  13.675550\n",
       "..           ...       ...        ...       ...       ...        ...\n",
       "886   445.956522  0.472826  29.877630  0.402174  0.380435  20.662183\n",
       "887   461.597222  0.629630  38.233441  0.416667  0.356481  84.154687\n",
       "888   439.154786  0.242363  25.140620  0.615071  0.393075  13.675550\n",
       "889   461.597222  0.629630  38.233441  0.416667  0.356481  84.154687\n",
       "890   439.154786  0.242363  25.140620  0.615071  0.393075  13.675550\n",
       "\n",
       "[891 rows x 6 columns]"
      ],
      "text/html": "<div>\n<style scoped>\n    .dataframe tbody tr th:only-of-type {\n        vertical-align: middle;\n    }\n\n    .dataframe tbody tr th {\n        vertical-align: top;\n    }\n\n    .dataframe thead th {\n        text-align: right;\n    }\n</style>\n<table border=\"1\" class=\"dataframe\">\n  <thead>\n    <tr style=\"text-align: right;\">\n      <th></th>\n      <th>PassengerId</th>\n      <th>Survived</th>\n      <th>Age</th>\n      <th>SibSp</th>\n      <th>Parch</th>\n      <th>Fare</th>\n    </tr>\n  </thead>\n  <tbody>\n    <tr>\n      <th>0</th>\n      <td>439.154786</td>\n      <td>0.242363</td>\n      <td>25.140620</td>\n      <td>0.615071</td>\n      <td>0.393075</td>\n      <td>13.675550</td>\n    </tr>\n    <tr>\n      <th>1</th>\n      <td>461.597222</td>\n      <td>0.629630</td>\n      <td>38.233441</td>\n      <td>0.416667</td>\n      <td>0.356481</td>\n      <td>84.154687</td>\n    </tr>\n    <tr>\n      <th>2</th>\n      <td>439.154786</td>\n      <td>0.242363</td>\n      <td>25.140620</td>\n      <td>0.615071</td>\n      <td>0.393075</td>\n      <td>13.675550</td>\n    </tr>\n    <tr>\n      <th>3</th>\n      <td>461.597222</td>\n      <td>0.629630</td>\n      <td>38.233441</td>\n      <td>0.416667</td>\n      <td>0.356481</td>\n      <td>84.154687</td>\n    </tr>\n    <tr>\n      <th>4</th>\n      <td>439.154786</td>\n      <td>0.242363</td>\n      <td>25.140620</td>\n      <td>0.615071</td>\n      <td>0.393075</td>\n      <td>13.675550</td>\n    </tr>\n    <tr>\n      <th>...</th>\n      <td>...</td>\n      <td>...</td>\n      <td>...</td>\n      <td>...</td>\n      <td>...</td>\n      <td>...</td>\n    </tr>\n    <tr>\n      <th>886</th>\n      <td>445.956522</td>\n      <td>0.472826</td>\n      <td>29.877630</td>\n      <td>0.402174</td>\n      <td>0.380435</td>\n      <td>20.662183</td>\n    </tr>\n    <tr>\n      <th>887</th>\n      <td>461.597222</td>\n      <td>0.629630</td>\n      <td>38.233441</td>\n      <td>0.416667</td>\n      <td>0.356481</td>\n      <td>84.154687</td>\n    </tr>\n    <tr>\n      <th>888</th>\n      <td>439.154786</td>\n      <td>0.242363</td>\n      <td>25.140620</td>\n      <td>0.615071</td>\n      <td>0.393075</td>\n      <td>13.675550</td>\n    </tr>\n    <tr>\n      <th>889</th>\n      <td>461.597222</td>\n      <td>0.629630</td>\n      <td>38.233441</td>\n      <td>0.416667</td>\n      <td>0.356481</td>\n      <td>84.154687</td>\n    </tr>\n    <tr>\n      <th>890</th>\n      <td>439.154786</td>\n      <td>0.242363</td>\n      <td>25.140620</td>\n      <td>0.615071</td>\n      <td>0.393075</td>\n      <td>13.675550</td>\n    </tr>\n  </tbody>\n</table>\n<p>891 rows × 6 columns</p>\n</div>"
     },
     "metadata": {},
     "execution_count": 36
    }
   ],
   "source": [
    "train_data.groupby('Pclass').transform(np.mean)"
   ]
  },
  {
   "cell_type": "markdown",
   "metadata": {},
   "source": [
    "## pivot_table"
   ]
  },
  {
   "cell_type": "code",
   "execution_count": 37,
   "metadata": {},
   "outputs": [
    {
     "output_type": "execute_result",
     "data": {
      "text/plain": [
       "    지역   요일   강수량  강수확률\n",
       "0   서울  월요일   100    80\n",
       "1   서울  화요일    80    70\n",
       "2   서울  수요일  1000    90\n",
       "3   경기  월요일   200    10\n",
       "4   경기  화요일   200    20\n",
       "5   부산  월요일   100    30\n",
       "6   서울  목요일    50    50\n",
       "7   서울  금요일   100    90\n",
       "8   부산  화요일   200    20\n",
       "9   경기  수요일   100    80\n",
       "10  경기  목요일    50    50\n",
       "11  경기  금요일   100    10"
      ],
      "text/html": "<div>\n<style scoped>\n    .dataframe tbody tr th:only-of-type {\n        vertical-align: middle;\n    }\n\n    .dataframe tbody tr th {\n        vertical-align: top;\n    }\n\n    .dataframe thead th {\n        text-align: right;\n    }\n</style>\n<table border=\"1\" class=\"dataframe\">\n  <thead>\n    <tr style=\"text-align: right;\">\n      <th></th>\n      <th>지역</th>\n      <th>요일</th>\n      <th>강수량</th>\n      <th>강수확률</th>\n    </tr>\n  </thead>\n  <tbody>\n    <tr>\n      <th>0</th>\n      <td>서울</td>\n      <td>월요일</td>\n      <td>100</td>\n      <td>80</td>\n    </tr>\n    <tr>\n      <th>1</th>\n      <td>서울</td>\n      <td>화요일</td>\n      <td>80</td>\n      <td>70</td>\n    </tr>\n    <tr>\n      <th>2</th>\n      <td>서울</td>\n      <td>수요일</td>\n      <td>1000</td>\n      <td>90</td>\n    </tr>\n    <tr>\n      <th>3</th>\n      <td>경기</td>\n      <td>월요일</td>\n      <td>200</td>\n      <td>10</td>\n    </tr>\n    <tr>\n      <th>4</th>\n      <td>경기</td>\n      <td>화요일</td>\n      <td>200</td>\n      <td>20</td>\n    </tr>\n    <tr>\n      <th>5</th>\n      <td>부산</td>\n      <td>월요일</td>\n      <td>100</td>\n      <td>30</td>\n    </tr>\n    <tr>\n      <th>6</th>\n      <td>서울</td>\n      <td>목요일</td>\n      <td>50</td>\n      <td>50</td>\n    </tr>\n    <tr>\n      <th>7</th>\n      <td>서울</td>\n      <td>금요일</td>\n      <td>100</td>\n      <td>90</td>\n    </tr>\n    <tr>\n      <th>8</th>\n      <td>부산</td>\n      <td>화요일</td>\n      <td>200</td>\n      <td>20</td>\n    </tr>\n    <tr>\n      <th>9</th>\n      <td>경기</td>\n      <td>수요일</td>\n      <td>100</td>\n      <td>80</td>\n    </tr>\n    <tr>\n      <th>10</th>\n      <td>경기</td>\n      <td>목요일</td>\n      <td>50</td>\n      <td>50</td>\n    </tr>\n    <tr>\n      <th>11</th>\n      <td>경기</td>\n      <td>금요일</td>\n      <td>100</td>\n      <td>10</td>\n    </tr>\n  </tbody>\n</table>\n</div>"
     },
     "metadata": {},
     "execution_count": 37
    }
   ],
   "source": [
    "df = pd.DataFrame({\n",
    "    '지역' : ['서울', '서울', '서울', '경기', '경기', '부산', '서울', '서울', '부산', '경기', '경기', '경기'],\n",
    "    '요일' : ['월요일', '화요일', '수요일', '월요일', '화요일', '월요일', '목요일', '금요일', '화요일', '수요일', '목요일', '금요일'],\n",
    "    '강수량' : [100, 80, 1000, 200, 200, 100, 50, 100, 200, 100, 50, 100],\n",
    "    '강수확률' : [80, 70, 90, 10, 20, 30, 50, 90, 20, 80, 50, 10]\n",
    "})\n",
    "df"
   ]
  },
  {
   "cell_type": "code",
   "execution_count": 38,
   "metadata": {},
   "outputs": [
    {
     "output_type": "execute_result",
     "data": {
      "text/plain": [
       "      강수량                              강수확률                        \n",
       "요일    금요일   목요일     수요일    월요일    화요일   금요일   목요일   수요일   월요일   화요일\n",
       "지역                                                                 \n",
       "경기  100.0  50.0   100.0  200.0  200.0  10.0  50.0  80.0  10.0  20.0\n",
       "부산    NaN   NaN     NaN  100.0  200.0   NaN   NaN   NaN  30.0  20.0\n",
       "서울  100.0  50.0  1000.0  100.0   80.0  90.0  50.0  90.0  80.0  70.0"
      ],
      "text/html": "<div>\n<style scoped>\n    .dataframe tbody tr th:only-of-type {\n        vertical-align: middle;\n    }\n\n    .dataframe tbody tr th {\n        vertical-align: top;\n    }\n\n    .dataframe thead tr th {\n        text-align: left;\n    }\n\n    .dataframe thead tr:last-of-type th {\n        text-align: right;\n    }\n</style>\n<table border=\"1\" class=\"dataframe\">\n  <thead>\n    <tr>\n      <th></th>\n      <th colspan=\"5\" halign=\"left\">강수량</th>\n      <th colspan=\"5\" halign=\"left\">강수확률</th>\n    </tr>\n    <tr>\n      <th>요일</th>\n      <th>금요일</th>\n      <th>목요일</th>\n      <th>수요일</th>\n      <th>월요일</th>\n      <th>화요일</th>\n      <th>금요일</th>\n      <th>목요일</th>\n      <th>수요일</th>\n      <th>월요일</th>\n      <th>화요일</th>\n    </tr>\n    <tr>\n      <th>지역</th>\n      <th></th>\n      <th></th>\n      <th></th>\n      <th></th>\n      <th></th>\n      <th></th>\n      <th></th>\n      <th></th>\n      <th></th>\n      <th></th>\n    </tr>\n  </thead>\n  <tbody>\n    <tr>\n      <th>경기</th>\n      <td>100.0</td>\n      <td>50.0</td>\n      <td>100.0</td>\n      <td>200.0</td>\n      <td>200.0</td>\n      <td>10.0</td>\n      <td>50.0</td>\n      <td>80.0</td>\n      <td>10.0</td>\n      <td>20.0</td>\n    </tr>\n    <tr>\n      <th>부산</th>\n      <td>NaN</td>\n      <td>NaN</td>\n      <td>NaN</td>\n      <td>100.0</td>\n      <td>200.0</td>\n      <td>NaN</td>\n      <td>NaN</td>\n      <td>NaN</td>\n      <td>30.0</td>\n      <td>20.0</td>\n    </tr>\n    <tr>\n      <th>서울</th>\n      <td>100.0</td>\n      <td>50.0</td>\n      <td>1000.0</td>\n      <td>100.0</td>\n      <td>80.0</td>\n      <td>90.0</td>\n      <td>50.0</td>\n      <td>90.0</td>\n      <td>80.0</td>\n      <td>70.0</td>\n    </tr>\n  </tbody>\n</table>\n</div>"
     },
     "metadata": {},
     "execution_count": 38
    }
   ],
   "source": [
    "# 지역을 기준으로 요일 확인하기\n",
    "df.pivot(index='지역', columns='요일')"
   ]
  },
  {
   "cell_type": "code",
   "execution_count": 39,
   "metadata": {},
   "outputs": [
    {
     "output_type": "execute_result",
     "data": {
      "text/plain": [
       "       강수량                 강수확률            \n",
       "지역      경기     부산      서울    경기    부산    서울\n",
       "요일                                         \n",
       "금요일  100.0    NaN   100.0  10.0   NaN  90.0\n",
       "목요일   50.0    NaN    50.0  50.0   NaN  50.0\n",
       "수요일  100.0    NaN  1000.0  80.0   NaN  90.0\n",
       "월요일  200.0  100.0   100.0  10.0  30.0  80.0\n",
       "화요일  200.0  200.0    80.0  20.0  20.0  70.0"
      ],
      "text/html": "<div>\n<style scoped>\n    .dataframe tbody tr th:only-of-type {\n        vertical-align: middle;\n    }\n\n    .dataframe tbody tr th {\n        vertical-align: top;\n    }\n\n    .dataframe thead tr th {\n        text-align: left;\n    }\n\n    .dataframe thead tr:last-of-type th {\n        text-align: right;\n    }\n</style>\n<table border=\"1\" class=\"dataframe\">\n  <thead>\n    <tr>\n      <th></th>\n      <th colspan=\"3\" halign=\"left\">강수량</th>\n      <th colspan=\"3\" halign=\"left\">강수확률</th>\n    </tr>\n    <tr>\n      <th>지역</th>\n      <th>경기</th>\n      <th>부산</th>\n      <th>서울</th>\n      <th>경기</th>\n      <th>부산</th>\n      <th>서울</th>\n    </tr>\n    <tr>\n      <th>요일</th>\n      <th></th>\n      <th></th>\n      <th></th>\n      <th></th>\n      <th></th>\n      <th></th>\n    </tr>\n  </thead>\n  <tbody>\n    <tr>\n      <th>금요일</th>\n      <td>100.0</td>\n      <td>NaN</td>\n      <td>100.0</td>\n      <td>10.0</td>\n      <td>NaN</td>\n      <td>90.0</td>\n    </tr>\n    <tr>\n      <th>목요일</th>\n      <td>50.0</td>\n      <td>NaN</td>\n      <td>50.0</td>\n      <td>50.0</td>\n      <td>NaN</td>\n      <td>50.0</td>\n    </tr>\n    <tr>\n      <th>수요일</th>\n      <td>100.0</td>\n      <td>NaN</td>\n      <td>1000.0</td>\n      <td>80.0</td>\n      <td>NaN</td>\n      <td>90.0</td>\n    </tr>\n    <tr>\n      <th>월요일</th>\n      <td>200.0</td>\n      <td>100.0</td>\n      <td>100.0</td>\n      <td>10.0</td>\n      <td>30.0</td>\n      <td>80.0</td>\n    </tr>\n    <tr>\n      <th>화요일</th>\n      <td>200.0</td>\n      <td>200.0</td>\n      <td>80.0</td>\n      <td>20.0</td>\n      <td>20.0</td>\n      <td>70.0</td>\n    </tr>\n  </tbody>\n</table>\n</div>"
     },
     "metadata": {},
     "execution_count": 39
    }
   ],
   "source": [
    "df.pivot(index='요일', columns='지역')"
   ]
  },
  {
   "cell_type": "code",
   "execution_count": 40,
   "metadata": {},
   "outputs": [
    {
     "output_type": "execute_result",
     "data": {
      "text/plain": [
       "지역      경기     부산      서울\n",
       "요일                       \n",
       "금요일  100.0    NaN   100.0\n",
       "목요일   50.0    NaN    50.0\n",
       "수요일  100.0    NaN  1000.0\n",
       "월요일  200.0  100.0   100.0\n",
       "화요일  200.0  200.0    80.0"
      ],
      "text/html": "<div>\n<style scoped>\n    .dataframe tbody tr th:only-of-type {\n        vertical-align: middle;\n    }\n\n    .dataframe tbody tr th {\n        vertical-align: top;\n    }\n\n    .dataframe thead th {\n        text-align: right;\n    }\n</style>\n<table border=\"1\" class=\"dataframe\">\n  <thead>\n    <tr style=\"text-align: right;\">\n      <th>지역</th>\n      <th>경기</th>\n      <th>부산</th>\n      <th>서울</th>\n    </tr>\n    <tr>\n      <th>요일</th>\n      <th></th>\n      <th></th>\n      <th></th>\n    </tr>\n  </thead>\n  <tbody>\n    <tr>\n      <th>금요일</th>\n      <td>100.0</td>\n      <td>NaN</td>\n      <td>100.0</td>\n    </tr>\n    <tr>\n      <th>목요일</th>\n      <td>50.0</td>\n      <td>NaN</td>\n      <td>50.0</td>\n    </tr>\n    <tr>\n      <th>수요일</th>\n      <td>100.0</td>\n      <td>NaN</td>\n      <td>1000.0</td>\n    </tr>\n    <tr>\n      <th>월요일</th>\n      <td>200.0</td>\n      <td>100.0</td>\n      <td>100.0</td>\n    </tr>\n    <tr>\n      <th>화요일</th>\n      <td>200.0</td>\n      <td>200.0</td>\n      <td>80.0</td>\n    </tr>\n  </tbody>\n</table>\n</div>"
     },
     "metadata": {},
     "execution_count": 40
    }
   ],
   "source": [
    "df.pivot(index='요일', columns='지역', values='강수량')"
   ]
  },
  {
   "cell_type": "code",
   "execution_count": 41,
   "metadata": {},
   "outputs": [
    {
     "output_type": "execute_result",
     "data": {
      "text/plain": [
       "지역     경기    부산    서울\n",
       "요일                   \n",
       "금요일  10.0   NaN  90.0\n",
       "목요일  50.0   NaN  50.0\n",
       "수요일  80.0   NaN  90.0\n",
       "월요일  10.0  30.0  80.0\n",
       "화요일  20.0  20.0  70.0"
      ],
      "text/html": "<div>\n<style scoped>\n    .dataframe tbody tr th:only-of-type {\n        vertical-align: middle;\n    }\n\n    .dataframe tbody tr th {\n        vertical-align: top;\n    }\n\n    .dataframe thead th {\n        text-align: right;\n    }\n</style>\n<table border=\"1\" class=\"dataframe\">\n  <thead>\n    <tr style=\"text-align: right;\">\n      <th>지역</th>\n      <th>경기</th>\n      <th>부산</th>\n      <th>서울</th>\n    </tr>\n    <tr>\n      <th>요일</th>\n      <th></th>\n      <th></th>\n      <th></th>\n    </tr>\n  </thead>\n  <tbody>\n    <tr>\n      <th>금요일</th>\n      <td>10.0</td>\n      <td>NaN</td>\n      <td>90.0</td>\n    </tr>\n    <tr>\n      <th>목요일</th>\n      <td>50.0</td>\n      <td>NaN</td>\n      <td>50.0</td>\n    </tr>\n    <tr>\n      <th>수요일</th>\n      <td>80.0</td>\n      <td>NaN</td>\n      <td>90.0</td>\n    </tr>\n    <tr>\n      <th>월요일</th>\n      <td>10.0</td>\n      <td>30.0</td>\n      <td>80.0</td>\n    </tr>\n    <tr>\n      <th>화요일</th>\n      <td>20.0</td>\n      <td>20.0</td>\n      <td>70.0</td>\n    </tr>\n  </tbody>\n</table>\n</div>"
     },
     "metadata": {},
     "execution_count": 41
    }
   ],
   "source": [
    "df.pivot(index='요일', columns='지역', values='강수확률')"
   ]
  },
  {
   "cell_type": "code",
   "execution_count": 42,
   "metadata": {},
   "outputs": [
    {
     "output_type": "execute_result",
     "data": {
      "text/plain": [
       "    지역   요일   강수량  강수확률\n",
       "0   서울  월요일   100    80\n",
       "1   서울  월요일    80    70\n",
       "2   서울  수요일  1000    90\n",
       "3   경기  월요일   200    10\n",
       "4   경기  화요일   200    20\n",
       "5   부산  월요일   100    30\n",
       "6   서울  목요일    50    50\n",
       "7   서울  금요일   100    90\n",
       "8   부산  화요일   200    20\n",
       "9   경기  수요일   100    80\n",
       "10  경기  목요일    50    50\n",
       "11  경기  금요일   100    10"
      ],
      "text/html": "<div>\n<style scoped>\n    .dataframe tbody tr th:only-of-type {\n        vertical-align: middle;\n    }\n\n    .dataframe tbody tr th {\n        vertical-align: top;\n    }\n\n    .dataframe thead th {\n        text-align: right;\n    }\n</style>\n<table border=\"1\" class=\"dataframe\">\n  <thead>\n    <tr style=\"text-align: right;\">\n      <th></th>\n      <th>지역</th>\n      <th>요일</th>\n      <th>강수량</th>\n      <th>강수확률</th>\n    </tr>\n  </thead>\n  <tbody>\n    <tr>\n      <th>0</th>\n      <td>서울</td>\n      <td>월요일</td>\n      <td>100</td>\n      <td>80</td>\n    </tr>\n    <tr>\n      <th>1</th>\n      <td>서울</td>\n      <td>월요일</td>\n      <td>80</td>\n      <td>70</td>\n    </tr>\n    <tr>\n      <th>2</th>\n      <td>서울</td>\n      <td>수요일</td>\n      <td>1000</td>\n      <td>90</td>\n    </tr>\n    <tr>\n      <th>3</th>\n      <td>경기</td>\n      <td>월요일</td>\n      <td>200</td>\n      <td>10</td>\n    </tr>\n    <tr>\n      <th>4</th>\n      <td>경기</td>\n      <td>화요일</td>\n      <td>200</td>\n      <td>20</td>\n    </tr>\n    <tr>\n      <th>5</th>\n      <td>부산</td>\n      <td>월요일</td>\n      <td>100</td>\n      <td>30</td>\n    </tr>\n    <tr>\n      <th>6</th>\n      <td>서울</td>\n      <td>목요일</td>\n      <td>50</td>\n      <td>50</td>\n    </tr>\n    <tr>\n      <th>7</th>\n      <td>서울</td>\n      <td>금요일</td>\n      <td>100</td>\n      <td>90</td>\n    </tr>\n    <tr>\n      <th>8</th>\n      <td>부산</td>\n      <td>화요일</td>\n      <td>200</td>\n      <td>20</td>\n    </tr>\n    <tr>\n      <th>9</th>\n      <td>경기</td>\n      <td>수요일</td>\n      <td>100</td>\n      <td>80</td>\n    </tr>\n    <tr>\n      <th>10</th>\n      <td>경기</td>\n      <td>목요일</td>\n      <td>50</td>\n      <td>50</td>\n    </tr>\n    <tr>\n      <th>11</th>\n      <td>경기</td>\n      <td>금요일</td>\n      <td>100</td>\n      <td>10</td>\n    </tr>\n  </tbody>\n</table>\n</div>"
     },
     "metadata": {},
     "execution_count": 42
    }
   ],
   "source": [
    "# 중복된 데이터 추가\n",
    "df2 = pd.DataFrame({\n",
    "    '지역' : ['서울', '서울', '서울', '경기', '경기', '부산', '서울', '서울', '부산', '경기', '경기', '경기'],\n",
    "    '요일' : ['월요일', '월요일', '수요일', '월요일', '화요일', '월요일', '목요일', '금요일', '화요일', '수요일', '목요일', '금요일'],\n",
    "    '강수량' : [100, 80, 1000, 200, 200, 100, 50, 100, 200, 100, 50, 100],\n",
    "    '강수확률' : [80, 70, 90, 10, 20, 30, 50, 90, 20, 80, 50, 10]\n",
    "})\n",
    "df2"
   ]
  },
  {
   "cell_type": "code",
   "execution_count": 43,
   "metadata": {},
   "outputs": [
    {
     "output_type": "execute_result",
     "data": {
      "text/plain": [
       "       강수량                 강수확률            \n",
       "지역      경기     부산      서울    경기    부산    서울\n",
       "요일                                         \n",
       "금요일  100.0    NaN   100.0  10.0   NaN  90.0\n",
       "목요일   50.0    NaN    50.0  50.0   NaN  50.0\n",
       "수요일  100.0    NaN  1000.0  80.0   NaN  90.0\n",
       "월요일  200.0  100.0    90.0  10.0  30.0  75.0\n",
       "화요일  200.0  200.0     NaN  20.0  20.0   NaN"
      ],
      "text/html": "<div>\n<style scoped>\n    .dataframe tbody tr th:only-of-type {\n        vertical-align: middle;\n    }\n\n    .dataframe tbody tr th {\n        vertical-align: top;\n    }\n\n    .dataframe thead tr th {\n        text-align: left;\n    }\n\n    .dataframe thead tr:last-of-type th {\n        text-align: right;\n    }\n</style>\n<table border=\"1\" class=\"dataframe\">\n  <thead>\n    <tr>\n      <th></th>\n      <th colspan=\"3\" halign=\"left\">강수량</th>\n      <th colspan=\"3\" halign=\"left\">강수확률</th>\n    </tr>\n    <tr>\n      <th>지역</th>\n      <th>경기</th>\n      <th>부산</th>\n      <th>서울</th>\n      <th>경기</th>\n      <th>부산</th>\n      <th>서울</th>\n    </tr>\n    <tr>\n      <th>요일</th>\n      <th></th>\n      <th></th>\n      <th></th>\n      <th></th>\n      <th></th>\n      <th></th>\n    </tr>\n  </thead>\n  <tbody>\n    <tr>\n      <th>금요일</th>\n      <td>100.0</td>\n      <td>NaN</td>\n      <td>100.0</td>\n      <td>10.0</td>\n      <td>NaN</td>\n      <td>90.0</td>\n    </tr>\n    <tr>\n      <th>목요일</th>\n      <td>50.0</td>\n      <td>NaN</td>\n      <td>50.0</td>\n      <td>50.0</td>\n      <td>NaN</td>\n      <td>50.0</td>\n    </tr>\n    <tr>\n      <th>수요일</th>\n      <td>100.0</td>\n      <td>NaN</td>\n      <td>1000.0</td>\n      <td>80.0</td>\n      <td>NaN</td>\n      <td>90.0</td>\n    </tr>\n    <tr>\n      <th>월요일</th>\n      <td>200.0</td>\n      <td>100.0</td>\n      <td>90.0</td>\n      <td>10.0</td>\n      <td>30.0</td>\n      <td>75.0</td>\n    </tr>\n    <tr>\n      <th>화요일</th>\n      <td>200.0</td>\n      <td>200.0</td>\n      <td>NaN</td>\n      <td>20.0</td>\n      <td>20.0</td>\n      <td>NaN</td>\n    </tr>\n  </tbody>\n</table>\n</div>"
     },
     "metadata": {},
     "execution_count": 43
    }
   ],
   "source": [
    "pd.pivot_table(df2, index='요일', columns='지역', aggfunc=np.mean)"
   ]
  },
  {
   "cell_type": "markdown",
   "metadata": {},
   "source": [
    "## level = (index)"
   ]
  },
  {
   "cell_type": "code",
   "execution_count": 44,
   "metadata": {},
   "outputs": [
    {
     "output_type": "execute_result",
     "data": {
      "text/plain": [
       "       PassengerId  Survived  Pclass  SibSp  Parch      Fare\n",
       "Age                                                         \n",
       "0.42         804.0       1.0     3.0    0.0    1.0    8.5167\n",
       "0.67         756.0       1.0     2.0    1.0    1.0   14.5000\n",
       "0.75         557.5       1.0     3.0    2.0    1.0   19.2583\n",
       "0.83         455.5       1.0     2.0    0.5    1.5   23.8750\n",
       "0.92         306.0       1.0     1.0    1.0    2.0  151.5500\n",
       "...            ...       ...     ...    ...    ...       ...\n",
       "70.00        709.5       0.0     1.5    0.5    0.5   40.7500\n",
       "70.50        117.0       0.0     3.0    0.0    0.0    7.7500\n",
       "71.00        295.5       0.0     1.0    0.0    0.0   42.0792\n",
       "74.00        852.0       0.0     3.0    0.0    0.0    7.7750\n",
       "80.00        631.0       1.0     1.0    0.0    0.0   30.0000\n",
       "\n",
       "[88 rows x 6 columns]"
      ],
      "text/html": "<div>\n<style scoped>\n    .dataframe tbody tr th:only-of-type {\n        vertical-align: middle;\n    }\n\n    .dataframe tbody tr th {\n        vertical-align: top;\n    }\n\n    .dataframe thead th {\n        text-align: right;\n    }\n</style>\n<table border=\"1\" class=\"dataframe\">\n  <thead>\n    <tr style=\"text-align: right;\">\n      <th></th>\n      <th>PassengerId</th>\n      <th>Survived</th>\n      <th>Pclass</th>\n      <th>SibSp</th>\n      <th>Parch</th>\n      <th>Fare</th>\n    </tr>\n    <tr>\n      <th>Age</th>\n      <th></th>\n      <th></th>\n      <th></th>\n      <th></th>\n      <th></th>\n      <th></th>\n    </tr>\n  </thead>\n  <tbody>\n    <tr>\n      <th>0.42</th>\n      <td>804.0</td>\n      <td>1.0</td>\n      <td>3.0</td>\n      <td>0.0</td>\n      <td>1.0</td>\n      <td>8.5167</td>\n    </tr>\n    <tr>\n      <th>0.67</th>\n      <td>756.0</td>\n      <td>1.0</td>\n      <td>2.0</td>\n      <td>1.0</td>\n      <td>1.0</td>\n      <td>14.5000</td>\n    </tr>\n    <tr>\n      <th>0.75</th>\n      <td>557.5</td>\n      <td>1.0</td>\n      <td>3.0</td>\n      <td>2.0</td>\n      <td>1.0</td>\n      <td>19.2583</td>\n    </tr>\n    <tr>\n      <th>0.83</th>\n      <td>455.5</td>\n      <td>1.0</td>\n      <td>2.0</td>\n      <td>0.5</td>\n      <td>1.5</td>\n      <td>23.8750</td>\n    </tr>\n    <tr>\n      <th>0.92</th>\n      <td>306.0</td>\n      <td>1.0</td>\n      <td>1.0</td>\n      <td>1.0</td>\n      <td>2.0</td>\n      <td>151.5500</td>\n    </tr>\n    <tr>\n      <th>...</th>\n      <td>...</td>\n      <td>...</td>\n      <td>...</td>\n      <td>...</td>\n      <td>...</td>\n      <td>...</td>\n    </tr>\n    <tr>\n      <th>70.00</th>\n      <td>709.5</td>\n      <td>0.0</td>\n      <td>1.5</td>\n      <td>0.5</td>\n      <td>0.5</td>\n      <td>40.7500</td>\n    </tr>\n    <tr>\n      <th>70.50</th>\n      <td>117.0</td>\n      <td>0.0</td>\n      <td>3.0</td>\n      <td>0.0</td>\n      <td>0.0</td>\n      <td>7.7500</td>\n    </tr>\n    <tr>\n      <th>71.00</th>\n      <td>295.5</td>\n      <td>0.0</td>\n      <td>1.0</td>\n      <td>0.0</td>\n      <td>0.0</td>\n      <td>42.0792</td>\n    </tr>\n    <tr>\n      <th>74.00</th>\n      <td>852.0</td>\n      <td>0.0</td>\n      <td>3.0</td>\n      <td>0.0</td>\n      <td>0.0</td>\n      <td>7.7750</td>\n    </tr>\n    <tr>\n      <th>80.00</th>\n      <td>631.0</td>\n      <td>1.0</td>\n      <td>1.0</td>\n      <td>0.0</td>\n      <td>0.0</td>\n      <td>30.0000</td>\n    </tr>\n  </tbody>\n</table>\n<p>88 rows × 6 columns</p>\n</div>"
     },
     "metadata": {},
     "execution_count": 44
    }
   ],
   "source": [
    "train_data.set_index('Age').groupby(level=0).mean()"
   ]
  },
  {
   "cell_type": "code",
   "execution_count": 45,
   "metadata": {},
   "outputs": [
    {
     "output_type": "execute_result",
     "data": {
      "text/plain": [
       "-1     0.293785\n",
       " 0     0.612903\n",
       " 10    0.401961\n",
       " 20    0.350000\n",
       " 30    0.437126\n",
       " 40    0.382022\n",
       " 50    0.416667\n",
       " 60    0.315789\n",
       " 70    0.000000\n",
       " 80    1.000000\n",
       "Name: Survived, dtype: float64"
      ]
     },
     "metadata": {},
     "execution_count": 45
    }
   ],
   "source": [
    "# groupby 내부 함수 사용\n",
    "\n",
    "import math\n",
    "def age_categorize(age):\n",
    "    if math.isnan(age):\n",
    "        return -1\n",
    "    return math.floor(age / 10) * 10\n",
    "\n",
    "train_data.set_index('Age').groupby(age_categorize).mean()['Survived']"
   ]
  },
  {
   "cell_type": "code",
   "execution_count": 46,
   "metadata": {},
   "outputs": [
    {
     "output_type": "execute_result",
     "data": {
      "text/plain": [
       "Pclass  Sex   \n",
       "1       female    34.611765\n",
       "        male      41.281386\n",
       "2       female    28.722973\n",
       "        male      30.740707\n",
       "3       female    21.750000\n",
       "        male      26.507589\n",
       "Name: Age, dtype: float64"
      ]
     },
     "metadata": {},
     "execution_count": 46
    }
   ],
   "source": [
    "# multi_index를 통해서 구하는 법\n",
    "\n",
    "train_data.set_index(['Pclass', 'Sex']).groupby(level=[0, 1]).mean()['Age']"
   ]
  },
  {
   "cell_type": "code",
   "execution_count": 47,
   "metadata": {},
   "outputs": [
    {
     "output_type": "execute_result",
     "data": {
      "text/plain": [
       "              PassengerId               Survived                 Age           \\\n",
       "                     mean     sum amax      mean sum amax       mean      sum   \n",
       "Pclass Sex                                                                      \n",
       "1      female  469.212766   44106  888  0.968085  91    1  34.611765  2942.00   \n",
       "       male    455.729508   55599  890  0.368852  45    1  41.281386  4169.42   \n",
       "2      female  443.105263   33676  881  0.921053  70    1  28.722973  2125.50   \n",
       "       male    447.962963   48380  887  0.157407  17    1  30.740707  3043.33   \n",
       "3      female  399.729167   57561  889  0.500000  72    1  21.750000  2218.50   \n",
       "       male    455.515850  158064  891  0.135447  47    1  26.507589  6706.42   \n",
       "\n",
       "                        SibSp               Parch                  Fare  \\\n",
       "               amax      mean  sum amax      mean  sum amax        mean   \n",
       "Pclass Sex                                                                \n",
       "1      female  63.0  0.553191   52    3  0.457447   43    2  106.125798   \n",
       "       male    80.0  0.311475   38    3  0.278689   34    4   67.226127   \n",
       "2      female  57.0  0.486842   37    3  0.605263   46    3   21.970121   \n",
       "       male    70.0  0.342593   37    2  0.222222   24    2   19.741782   \n",
       "3      female  63.0  0.895833  129    8  0.798611  115    6   16.118810   \n",
       "       male    74.0  0.498559  173    8  0.224784   78    5   12.661633   \n",
       "\n",
       "                                    \n",
       "                     sum      amax  \n",
       "Pclass Sex                          \n",
       "1      female  9975.8250  512.3292  \n",
       "       male    8201.5875  512.3292  \n",
       "2      female  1669.7292   65.0000  \n",
       "       male    2132.1125   73.5000  \n",
       "3      female  2321.1086   69.5500  \n",
       "       male    4393.5865   69.5500  "
      ],
      "text/html": "<div>\n<style scoped>\n    .dataframe tbody tr th:only-of-type {\n        vertical-align: middle;\n    }\n\n    .dataframe tbody tr th {\n        vertical-align: top;\n    }\n\n    .dataframe thead tr th {\n        text-align: left;\n    }\n\n    .dataframe thead tr:last-of-type th {\n        text-align: right;\n    }\n</style>\n<table border=\"1\" class=\"dataframe\">\n  <thead>\n    <tr>\n      <th></th>\n      <th></th>\n      <th colspan=\"3\" halign=\"left\">PassengerId</th>\n      <th colspan=\"3\" halign=\"left\">Survived</th>\n      <th colspan=\"3\" halign=\"left\">Age</th>\n      <th colspan=\"3\" halign=\"left\">SibSp</th>\n      <th colspan=\"3\" halign=\"left\">Parch</th>\n      <th colspan=\"3\" halign=\"left\">Fare</th>\n    </tr>\n    <tr>\n      <th></th>\n      <th></th>\n      <th>mean</th>\n      <th>sum</th>\n      <th>amax</th>\n      <th>mean</th>\n      <th>sum</th>\n      <th>amax</th>\n      <th>mean</th>\n      <th>sum</th>\n      <th>amax</th>\n      <th>mean</th>\n      <th>sum</th>\n      <th>amax</th>\n      <th>mean</th>\n      <th>sum</th>\n      <th>amax</th>\n      <th>mean</th>\n      <th>sum</th>\n      <th>amax</th>\n    </tr>\n    <tr>\n      <th>Pclass</th>\n      <th>Sex</th>\n      <th></th>\n      <th></th>\n      <th></th>\n      <th></th>\n      <th></th>\n      <th></th>\n      <th></th>\n      <th></th>\n      <th></th>\n      <th></th>\n      <th></th>\n      <th></th>\n      <th></th>\n      <th></th>\n      <th></th>\n      <th></th>\n      <th></th>\n      <th></th>\n    </tr>\n  </thead>\n  <tbody>\n    <tr>\n      <th rowspan=\"2\" valign=\"top\">1</th>\n      <th>female</th>\n      <td>469.212766</td>\n      <td>44106</td>\n      <td>888</td>\n      <td>0.968085</td>\n      <td>91</td>\n      <td>1</td>\n      <td>34.611765</td>\n      <td>2942.00</td>\n      <td>63.0</td>\n      <td>0.553191</td>\n      <td>52</td>\n      <td>3</td>\n      <td>0.457447</td>\n      <td>43</td>\n      <td>2</td>\n      <td>106.125798</td>\n      <td>9975.8250</td>\n      <td>512.3292</td>\n    </tr>\n    <tr>\n      <th>male</th>\n      <td>455.729508</td>\n      <td>55599</td>\n      <td>890</td>\n      <td>0.368852</td>\n      <td>45</td>\n      <td>1</td>\n      <td>41.281386</td>\n      <td>4169.42</td>\n      <td>80.0</td>\n      <td>0.311475</td>\n      <td>38</td>\n      <td>3</td>\n      <td>0.278689</td>\n      <td>34</td>\n      <td>4</td>\n      <td>67.226127</td>\n      <td>8201.5875</td>\n      <td>512.3292</td>\n    </tr>\n    <tr>\n      <th rowspan=\"2\" valign=\"top\">2</th>\n      <th>female</th>\n      <td>443.105263</td>\n      <td>33676</td>\n      <td>881</td>\n      <td>0.921053</td>\n      <td>70</td>\n      <td>1</td>\n      <td>28.722973</td>\n      <td>2125.50</td>\n      <td>57.0</td>\n      <td>0.486842</td>\n      <td>37</td>\n      <td>3</td>\n      <td>0.605263</td>\n      <td>46</td>\n      <td>3</td>\n      <td>21.970121</td>\n      <td>1669.7292</td>\n      <td>65.0000</td>\n    </tr>\n    <tr>\n      <th>male</th>\n      <td>447.962963</td>\n      <td>48380</td>\n      <td>887</td>\n      <td>0.157407</td>\n      <td>17</td>\n      <td>1</td>\n      <td>30.740707</td>\n      <td>3043.33</td>\n      <td>70.0</td>\n      <td>0.342593</td>\n      <td>37</td>\n      <td>2</td>\n      <td>0.222222</td>\n      <td>24</td>\n      <td>2</td>\n      <td>19.741782</td>\n      <td>2132.1125</td>\n      <td>73.5000</td>\n    </tr>\n    <tr>\n      <th rowspan=\"2\" valign=\"top\">3</th>\n      <th>female</th>\n      <td>399.729167</td>\n      <td>57561</td>\n      <td>889</td>\n      <td>0.500000</td>\n      <td>72</td>\n      <td>1</td>\n      <td>21.750000</td>\n      <td>2218.50</td>\n      <td>63.0</td>\n      <td>0.895833</td>\n      <td>129</td>\n      <td>8</td>\n      <td>0.798611</td>\n      <td>115</td>\n      <td>6</td>\n      <td>16.118810</td>\n      <td>2321.1086</td>\n      <td>69.5500</td>\n    </tr>\n    <tr>\n      <th>male</th>\n      <td>455.515850</td>\n      <td>158064</td>\n      <td>891</td>\n      <td>0.135447</td>\n      <td>47</td>\n      <td>1</td>\n      <td>26.507589</td>\n      <td>6706.42</td>\n      <td>74.0</td>\n      <td>0.498559</td>\n      <td>173</td>\n      <td>8</td>\n      <td>0.224784</td>\n      <td>78</td>\n      <td>5</td>\n      <td>12.661633</td>\n      <td>4393.5865</td>\n      <td>69.5500</td>\n    </tr>\n  </tbody>\n</table>\n</div>"
     },
     "metadata": {},
     "execution_count": 47
    }
   ],
   "source": [
    "train_data.set_index(['Pclass', 'Sex']).groupby(level=[0, 1]).aggregate([np.mean, np.sum, np.max])"
   ]
  },
  {
   "cell_type": "markdown",
   "metadata": {},
   "source": [
    "## stack / unstack"
   ]
  },
  {
   "cell_type": "markdown",
   "metadata": {},
   "source": [
    "- stack : 칼럼 레벨에서 인덱스 레벨로 dataframe 변경.\n",
    "즉, 데이터를 쌓아올리는 개념으로 이해.\n",
    "- unstack : 인덱스 레벨에서 칼럼 레벨로 dataframe 변경.\n",
    "stack의 반대 operation.\n",
    "둘은 역관계."
   ]
  },
  {
   "cell_type": "code",
   "execution_count": 48,
   "metadata": {},
   "outputs": [
    {
     "output_type": "execute_result",
     "data": {
      "text/plain": [
       "    지역   요일   강수량  강수확률\n",
       "0   서울  월요일   100    80\n",
       "1   서울  화요일    80    70\n",
       "2   서울  수요일  1000    90\n",
       "3   경기  월요일   200    10\n",
       "4   경기  화요일   200    20\n",
       "5   부산  월요일   100    30\n",
       "6   서울  목요일    50    50\n",
       "7   서울  금요일   100    90\n",
       "8   부산  화요일   200    20\n",
       "9   경기  수요일   100    80\n",
       "10  경기  목요일    50    50\n",
       "11  경기  금요일   100    10"
      ],
      "text/html": "<div>\n<style scoped>\n    .dataframe tbody tr th:only-of-type {\n        vertical-align: middle;\n    }\n\n    .dataframe tbody tr th {\n        vertical-align: top;\n    }\n\n    .dataframe thead th {\n        text-align: right;\n    }\n</style>\n<table border=\"1\" class=\"dataframe\">\n  <thead>\n    <tr style=\"text-align: right;\">\n      <th></th>\n      <th>지역</th>\n      <th>요일</th>\n      <th>강수량</th>\n      <th>강수확률</th>\n    </tr>\n  </thead>\n  <tbody>\n    <tr>\n      <th>0</th>\n      <td>서울</td>\n      <td>월요일</td>\n      <td>100</td>\n      <td>80</td>\n    </tr>\n    <tr>\n      <th>1</th>\n      <td>서울</td>\n      <td>화요일</td>\n      <td>80</td>\n      <td>70</td>\n    </tr>\n    <tr>\n      <th>2</th>\n      <td>서울</td>\n      <td>수요일</td>\n      <td>1000</td>\n      <td>90</td>\n    </tr>\n    <tr>\n      <th>3</th>\n      <td>경기</td>\n      <td>월요일</td>\n      <td>200</td>\n      <td>10</td>\n    </tr>\n    <tr>\n      <th>4</th>\n      <td>경기</td>\n      <td>화요일</td>\n      <td>200</td>\n      <td>20</td>\n    </tr>\n    <tr>\n      <th>5</th>\n      <td>부산</td>\n      <td>월요일</td>\n      <td>100</td>\n      <td>30</td>\n    </tr>\n    <tr>\n      <th>6</th>\n      <td>서울</td>\n      <td>목요일</td>\n      <td>50</td>\n      <td>50</td>\n    </tr>\n    <tr>\n      <th>7</th>\n      <td>서울</td>\n      <td>금요일</td>\n      <td>100</td>\n      <td>90</td>\n    </tr>\n    <tr>\n      <th>8</th>\n      <td>부산</td>\n      <td>화요일</td>\n      <td>200</td>\n      <td>20</td>\n    </tr>\n    <tr>\n      <th>9</th>\n      <td>경기</td>\n      <td>수요일</td>\n      <td>100</td>\n      <td>80</td>\n    </tr>\n    <tr>\n      <th>10</th>\n      <td>경기</td>\n      <td>목요일</td>\n      <td>50</td>\n      <td>50</td>\n    </tr>\n    <tr>\n      <th>11</th>\n      <td>경기</td>\n      <td>금요일</td>\n      <td>100</td>\n      <td>10</td>\n    </tr>\n  </tbody>\n</table>\n</div>"
     },
     "metadata": {},
     "execution_count": 48
    }
   ],
   "source": [
    "df = pd.DataFrame({\n",
    "    '지역' : ['서울', '서울', '서울', '경기', '경기', '부산', '서울', '서울', '부산', '경기', '경기', '경기'],\n",
    "    '요일' : ['월요일', '화요일', '수요일', '월요일', '화요일', '월요일', '목요일', '금요일', '화요일', '수요일', '목요일', '금요일'],\n",
    "    '강수량' : [100, 80, 1000, 200, 200, 100, 50, 100, 200, 100, 50, 100],\n",
    "    '강수확률' : [80, 70, 90, 10, 20, 30, 50, 90, 20, 80, 50, 10]\n",
    "})\n",
    "df"
   ]
  },
  {
   "cell_type": "code",
   "execution_count": 49,
   "metadata": {},
   "outputs": [
    {
     "output_type": "execute_result",
     "data": {
      "text/plain": [
       "         강수량  강수확률\n",
       "지역 요일             \n",
       "서울 월요일   100    80\n",
       "   화요일    80    70\n",
       "   수요일  1000    90\n",
       "경기 월요일   200    10\n",
       "   화요일   200    20\n",
       "부산 월요일   100    30\n",
       "서울 목요일    50    50\n",
       "   금요일   100    90\n",
       "부산 화요일   200    20\n",
       "경기 수요일   100    80\n",
       "   목요일    50    50\n",
       "   금요일   100    10"
      ],
      "text/html": "<div>\n<style scoped>\n    .dataframe tbody tr th:only-of-type {\n        vertical-align: middle;\n    }\n\n    .dataframe tbody tr th {\n        vertical-align: top;\n    }\n\n    .dataframe thead th {\n        text-align: right;\n    }\n</style>\n<table border=\"1\" class=\"dataframe\">\n  <thead>\n    <tr style=\"text-align: right;\">\n      <th></th>\n      <th></th>\n      <th>강수량</th>\n      <th>강수확률</th>\n    </tr>\n    <tr>\n      <th>지역</th>\n      <th>요일</th>\n      <th></th>\n      <th></th>\n    </tr>\n  </thead>\n  <tbody>\n    <tr>\n      <th rowspan=\"3\" valign=\"top\">서울</th>\n      <th>월요일</th>\n      <td>100</td>\n      <td>80</td>\n    </tr>\n    <tr>\n      <th>화요일</th>\n      <td>80</td>\n      <td>70</td>\n    </tr>\n    <tr>\n      <th>수요일</th>\n      <td>1000</td>\n      <td>90</td>\n    </tr>\n    <tr>\n      <th rowspan=\"2\" valign=\"top\">경기</th>\n      <th>월요일</th>\n      <td>200</td>\n      <td>10</td>\n    </tr>\n    <tr>\n      <th>화요일</th>\n      <td>200</td>\n      <td>20</td>\n    </tr>\n    <tr>\n      <th>부산</th>\n      <th>월요일</th>\n      <td>100</td>\n      <td>30</td>\n    </tr>\n    <tr>\n      <th rowspan=\"2\" valign=\"top\">서울</th>\n      <th>목요일</th>\n      <td>50</td>\n      <td>50</td>\n    </tr>\n    <tr>\n      <th>금요일</th>\n      <td>100</td>\n      <td>90</td>\n    </tr>\n    <tr>\n      <th>부산</th>\n      <th>화요일</th>\n      <td>200</td>\n      <td>20</td>\n    </tr>\n    <tr>\n      <th rowspan=\"3\" valign=\"top\">경기</th>\n      <th>수요일</th>\n      <td>100</td>\n      <td>80</td>\n    </tr>\n    <tr>\n      <th>목요일</th>\n      <td>50</td>\n      <td>50</td>\n    </tr>\n    <tr>\n      <th>금요일</th>\n      <td>100</td>\n      <td>10</td>\n    </tr>\n  </tbody>\n</table>\n</div>"
     },
     "metadata": {},
     "execution_count": 49
    }
   ],
   "source": [
    "new_df = df.set_index(['지역', '요일'])\n",
    "new_df"
   ]
  },
  {
   "cell_type": "code",
   "execution_count": 50,
   "metadata": {},
   "outputs": [
    {
     "output_type": "execute_result",
     "data": {
      "text/plain": [
       "       강수량                 강수확률            \n",
       "지역      경기     부산      서울    경기    부산    서울\n",
       "요일                                         \n",
       "금요일  100.0    NaN   100.0  10.0   NaN  90.0\n",
       "목요일   50.0    NaN    50.0  50.0   NaN  50.0\n",
       "수요일  100.0    NaN  1000.0  80.0   NaN  90.0\n",
       "월요일  200.0  100.0   100.0  10.0  30.0  80.0\n",
       "화요일  200.0  200.0    80.0  20.0  20.0  70.0"
      ],
      "text/html": "<div>\n<style scoped>\n    .dataframe tbody tr th:only-of-type {\n        vertical-align: middle;\n    }\n\n    .dataframe tbody tr th {\n        vertical-align: top;\n    }\n\n    .dataframe thead tr th {\n        text-align: left;\n    }\n\n    .dataframe thead tr:last-of-type th {\n        text-align: right;\n    }\n</style>\n<table border=\"1\" class=\"dataframe\">\n  <thead>\n    <tr>\n      <th></th>\n      <th colspan=\"3\" halign=\"left\">강수량</th>\n      <th colspan=\"3\" halign=\"left\">강수확률</th>\n    </tr>\n    <tr>\n      <th>지역</th>\n      <th>경기</th>\n      <th>부산</th>\n      <th>서울</th>\n      <th>경기</th>\n      <th>부산</th>\n      <th>서울</th>\n    </tr>\n    <tr>\n      <th>요일</th>\n      <th></th>\n      <th></th>\n      <th></th>\n      <th></th>\n      <th></th>\n      <th></th>\n    </tr>\n  </thead>\n  <tbody>\n    <tr>\n      <th>금요일</th>\n      <td>100.0</td>\n      <td>NaN</td>\n      <td>100.0</td>\n      <td>10.0</td>\n      <td>NaN</td>\n      <td>90.0</td>\n    </tr>\n    <tr>\n      <th>목요일</th>\n      <td>50.0</td>\n      <td>NaN</td>\n      <td>50.0</td>\n      <td>50.0</td>\n      <td>NaN</td>\n      <td>50.0</td>\n    </tr>\n    <tr>\n      <th>수요일</th>\n      <td>100.0</td>\n      <td>NaN</td>\n      <td>1000.0</td>\n      <td>80.0</td>\n      <td>NaN</td>\n      <td>90.0</td>\n    </tr>\n    <tr>\n      <th>월요일</th>\n      <td>200.0</td>\n      <td>100.0</td>\n      <td>100.0</td>\n      <td>10.0</td>\n      <td>30.0</td>\n      <td>80.0</td>\n    </tr>\n    <tr>\n      <th>화요일</th>\n      <td>200.0</td>\n      <td>200.0</td>\n      <td>80.0</td>\n      <td>20.0</td>\n      <td>20.0</td>\n      <td>70.0</td>\n    </tr>\n  </tbody>\n</table>\n</div>"
     },
     "metadata": {},
     "execution_count": 50
    }
   ],
   "source": [
    "new_df.unstack(0)"
   ]
  },
  {
   "cell_type": "code",
   "execution_count": 51,
   "metadata": {},
   "outputs": [
    {
     "output_type": "execute_result",
     "data": {
      "text/plain": [
       "      강수량                              강수확률                        \n",
       "요일    금요일   목요일     수요일    월요일    화요일   금요일   목요일   수요일   월요일   화요일\n",
       "지역                                                                 \n",
       "경기  100.0  50.0   100.0  200.0  200.0  10.0  50.0  80.0  10.0  20.0\n",
       "부산    NaN   NaN     NaN  100.0  200.0   NaN   NaN   NaN  30.0  20.0\n",
       "서울  100.0  50.0  1000.0  100.0   80.0  90.0  50.0  90.0  80.0  70.0"
      ],
      "text/html": "<div>\n<style scoped>\n    .dataframe tbody tr th:only-of-type {\n        vertical-align: middle;\n    }\n\n    .dataframe tbody tr th {\n        vertical-align: top;\n    }\n\n    .dataframe thead tr th {\n        text-align: left;\n    }\n\n    .dataframe thead tr:last-of-type th {\n        text-align: right;\n    }\n</style>\n<table border=\"1\" class=\"dataframe\">\n  <thead>\n    <tr>\n      <th></th>\n      <th colspan=\"5\" halign=\"left\">강수량</th>\n      <th colspan=\"5\" halign=\"left\">강수확률</th>\n    </tr>\n    <tr>\n      <th>요일</th>\n      <th>금요일</th>\n      <th>목요일</th>\n      <th>수요일</th>\n      <th>월요일</th>\n      <th>화요일</th>\n      <th>금요일</th>\n      <th>목요일</th>\n      <th>수요일</th>\n      <th>월요일</th>\n      <th>화요일</th>\n    </tr>\n    <tr>\n      <th>지역</th>\n      <th></th>\n      <th></th>\n      <th></th>\n      <th></th>\n      <th></th>\n      <th></th>\n      <th></th>\n      <th></th>\n      <th></th>\n      <th></th>\n    </tr>\n  </thead>\n  <tbody>\n    <tr>\n      <th>경기</th>\n      <td>100.0</td>\n      <td>50.0</td>\n      <td>100.0</td>\n      <td>200.0</td>\n      <td>200.0</td>\n      <td>10.0</td>\n      <td>50.0</td>\n      <td>80.0</td>\n      <td>10.0</td>\n      <td>20.0</td>\n    </tr>\n    <tr>\n      <th>부산</th>\n      <td>NaN</td>\n      <td>NaN</td>\n      <td>NaN</td>\n      <td>100.0</td>\n      <td>200.0</td>\n      <td>NaN</td>\n      <td>NaN</td>\n      <td>NaN</td>\n      <td>30.0</td>\n      <td>20.0</td>\n    </tr>\n    <tr>\n      <th>서울</th>\n      <td>100.0</td>\n      <td>50.0</td>\n      <td>1000.0</td>\n      <td>100.0</td>\n      <td>80.0</td>\n      <td>90.0</td>\n      <td>50.0</td>\n      <td>90.0</td>\n      <td>80.0</td>\n      <td>70.0</td>\n    </tr>\n  </tbody>\n</table>\n</div>"
     },
     "metadata": {},
     "execution_count": 51
    }
   ],
   "source": [
    "new_df.unstack(1)"
   ]
  },
  {
   "cell_type": "code",
   "execution_count": 52,
   "metadata": {},
   "outputs": [
    {
     "output_type": "execute_result",
     "data": {
      "text/plain": [
       "지역           경기     부산      서울\n",
       "요일                            \n",
       "금요일 강수량   100.0    NaN   100.0\n",
       "    강수확률   10.0    NaN    90.0\n",
       "목요일 강수량    50.0    NaN    50.0\n",
       "    강수확률   50.0    NaN    50.0\n",
       "수요일 강수량   100.0    NaN  1000.0\n",
       "    강수확률   80.0    NaN    90.0\n",
       "월요일 강수량   200.0  100.0   100.0\n",
       "    강수확률   10.0   30.0    80.0\n",
       "화요일 강수량   200.0  200.0    80.0\n",
       "    강수확률   20.0   20.0    70.0"
      ],
      "text/html": "<div>\n<style scoped>\n    .dataframe tbody tr th:only-of-type {\n        vertical-align: middle;\n    }\n\n    .dataframe tbody tr th {\n        vertical-align: top;\n    }\n\n    .dataframe thead th {\n        text-align: right;\n    }\n</style>\n<table border=\"1\" class=\"dataframe\">\n  <thead>\n    <tr style=\"text-align: right;\">\n      <th></th>\n      <th>지역</th>\n      <th>경기</th>\n      <th>부산</th>\n      <th>서울</th>\n    </tr>\n    <tr>\n      <th>요일</th>\n      <th></th>\n      <th></th>\n      <th></th>\n      <th></th>\n    </tr>\n  </thead>\n  <tbody>\n    <tr>\n      <th rowspan=\"2\" valign=\"top\">금요일</th>\n      <th>강수량</th>\n      <td>100.0</td>\n      <td>NaN</td>\n      <td>100.0</td>\n    </tr>\n    <tr>\n      <th>강수확률</th>\n      <td>10.0</td>\n      <td>NaN</td>\n      <td>90.0</td>\n    </tr>\n    <tr>\n      <th rowspan=\"2\" valign=\"top\">목요일</th>\n      <th>강수량</th>\n      <td>50.0</td>\n      <td>NaN</td>\n      <td>50.0</td>\n    </tr>\n    <tr>\n      <th>강수확률</th>\n      <td>50.0</td>\n      <td>NaN</td>\n      <td>50.0</td>\n    </tr>\n    <tr>\n      <th rowspan=\"2\" valign=\"top\">수요일</th>\n      <th>강수량</th>\n      <td>100.0</td>\n      <td>NaN</td>\n      <td>1000.0</td>\n    </tr>\n    <tr>\n      <th>강수확률</th>\n      <td>80.0</td>\n      <td>NaN</td>\n      <td>90.0</td>\n    </tr>\n    <tr>\n      <th rowspan=\"2\" valign=\"top\">월요일</th>\n      <th>강수량</th>\n      <td>200.0</td>\n      <td>100.0</td>\n      <td>100.0</td>\n    </tr>\n    <tr>\n      <th>강수확률</th>\n      <td>10.0</td>\n      <td>30.0</td>\n      <td>80.0</td>\n    </tr>\n    <tr>\n      <th rowspan=\"2\" valign=\"top\">화요일</th>\n      <th>강수량</th>\n      <td>200.0</td>\n      <td>200.0</td>\n      <td>80.0</td>\n    </tr>\n    <tr>\n      <th>강수확률</th>\n      <td>20.0</td>\n      <td>20.0</td>\n      <td>70.0</td>\n    </tr>\n  </tbody>\n</table>\n</div>"
     },
     "metadata": {},
     "execution_count": 52
    }
   ],
   "source": [
    "new_df.unstack(0).stack(0)"
   ]
  },
  {
   "cell_type": "code",
   "execution_count": 53,
   "metadata": {},
   "outputs": [
    {
     "output_type": "execute_result",
     "data": {
      "text/plain": [
       "           강수량  강수확률\n",
       "요일  지역              \n",
       "금요일 경기   100.0  10.0\n",
       "    서울   100.0  90.0\n",
       "목요일 경기    50.0  50.0\n",
       "    서울    50.0  50.0\n",
       "수요일 경기   100.0  80.0\n",
       "    서울  1000.0  90.0\n",
       "월요일 경기   200.0  10.0\n",
       "    부산   100.0  30.0\n",
       "    서울   100.0  80.0\n",
       "화요일 경기   200.0  20.0\n",
       "    부산   200.0  20.0\n",
       "    서울    80.0  70.0"
      ],
      "text/html": "<div>\n<style scoped>\n    .dataframe tbody tr th:only-of-type {\n        vertical-align: middle;\n    }\n\n    .dataframe tbody tr th {\n        vertical-align: top;\n    }\n\n    .dataframe thead th {\n        text-align: right;\n    }\n</style>\n<table border=\"1\" class=\"dataframe\">\n  <thead>\n    <tr style=\"text-align: right;\">\n      <th></th>\n      <th></th>\n      <th>강수량</th>\n      <th>강수확률</th>\n    </tr>\n    <tr>\n      <th>요일</th>\n      <th>지역</th>\n      <th></th>\n      <th></th>\n    </tr>\n  </thead>\n  <tbody>\n    <tr>\n      <th rowspan=\"2\" valign=\"top\">금요일</th>\n      <th>경기</th>\n      <td>100.0</td>\n      <td>10.0</td>\n    </tr>\n    <tr>\n      <th>서울</th>\n      <td>100.0</td>\n      <td>90.0</td>\n    </tr>\n    <tr>\n      <th rowspan=\"2\" valign=\"top\">목요일</th>\n      <th>경기</th>\n      <td>50.0</td>\n      <td>50.0</td>\n    </tr>\n    <tr>\n      <th>서울</th>\n      <td>50.0</td>\n      <td>50.0</td>\n    </tr>\n    <tr>\n      <th rowspan=\"2\" valign=\"top\">수요일</th>\n      <th>경기</th>\n      <td>100.0</td>\n      <td>80.0</td>\n    </tr>\n    <tr>\n      <th>서울</th>\n      <td>1000.0</td>\n      <td>90.0</td>\n    </tr>\n    <tr>\n      <th rowspan=\"3\" valign=\"top\">월요일</th>\n      <th>경기</th>\n      <td>200.0</td>\n      <td>10.0</td>\n    </tr>\n    <tr>\n      <th>부산</th>\n      <td>100.0</td>\n      <td>30.0</td>\n    </tr>\n    <tr>\n      <th>서울</th>\n      <td>100.0</td>\n      <td>80.0</td>\n    </tr>\n    <tr>\n      <th rowspan=\"3\" valign=\"top\">화요일</th>\n      <th>경기</th>\n      <td>200.0</td>\n      <td>20.0</td>\n    </tr>\n    <tr>\n      <th>부산</th>\n      <td>200.0</td>\n      <td>20.0</td>\n    </tr>\n    <tr>\n      <th>서울</th>\n      <td>80.0</td>\n      <td>70.0</td>\n    </tr>\n  </tbody>\n</table>\n</div>"
     },
     "metadata": {},
     "execution_count": 53
    }
   ],
   "source": [
    "new_df.unstack(0).stack(1)"
   ]
  },
  {
   "cell_type": "markdown",
   "metadata": {},
   "source": [
    "## concat"
   ]
  },
  {
   "source": [
    "### concat = 데이터 병합"
   ],
   "cell_type": "markdown",
   "metadata": {}
  },
  {
   "cell_type": "code",
   "execution_count": 54,
   "metadata": {},
   "outputs": [
    {
     "output_type": "execute_result",
     "data": {
      "text/plain": [
       "   key1    value1\n",
       "0     0 -1.942644\n",
       "1     1 -1.073932\n",
       "2     2 -0.301682\n",
       "3     3  0.203195\n",
       "4     4  1.089202\n",
       "5     5  0.347245\n",
       "6     6 -0.771346\n",
       "7     7 -1.436645\n",
       "8     8 -1.182444\n",
       "9     9 -0.312644\n",
       "0     0  0.201916\n",
       "1     1 -0.609363\n",
       "2     2 -0.972960\n",
       "3     3 -0.604596\n",
       "4     4 -0.263239\n",
       "5     5  0.786794\n",
       "6     6  0.599590\n",
       "7     7 -1.249790\n",
       "8     8  1.189390\n",
       "9     9 -0.252178"
      ],
      "text/html": "<div>\n<style scoped>\n    .dataframe tbody tr th:only-of-type {\n        vertical-align: middle;\n    }\n\n    .dataframe tbody tr th {\n        vertical-align: top;\n    }\n\n    .dataframe thead th {\n        text-align: right;\n    }\n</style>\n<table border=\"1\" class=\"dataframe\">\n  <thead>\n    <tr style=\"text-align: right;\">\n      <th></th>\n      <th>key1</th>\n      <th>value1</th>\n    </tr>\n  </thead>\n  <tbody>\n    <tr>\n      <th>0</th>\n      <td>0</td>\n      <td>-1.942644</td>\n    </tr>\n    <tr>\n      <th>1</th>\n      <td>1</td>\n      <td>-1.073932</td>\n    </tr>\n    <tr>\n      <th>2</th>\n      <td>2</td>\n      <td>-0.301682</td>\n    </tr>\n    <tr>\n      <th>3</th>\n      <td>3</td>\n      <td>0.203195</td>\n    </tr>\n    <tr>\n      <th>4</th>\n      <td>4</td>\n      <td>1.089202</td>\n    </tr>\n    <tr>\n      <th>5</th>\n      <td>5</td>\n      <td>0.347245</td>\n    </tr>\n    <tr>\n      <th>6</th>\n      <td>6</td>\n      <td>-0.771346</td>\n    </tr>\n    <tr>\n      <th>7</th>\n      <td>7</td>\n      <td>-1.436645</td>\n    </tr>\n    <tr>\n      <th>8</th>\n      <td>8</td>\n      <td>-1.182444</td>\n    </tr>\n    <tr>\n      <th>9</th>\n      <td>9</td>\n      <td>-0.312644</td>\n    </tr>\n    <tr>\n      <th>0</th>\n      <td>0</td>\n      <td>0.201916</td>\n    </tr>\n    <tr>\n      <th>1</th>\n      <td>1</td>\n      <td>-0.609363</td>\n    </tr>\n    <tr>\n      <th>2</th>\n      <td>2</td>\n      <td>-0.972960</td>\n    </tr>\n    <tr>\n      <th>3</th>\n      <td>3</td>\n      <td>-0.604596</td>\n    </tr>\n    <tr>\n      <th>4</th>\n      <td>4</td>\n      <td>-0.263239</td>\n    </tr>\n    <tr>\n      <th>5</th>\n      <td>5</td>\n      <td>0.786794</td>\n    </tr>\n    <tr>\n      <th>6</th>\n      <td>6</td>\n      <td>0.599590</td>\n    </tr>\n    <tr>\n      <th>7</th>\n      <td>7</td>\n      <td>-1.249790</td>\n    </tr>\n    <tr>\n      <th>8</th>\n      <td>8</td>\n      <td>1.189390</td>\n    </tr>\n    <tr>\n      <th>9</th>\n      <td>9</td>\n      <td>-0.252178</td>\n    </tr>\n  </tbody>\n</table>\n</div>"
     },
     "metadata": {},
     "execution_count": 54
    }
   ],
   "source": [
    "# df1에 df2 이어 붙이기\n",
    "\n",
    "df1 = pd.DataFrame({\n",
    "    'key1' : np.arange(10),\n",
    "    'value1' : np.random.randn(10),\n",
    "})\n",
    "\n",
    "df2 = pd.DataFrame({\n",
    "    'key1' : np.arange(10),\n",
    "    'value1' : np.random.randn(10)\n",
    "})\n",
    "\n",
    "pd.concat([df1, df2])"
   ]
  },
  {
   "cell_type": "code",
   "execution_count": 55,
   "metadata": {},
   "outputs": [
    {
     "output_type": "execute_result",
     "data": {
      "text/plain": [
       "    key1    value1\n",
       "0      0 -1.942644\n",
       "1      1 -1.073932\n",
       "2      2 -0.301682\n",
       "3      3  0.203195\n",
       "4      4  1.089202\n",
       "5      5  0.347245\n",
       "6      6 -0.771346\n",
       "7      7 -1.436645\n",
       "8      8 -1.182444\n",
       "9      9 -0.312644\n",
       "10     0  0.201916\n",
       "11     1 -0.609363\n",
       "12     2 -0.972960\n",
       "13     3 -0.604596\n",
       "14     4 -0.263239\n",
       "15     5  0.786794\n",
       "16     6  0.599590\n",
       "17     7 -1.249790\n",
       "18     8  1.189390\n",
       "19     9 -0.252178"
      ],
      "text/html": "<div>\n<style scoped>\n    .dataframe tbody tr th:only-of-type {\n        vertical-align: middle;\n    }\n\n    .dataframe tbody tr th {\n        vertical-align: top;\n    }\n\n    .dataframe thead th {\n        text-align: right;\n    }\n</style>\n<table border=\"1\" class=\"dataframe\">\n  <thead>\n    <tr style=\"text-align: right;\">\n      <th></th>\n      <th>key1</th>\n      <th>value1</th>\n    </tr>\n  </thead>\n  <tbody>\n    <tr>\n      <th>0</th>\n      <td>0</td>\n      <td>-1.942644</td>\n    </tr>\n    <tr>\n      <th>1</th>\n      <td>1</td>\n      <td>-1.073932</td>\n    </tr>\n    <tr>\n      <th>2</th>\n      <td>2</td>\n      <td>-0.301682</td>\n    </tr>\n    <tr>\n      <th>3</th>\n      <td>3</td>\n      <td>0.203195</td>\n    </tr>\n    <tr>\n      <th>4</th>\n      <td>4</td>\n      <td>1.089202</td>\n    </tr>\n    <tr>\n      <th>5</th>\n      <td>5</td>\n      <td>0.347245</td>\n    </tr>\n    <tr>\n      <th>6</th>\n      <td>6</td>\n      <td>-0.771346</td>\n    </tr>\n    <tr>\n      <th>7</th>\n      <td>7</td>\n      <td>-1.436645</td>\n    </tr>\n    <tr>\n      <th>8</th>\n      <td>8</td>\n      <td>-1.182444</td>\n    </tr>\n    <tr>\n      <th>9</th>\n      <td>9</td>\n      <td>-0.312644</td>\n    </tr>\n    <tr>\n      <th>10</th>\n      <td>0</td>\n      <td>0.201916</td>\n    </tr>\n    <tr>\n      <th>11</th>\n      <td>1</td>\n      <td>-0.609363</td>\n    </tr>\n    <tr>\n      <th>12</th>\n      <td>2</td>\n      <td>-0.972960</td>\n    </tr>\n    <tr>\n      <th>13</th>\n      <td>3</td>\n      <td>-0.604596</td>\n    </tr>\n    <tr>\n      <th>14</th>\n      <td>4</td>\n      <td>-0.263239</td>\n    </tr>\n    <tr>\n      <th>15</th>\n      <td>5</td>\n      <td>0.786794</td>\n    </tr>\n    <tr>\n      <th>16</th>\n      <td>6</td>\n      <td>0.599590</td>\n    </tr>\n    <tr>\n      <th>17</th>\n      <td>7</td>\n      <td>-1.249790</td>\n    </tr>\n    <tr>\n      <th>18</th>\n      <td>8</td>\n      <td>1.189390</td>\n    </tr>\n    <tr>\n      <th>19</th>\n      <td>9</td>\n      <td>-0.252178</td>\n    </tr>\n  </tbody>\n</table>\n</div>"
     },
     "metadata": {},
     "execution_count": 55
    }
   ],
   "source": [
    "pd.concat([df1, df2], ignore_index=True)"
   ]
  },
  {
   "cell_type": "code",
   "execution_count": 56,
   "metadata": {},
   "outputs": [
    {
     "output_type": "execute_result",
     "data": {
      "text/plain": [
       "   key1    value1  key1    value1\n",
       "0     0 -1.942644     0  0.201916\n",
       "1     1 -1.073932     1 -0.609363\n",
       "2     2 -0.301682     2 -0.972960\n",
       "3     3  0.203195     3 -0.604596\n",
       "4     4  1.089202     4 -0.263239\n",
       "5     5  0.347245     5  0.786794\n",
       "6     6 -0.771346     6  0.599590\n",
       "7     7 -1.436645     7 -1.249790\n",
       "8     8 -1.182444     8  1.189390\n",
       "9     9 -0.312644     9 -0.252178"
      ],
      "text/html": "<div>\n<style scoped>\n    .dataframe tbody tr th:only-of-type {\n        vertical-align: middle;\n    }\n\n    .dataframe tbody tr th {\n        vertical-align: top;\n    }\n\n    .dataframe thead th {\n        text-align: right;\n    }\n</style>\n<table border=\"1\" class=\"dataframe\">\n  <thead>\n    <tr style=\"text-align: right;\">\n      <th></th>\n      <th>key1</th>\n      <th>value1</th>\n      <th>key1</th>\n      <th>value1</th>\n    </tr>\n  </thead>\n  <tbody>\n    <tr>\n      <th>0</th>\n      <td>0</td>\n      <td>-1.942644</td>\n      <td>0</td>\n      <td>0.201916</td>\n    </tr>\n    <tr>\n      <th>1</th>\n      <td>1</td>\n      <td>-1.073932</td>\n      <td>1</td>\n      <td>-0.609363</td>\n    </tr>\n    <tr>\n      <th>2</th>\n      <td>2</td>\n      <td>-0.301682</td>\n      <td>2</td>\n      <td>-0.972960</td>\n    </tr>\n    <tr>\n      <th>3</th>\n      <td>3</td>\n      <td>0.203195</td>\n      <td>3</td>\n      <td>-0.604596</td>\n    </tr>\n    <tr>\n      <th>4</th>\n      <td>4</td>\n      <td>1.089202</td>\n      <td>4</td>\n      <td>-0.263239</td>\n    </tr>\n    <tr>\n      <th>5</th>\n      <td>5</td>\n      <td>0.347245</td>\n      <td>5</td>\n      <td>0.786794</td>\n    </tr>\n    <tr>\n      <th>6</th>\n      <td>6</td>\n      <td>-0.771346</td>\n      <td>6</td>\n      <td>0.599590</td>\n    </tr>\n    <tr>\n      <th>7</th>\n      <td>7</td>\n      <td>-1.436645</td>\n      <td>7</td>\n      <td>-1.249790</td>\n    </tr>\n    <tr>\n      <th>8</th>\n      <td>8</td>\n      <td>-1.182444</td>\n      <td>8</td>\n      <td>1.189390</td>\n    </tr>\n    <tr>\n      <th>9</th>\n      <td>9</td>\n      <td>-0.312644</td>\n      <td>9</td>\n      <td>-0.252178</td>\n    </tr>\n  </tbody>\n</table>\n</div>"
     },
     "metadata": {},
     "execution_count": 56
    }
   ],
   "source": [
    "pd.concat([df1, df2], axis=1) # 열 레벨 병합"
   ]
  },
  {
   "cell_type": "code",
   "execution_count": 57,
   "metadata": {},
   "outputs": [
    {
     "output_type": "execute_result",
     "data": {
      "text/plain": [
       "   key1    value1  key2    value2\n",
       "0   0.0 -1.942644   NaN       NaN\n",
       "1   1.0 -1.073932   NaN       NaN\n",
       "2   2.0 -0.301682   NaN       NaN\n",
       "3   3.0  0.203195   NaN       NaN\n",
       "4   4.0  1.089202   NaN       NaN\n",
       "5   5.0  0.347245   NaN       NaN\n",
       "6   6.0 -0.771346   NaN       NaN\n",
       "7   7.0 -1.436645   NaN       NaN\n",
       "8   8.0 -1.182444   NaN       NaN\n",
       "9   9.0 -0.312644   NaN       NaN\n",
       "0   NaN       NaN   0.0 -0.359050\n",
       "1   NaN       NaN   1.0 -0.321062\n",
       "2   NaN       NaN   2.0 -1.413985\n",
       "3   NaN       NaN   3.0 -0.566989\n",
       "4   NaN       NaN   4.0 -0.302688\n",
       "5   NaN       NaN   5.0 -1.711028\n",
       "6   NaN       NaN   6.0 -0.595188\n",
       "7   NaN       NaN   7.0  0.182622\n",
       "8   NaN       NaN   8.0  0.170992\n",
       "9   NaN       NaN   9.0 -1.046098"
      ],
      "text/html": "<div>\n<style scoped>\n    .dataframe tbody tr th:only-of-type {\n        vertical-align: middle;\n    }\n\n    .dataframe tbody tr th {\n        vertical-align: top;\n    }\n\n    .dataframe thead th {\n        text-align: right;\n    }\n</style>\n<table border=\"1\" class=\"dataframe\">\n  <thead>\n    <tr style=\"text-align: right;\">\n      <th></th>\n      <th>key1</th>\n      <th>value1</th>\n      <th>key2</th>\n      <th>value2</th>\n    </tr>\n  </thead>\n  <tbody>\n    <tr>\n      <th>0</th>\n      <td>0.0</td>\n      <td>-1.942644</td>\n      <td>NaN</td>\n      <td>NaN</td>\n    </tr>\n    <tr>\n      <th>1</th>\n      <td>1.0</td>\n      <td>-1.073932</td>\n      <td>NaN</td>\n      <td>NaN</td>\n    </tr>\n    <tr>\n      <th>2</th>\n      <td>2.0</td>\n      <td>-0.301682</td>\n      <td>NaN</td>\n      <td>NaN</td>\n    </tr>\n    <tr>\n      <th>3</th>\n      <td>3.0</td>\n      <td>0.203195</td>\n      <td>NaN</td>\n      <td>NaN</td>\n    </tr>\n    <tr>\n      <th>4</th>\n      <td>4.0</td>\n      <td>1.089202</td>\n      <td>NaN</td>\n      <td>NaN</td>\n    </tr>\n    <tr>\n      <th>5</th>\n      <td>5.0</td>\n      <td>0.347245</td>\n      <td>NaN</td>\n      <td>NaN</td>\n    </tr>\n    <tr>\n      <th>6</th>\n      <td>6.0</td>\n      <td>-0.771346</td>\n      <td>NaN</td>\n      <td>NaN</td>\n    </tr>\n    <tr>\n      <th>7</th>\n      <td>7.0</td>\n      <td>-1.436645</td>\n      <td>NaN</td>\n      <td>NaN</td>\n    </tr>\n    <tr>\n      <th>8</th>\n      <td>8.0</td>\n      <td>-1.182444</td>\n      <td>NaN</td>\n      <td>NaN</td>\n    </tr>\n    <tr>\n      <th>9</th>\n      <td>9.0</td>\n      <td>-0.312644</td>\n      <td>NaN</td>\n      <td>NaN</td>\n    </tr>\n    <tr>\n      <th>0</th>\n      <td>NaN</td>\n      <td>NaN</td>\n      <td>0.0</td>\n      <td>-0.359050</td>\n    </tr>\n    <tr>\n      <th>1</th>\n      <td>NaN</td>\n      <td>NaN</td>\n      <td>1.0</td>\n      <td>-0.321062</td>\n    </tr>\n    <tr>\n      <th>2</th>\n      <td>NaN</td>\n      <td>NaN</td>\n      <td>2.0</td>\n      <td>-1.413985</td>\n    </tr>\n    <tr>\n      <th>3</th>\n      <td>NaN</td>\n      <td>NaN</td>\n      <td>3.0</td>\n      <td>-0.566989</td>\n    </tr>\n    <tr>\n      <th>4</th>\n      <td>NaN</td>\n      <td>NaN</td>\n      <td>4.0</td>\n      <td>-0.302688</td>\n    </tr>\n    <tr>\n      <th>5</th>\n      <td>NaN</td>\n      <td>NaN</td>\n      <td>5.0</td>\n      <td>-1.711028</td>\n    </tr>\n    <tr>\n      <th>6</th>\n      <td>NaN</td>\n      <td>NaN</td>\n      <td>6.0</td>\n      <td>-0.595188</td>\n    </tr>\n    <tr>\n      <th>7</th>\n      <td>NaN</td>\n      <td>NaN</td>\n      <td>7.0</td>\n      <td>0.182622</td>\n    </tr>\n    <tr>\n      <th>8</th>\n      <td>NaN</td>\n      <td>NaN</td>\n      <td>8.0</td>\n      <td>0.170992</td>\n    </tr>\n    <tr>\n      <th>9</th>\n      <td>NaN</td>\n      <td>NaN</td>\n      <td>9.0</td>\n      <td>-1.046098</td>\n    </tr>\n  </tbody>\n</table>\n</div>"
     },
     "metadata": {},
     "execution_count": 57
    }
   ],
   "source": [
    "df3 = pd.DataFrame({\n",
    "    'key2' : np.arange(10),\n",
    "    'value2' : np.random.randn(10),\n",
    "})\n",
    "\n",
    "pd.concat([df1, df3])"
   ]
  },
  {
   "cell_type": "code",
   "execution_count": 58,
   "metadata": {},
   "outputs": [
    {
     "output_type": "execute_result",
     "data": {
      "text/plain": [
       "   key1    value1  key2    value2\n",
       "0     0 -1.942644     0 -0.359050\n",
       "1     1 -1.073932     1 -0.321062\n",
       "2     2 -0.301682     2 -1.413985\n",
       "3     3  0.203195     3 -0.566989\n",
       "4     4  1.089202     4 -0.302688\n",
       "5     5  0.347245     5 -1.711028\n",
       "6     6 -0.771346     6 -0.595188\n",
       "7     7 -1.436645     7  0.182622\n",
       "8     8 -1.182444     8  0.170992\n",
       "9     9 -0.312644     9 -1.046098"
      ],
      "text/html": "<div>\n<style scoped>\n    .dataframe tbody tr th:only-of-type {\n        vertical-align: middle;\n    }\n\n    .dataframe tbody tr th {\n        vertical-align: top;\n    }\n\n    .dataframe thead th {\n        text-align: right;\n    }\n</style>\n<table border=\"1\" class=\"dataframe\">\n  <thead>\n    <tr style=\"text-align: right;\">\n      <th></th>\n      <th>key1</th>\n      <th>value1</th>\n      <th>key2</th>\n      <th>value2</th>\n    </tr>\n  </thead>\n  <tbody>\n    <tr>\n      <th>0</th>\n      <td>0</td>\n      <td>-1.942644</td>\n      <td>0</td>\n      <td>-0.359050</td>\n    </tr>\n    <tr>\n      <th>1</th>\n      <td>1</td>\n      <td>-1.073932</td>\n      <td>1</td>\n      <td>-0.321062</td>\n    </tr>\n    <tr>\n      <th>2</th>\n      <td>2</td>\n      <td>-0.301682</td>\n      <td>2</td>\n      <td>-1.413985</td>\n    </tr>\n    <tr>\n      <th>3</th>\n      <td>3</td>\n      <td>0.203195</td>\n      <td>3</td>\n      <td>-0.566989</td>\n    </tr>\n    <tr>\n      <th>4</th>\n      <td>4</td>\n      <td>1.089202</td>\n      <td>4</td>\n      <td>-0.302688</td>\n    </tr>\n    <tr>\n      <th>5</th>\n      <td>5</td>\n      <td>0.347245</td>\n      <td>5</td>\n      <td>-1.711028</td>\n    </tr>\n    <tr>\n      <th>6</th>\n      <td>6</td>\n      <td>-0.771346</td>\n      <td>6</td>\n      <td>-0.595188</td>\n    </tr>\n    <tr>\n      <th>7</th>\n      <td>7</td>\n      <td>-1.436645</td>\n      <td>7</td>\n      <td>0.182622</td>\n    </tr>\n    <tr>\n      <th>8</th>\n      <td>8</td>\n      <td>-1.182444</td>\n      <td>8</td>\n      <td>0.170992</td>\n    </tr>\n    <tr>\n      <th>9</th>\n      <td>9</td>\n      <td>-0.312644</td>\n      <td>9</td>\n      <td>-1.046098</td>\n    </tr>\n  </tbody>\n</table>\n</div>"
     },
     "metadata": {},
     "execution_count": 58
    }
   ],
   "source": [
    "pd.concat([df1, df3], axis=1)"
   ]
  },
  {
   "source": [
    "## merge"
   ],
   "cell_type": "markdown",
   "metadata": {}
  },
  {
   "source": [
    "### DataFrame\n",
    "  - SQL의 join처럼 특정한 column을 기준으로 병합\n",
    "    - join 방식 : how 파라미터를 통해서 명시\n",
    "      - inner : 기본값, 일치하는 값이 있는 경우\n",
    "      - left : left outer join\n",
    "      - right : right outer join\n",
    "      - outer : full outer join\n",
    "- pandas.merge 함수가 사용됨\n",
    "\n",
    "- on \n",
    "  - join 대상이 된느 column 명시"
   ],
   "cell_type": "markdown",
   "metadata": {}
  },
  {
   "cell_type": "code",
   "execution_count": 59,
   "metadata": {},
   "outputs": [],
   "source": [
    "customer = pd.DataFrame({\n",
    "    'customer_id' : np.arange(6),\n",
    "    'name' : ['철수', '영희', '길동', '영수', '수민', '진혁'],\n",
    "    '나이' : [40, 20, 21, 30, 31, 18],\n",
    "})\n",
    "\n",
    "orders = pd.DataFrame({\n",
    "    'customer_id' : [1, 1, 3, 3, 2, 2, 2, 1, 4, 9],\n",
    "    'item' : ['치약', '칫솔', '이어폰', '헤드셋', '수건', '생수', '수건', '치약', '생수', '케이스'],\n",
    "    'quantity' : [1, 2, 1, 1, 3, 2, 2, 3, 2, 1]\n",
    "})\n",
    "\n"
   ]
  },
  {
   "cell_type": "code",
   "execution_count": 60,
   "metadata": {},
   "outputs": [
    {
     "output_type": "execute_result",
     "data": {
      "text/plain": [
       "   customer_id name  나이 item  quantity\n",
       "0            1   영희  20   치약         1\n",
       "1            1   영희  20   칫솔         2\n",
       "2            1   영희  20   치약         3\n",
       "3            2   길동  21   수건         3\n",
       "4            2   길동  21   생수         2\n",
       "5            2   길동  21   수건         2\n",
       "6            3   영수  30  이어폰         1\n",
       "7            3   영수  30  헤드셋         1\n",
       "8            4   수민  31   생수         2"
      ],
      "text/html": "<div>\n<style scoped>\n    .dataframe tbody tr th:only-of-type {\n        vertical-align: middle;\n    }\n\n    .dataframe tbody tr th {\n        vertical-align: top;\n    }\n\n    .dataframe thead th {\n        text-align: right;\n    }\n</style>\n<table border=\"1\" class=\"dataframe\">\n  <thead>\n    <tr style=\"text-align: right;\">\n      <th></th>\n      <th>customer_id</th>\n      <th>name</th>\n      <th>나이</th>\n      <th>item</th>\n      <th>quantity</th>\n    </tr>\n  </thead>\n  <tbody>\n    <tr>\n      <th>0</th>\n      <td>1</td>\n      <td>영희</td>\n      <td>20</td>\n      <td>치약</td>\n      <td>1</td>\n    </tr>\n    <tr>\n      <th>1</th>\n      <td>1</td>\n      <td>영희</td>\n      <td>20</td>\n      <td>칫솔</td>\n      <td>2</td>\n    </tr>\n    <tr>\n      <th>2</th>\n      <td>1</td>\n      <td>영희</td>\n      <td>20</td>\n      <td>치약</td>\n      <td>3</td>\n    </tr>\n    <tr>\n      <th>3</th>\n      <td>2</td>\n      <td>길동</td>\n      <td>21</td>\n      <td>수건</td>\n      <td>3</td>\n    </tr>\n    <tr>\n      <th>4</th>\n      <td>2</td>\n      <td>길동</td>\n      <td>21</td>\n      <td>생수</td>\n      <td>2</td>\n    </tr>\n    <tr>\n      <th>5</th>\n      <td>2</td>\n      <td>길동</td>\n      <td>21</td>\n      <td>수건</td>\n      <td>2</td>\n    </tr>\n    <tr>\n      <th>6</th>\n      <td>3</td>\n      <td>영수</td>\n      <td>30</td>\n      <td>이어폰</td>\n      <td>1</td>\n    </tr>\n    <tr>\n      <th>7</th>\n      <td>3</td>\n      <td>영수</td>\n      <td>30</td>\n      <td>헤드셋</td>\n      <td>1</td>\n    </tr>\n    <tr>\n      <th>8</th>\n      <td>4</td>\n      <td>수민</td>\n      <td>31</td>\n      <td>생수</td>\n      <td>2</td>\n    </tr>\n  </tbody>\n</table>\n</div>"
     },
     "metadata": {},
     "execution_count": 60
    }
   ],
   "source": [
    "pd.merge(customer, orders, on='customer_id')"
   ]
  },
  {
   "cell_type": "code",
   "execution_count": 61,
   "metadata": {},
   "outputs": [
    {
     "output_type": "execute_result",
     "data": {
      "text/plain": [
       "   customer_id name  나이 item  quantity\n",
       "0            1   영희  20   치약         1\n",
       "1            1   영희  20   칫솔         2\n",
       "2            1   영희  20   치약         3\n",
       "3            2   길동  21   수건         3\n",
       "4            2   길동  21   생수         2\n",
       "5            2   길동  21   수건         2\n",
       "6            3   영수  30  이어폰         1\n",
       "7            3   영수  30  헤드셋         1\n",
       "8            4   수민  31   생수         2"
      ],
      "text/html": "<div>\n<style scoped>\n    .dataframe tbody tr th:only-of-type {\n        vertical-align: middle;\n    }\n\n    .dataframe tbody tr th {\n        vertical-align: top;\n    }\n\n    .dataframe thead th {\n        text-align: right;\n    }\n</style>\n<table border=\"1\" class=\"dataframe\">\n  <thead>\n    <tr style=\"text-align: right;\">\n      <th></th>\n      <th>customer_id</th>\n      <th>name</th>\n      <th>나이</th>\n      <th>item</th>\n      <th>quantity</th>\n    </tr>\n  </thead>\n  <tbody>\n    <tr>\n      <th>0</th>\n      <td>1</td>\n      <td>영희</td>\n      <td>20</td>\n      <td>치약</td>\n      <td>1</td>\n    </tr>\n    <tr>\n      <th>1</th>\n      <td>1</td>\n      <td>영희</td>\n      <td>20</td>\n      <td>칫솔</td>\n      <td>2</td>\n    </tr>\n    <tr>\n      <th>2</th>\n      <td>1</td>\n      <td>영희</td>\n      <td>20</td>\n      <td>치약</td>\n      <td>3</td>\n    </tr>\n    <tr>\n      <th>3</th>\n      <td>2</td>\n      <td>길동</td>\n      <td>21</td>\n      <td>수건</td>\n      <td>3</td>\n    </tr>\n    <tr>\n      <th>4</th>\n      <td>2</td>\n      <td>길동</td>\n      <td>21</td>\n      <td>생수</td>\n      <td>2</td>\n    </tr>\n    <tr>\n      <th>5</th>\n      <td>2</td>\n      <td>길동</td>\n      <td>21</td>\n      <td>수건</td>\n      <td>2</td>\n    </tr>\n    <tr>\n      <th>6</th>\n      <td>3</td>\n      <td>영수</td>\n      <td>30</td>\n      <td>이어폰</td>\n      <td>1</td>\n    </tr>\n    <tr>\n      <th>7</th>\n      <td>3</td>\n      <td>영수</td>\n      <td>30</td>\n      <td>헤드셋</td>\n      <td>1</td>\n    </tr>\n    <tr>\n      <th>8</th>\n      <td>4</td>\n      <td>수민</td>\n      <td>31</td>\n      <td>생수</td>\n      <td>2</td>\n    </tr>\n  </tbody>\n</table>\n</div>"
     },
     "metadata": {},
     "execution_count": 61
    }
   ],
   "source": [
    "pd.merge(customer, orders, on='customer_id', how='inner')"
   ]
  },
  {
   "cell_type": "code",
   "execution_count": 62,
   "metadata": {},
   "outputs": [
    {
     "output_type": "execute_result",
     "data": {
      "text/plain": [
       "    customer_id name  나이 item  quantity\n",
       "0             0   철수  40  NaN       NaN\n",
       "1             1   영희  20   치약       1.0\n",
       "2             1   영희  20   칫솔       2.0\n",
       "3             1   영희  20   치약       3.0\n",
       "4             2   길동  21   수건       3.0\n",
       "5             2   길동  21   생수       2.0\n",
       "6             2   길동  21   수건       2.0\n",
       "7             3   영수  30  이어폰       1.0\n",
       "8             3   영수  30  헤드셋       1.0\n",
       "9             4   수민  31   생수       2.0\n",
       "10            5   진혁  18  NaN       NaN"
      ],
      "text/html": "<div>\n<style scoped>\n    .dataframe tbody tr th:only-of-type {\n        vertical-align: middle;\n    }\n\n    .dataframe tbody tr th {\n        vertical-align: top;\n    }\n\n    .dataframe thead th {\n        text-align: right;\n    }\n</style>\n<table border=\"1\" class=\"dataframe\">\n  <thead>\n    <tr style=\"text-align: right;\">\n      <th></th>\n      <th>customer_id</th>\n      <th>name</th>\n      <th>나이</th>\n      <th>item</th>\n      <th>quantity</th>\n    </tr>\n  </thead>\n  <tbody>\n    <tr>\n      <th>0</th>\n      <td>0</td>\n      <td>철수</td>\n      <td>40</td>\n      <td>NaN</td>\n      <td>NaN</td>\n    </tr>\n    <tr>\n      <th>1</th>\n      <td>1</td>\n      <td>영희</td>\n      <td>20</td>\n      <td>치약</td>\n      <td>1.0</td>\n    </tr>\n    <tr>\n      <th>2</th>\n      <td>1</td>\n      <td>영희</td>\n      <td>20</td>\n      <td>칫솔</td>\n      <td>2.0</td>\n    </tr>\n    <tr>\n      <th>3</th>\n      <td>1</td>\n      <td>영희</td>\n      <td>20</td>\n      <td>치약</td>\n      <td>3.0</td>\n    </tr>\n    <tr>\n      <th>4</th>\n      <td>2</td>\n      <td>길동</td>\n      <td>21</td>\n      <td>수건</td>\n      <td>3.0</td>\n    </tr>\n    <tr>\n      <th>5</th>\n      <td>2</td>\n      <td>길동</td>\n      <td>21</td>\n      <td>생수</td>\n      <td>2.0</td>\n    </tr>\n    <tr>\n      <th>6</th>\n      <td>2</td>\n      <td>길동</td>\n      <td>21</td>\n      <td>수건</td>\n      <td>2.0</td>\n    </tr>\n    <tr>\n      <th>7</th>\n      <td>3</td>\n      <td>영수</td>\n      <td>30</td>\n      <td>이어폰</td>\n      <td>1.0</td>\n    </tr>\n    <tr>\n      <th>8</th>\n      <td>3</td>\n      <td>영수</td>\n      <td>30</td>\n      <td>헤드셋</td>\n      <td>1.0</td>\n    </tr>\n    <tr>\n      <th>9</th>\n      <td>4</td>\n      <td>수민</td>\n      <td>31</td>\n      <td>생수</td>\n      <td>2.0</td>\n    </tr>\n    <tr>\n      <th>10</th>\n      <td>5</td>\n      <td>진혁</td>\n      <td>18</td>\n      <td>NaN</td>\n      <td>NaN</td>\n    </tr>\n  </tbody>\n</table>\n</div>"
     },
     "metadata": {},
     "execution_count": 62
    }
   ],
   "source": [
    "pd.merge(customer, orders, on='customer_id', how='left')"
   ]
  },
  {
   "cell_type": "code",
   "execution_count": 63,
   "metadata": {},
   "outputs": [
    {
     "output_type": "execute_result",
     "data": {
      "text/plain": [
       "   customer_id name    나이 item  quantity\n",
       "0            1   영희  20.0   치약         1\n",
       "1            1   영희  20.0   칫솔         2\n",
       "2            1   영희  20.0   치약         3\n",
       "3            3   영수  30.0  이어폰         1\n",
       "4            3   영수  30.0  헤드셋         1\n",
       "5            2   길동  21.0   수건         3\n",
       "6            2   길동  21.0   생수         2\n",
       "7            2   길동  21.0   수건         2\n",
       "8            4   수민  31.0   생수         2\n",
       "9            9  NaN   NaN  케이스         1"
      ],
      "text/html": "<div>\n<style scoped>\n    .dataframe tbody tr th:only-of-type {\n        vertical-align: middle;\n    }\n\n    .dataframe tbody tr th {\n        vertical-align: top;\n    }\n\n    .dataframe thead th {\n        text-align: right;\n    }\n</style>\n<table border=\"1\" class=\"dataframe\">\n  <thead>\n    <tr style=\"text-align: right;\">\n      <th></th>\n      <th>customer_id</th>\n      <th>name</th>\n      <th>나이</th>\n      <th>item</th>\n      <th>quantity</th>\n    </tr>\n  </thead>\n  <tbody>\n    <tr>\n      <th>0</th>\n      <td>1</td>\n      <td>영희</td>\n      <td>20.0</td>\n      <td>치약</td>\n      <td>1</td>\n    </tr>\n    <tr>\n      <th>1</th>\n      <td>1</td>\n      <td>영희</td>\n      <td>20.0</td>\n      <td>칫솔</td>\n      <td>2</td>\n    </tr>\n    <tr>\n      <th>2</th>\n      <td>1</td>\n      <td>영희</td>\n      <td>20.0</td>\n      <td>치약</td>\n      <td>3</td>\n    </tr>\n    <tr>\n      <th>3</th>\n      <td>3</td>\n      <td>영수</td>\n      <td>30.0</td>\n      <td>이어폰</td>\n      <td>1</td>\n    </tr>\n    <tr>\n      <th>4</th>\n      <td>3</td>\n      <td>영수</td>\n      <td>30.0</td>\n      <td>헤드셋</td>\n      <td>1</td>\n    </tr>\n    <tr>\n      <th>5</th>\n      <td>2</td>\n      <td>길동</td>\n      <td>21.0</td>\n      <td>수건</td>\n      <td>3</td>\n    </tr>\n    <tr>\n      <th>6</th>\n      <td>2</td>\n      <td>길동</td>\n      <td>21.0</td>\n      <td>생수</td>\n      <td>2</td>\n    </tr>\n    <tr>\n      <th>7</th>\n      <td>2</td>\n      <td>길동</td>\n      <td>21.0</td>\n      <td>수건</td>\n      <td>2</td>\n    </tr>\n    <tr>\n      <th>8</th>\n      <td>4</td>\n      <td>수민</td>\n      <td>31.0</td>\n      <td>생수</td>\n      <td>2</td>\n    </tr>\n    <tr>\n      <th>9</th>\n      <td>9</td>\n      <td>NaN</td>\n      <td>NaN</td>\n      <td>케이스</td>\n      <td>1</td>\n    </tr>\n  </tbody>\n</table>\n</div>"
     },
     "metadata": {},
     "execution_count": 63
    }
   ],
   "source": [
    "pd.merge(customer, orders, on='customer_id', how='right')"
   ]
  },
  {
   "cell_type": "code",
   "execution_count": 64,
   "metadata": {},
   "outputs": [
    {
     "output_type": "execute_result",
     "data": {
      "text/plain": [
       "    customer_id name    나이 item  quantity\n",
       "0             0   철수  40.0  NaN       NaN\n",
       "1             1   영희  20.0   치약       1.0\n",
       "2             1   영희  20.0   칫솔       2.0\n",
       "3             1   영희  20.0   치약       3.0\n",
       "4             2   길동  21.0   수건       3.0\n",
       "5             2   길동  21.0   생수       2.0\n",
       "6             2   길동  21.0   수건       2.0\n",
       "7             3   영수  30.0  이어폰       1.0\n",
       "8             3   영수  30.0  헤드셋       1.0\n",
       "9             4   수민  31.0   생수       2.0\n",
       "10            5   진혁  18.0  NaN       NaN\n",
       "11            9  NaN   NaN  케이스       1.0"
      ],
      "text/html": "<div>\n<style scoped>\n    .dataframe tbody tr th:only-of-type {\n        vertical-align: middle;\n    }\n\n    .dataframe tbody tr th {\n        vertical-align: top;\n    }\n\n    .dataframe thead th {\n        text-align: right;\n    }\n</style>\n<table border=\"1\" class=\"dataframe\">\n  <thead>\n    <tr style=\"text-align: right;\">\n      <th></th>\n      <th>customer_id</th>\n      <th>name</th>\n      <th>나이</th>\n      <th>item</th>\n      <th>quantity</th>\n    </tr>\n  </thead>\n  <tbody>\n    <tr>\n      <th>0</th>\n      <td>0</td>\n      <td>철수</td>\n      <td>40.0</td>\n      <td>NaN</td>\n      <td>NaN</td>\n    </tr>\n    <tr>\n      <th>1</th>\n      <td>1</td>\n      <td>영희</td>\n      <td>20.0</td>\n      <td>치약</td>\n      <td>1.0</td>\n    </tr>\n    <tr>\n      <th>2</th>\n      <td>1</td>\n      <td>영희</td>\n      <td>20.0</td>\n      <td>칫솔</td>\n      <td>2.0</td>\n    </tr>\n    <tr>\n      <th>3</th>\n      <td>1</td>\n      <td>영희</td>\n      <td>20.0</td>\n      <td>치약</td>\n      <td>3.0</td>\n    </tr>\n    <tr>\n      <th>4</th>\n      <td>2</td>\n      <td>길동</td>\n      <td>21.0</td>\n      <td>수건</td>\n      <td>3.0</td>\n    </tr>\n    <tr>\n      <th>5</th>\n      <td>2</td>\n      <td>길동</td>\n      <td>21.0</td>\n      <td>생수</td>\n      <td>2.0</td>\n    </tr>\n    <tr>\n      <th>6</th>\n      <td>2</td>\n      <td>길동</td>\n      <td>21.0</td>\n      <td>수건</td>\n      <td>2.0</td>\n    </tr>\n    <tr>\n      <th>7</th>\n      <td>3</td>\n      <td>영수</td>\n      <td>30.0</td>\n      <td>이어폰</td>\n      <td>1.0</td>\n    </tr>\n    <tr>\n      <th>8</th>\n      <td>3</td>\n      <td>영수</td>\n      <td>30.0</td>\n      <td>헤드셋</td>\n      <td>1.0</td>\n    </tr>\n    <tr>\n      <th>9</th>\n      <td>4</td>\n      <td>수민</td>\n      <td>31.0</td>\n      <td>생수</td>\n      <td>2.0</td>\n    </tr>\n    <tr>\n      <th>10</th>\n      <td>5</td>\n      <td>진혁</td>\n      <td>18.0</td>\n      <td>NaN</td>\n      <td>NaN</td>\n    </tr>\n    <tr>\n      <th>11</th>\n      <td>9</td>\n      <td>NaN</td>\n      <td>NaN</td>\n      <td>케이스</td>\n      <td>1.0</td>\n    </tr>\n  </tbody>\n</table>\n</div>"
     },
     "metadata": {},
     "execution_count": 64
    }
   ],
   "source": [
    "pd.merge(customer, orders, on='customer_id', how='outer')"
   ]
  },
  {
   "cell_type": "code",
   "execution_count": 65,
   "metadata": {},
   "outputs": [
    {
     "output_type": "execute_result",
     "data": {
      "text/plain": [
       "            name  나이 item  quantity\n",
       "customer_id                        \n",
       "1             영희  20   치약         1\n",
       "1             영희  20   칫솔         2\n",
       "1             영희  20   치약         3\n",
       "2             길동  21   수건         3\n",
       "2             길동  21   생수         2\n",
       "2             길동  21   수건         2\n",
       "3             영수  30  이어폰         1\n",
       "3             영수  30  헤드셋         1\n",
       "4             수민  31   생수         2"
      ],
      "text/html": "<div>\n<style scoped>\n    .dataframe tbody tr th:only-of-type {\n        vertical-align: middle;\n    }\n\n    .dataframe tbody tr th {\n        vertical-align: top;\n    }\n\n    .dataframe thead th {\n        text-align: right;\n    }\n</style>\n<table border=\"1\" class=\"dataframe\">\n  <thead>\n    <tr style=\"text-align: right;\">\n      <th></th>\n      <th>name</th>\n      <th>나이</th>\n      <th>item</th>\n      <th>quantity</th>\n    </tr>\n    <tr>\n      <th>customer_id</th>\n      <th></th>\n      <th></th>\n      <th></th>\n      <th></th>\n    </tr>\n  </thead>\n  <tbody>\n    <tr>\n      <th>1</th>\n      <td>영희</td>\n      <td>20</td>\n      <td>치약</td>\n      <td>1</td>\n    </tr>\n    <tr>\n      <th>1</th>\n      <td>영희</td>\n      <td>20</td>\n      <td>칫솔</td>\n      <td>2</td>\n    </tr>\n    <tr>\n      <th>1</th>\n      <td>영희</td>\n      <td>20</td>\n      <td>치약</td>\n      <td>3</td>\n    </tr>\n    <tr>\n      <th>2</th>\n      <td>길동</td>\n      <td>21</td>\n      <td>수건</td>\n      <td>3</td>\n    </tr>\n    <tr>\n      <th>2</th>\n      <td>길동</td>\n      <td>21</td>\n      <td>생수</td>\n      <td>2</td>\n    </tr>\n    <tr>\n      <th>2</th>\n      <td>길동</td>\n      <td>21</td>\n      <td>수건</td>\n      <td>2</td>\n    </tr>\n    <tr>\n      <th>3</th>\n      <td>영수</td>\n      <td>30</td>\n      <td>이어폰</td>\n      <td>1</td>\n    </tr>\n    <tr>\n      <th>3</th>\n      <td>영수</td>\n      <td>30</td>\n      <td>헤드셋</td>\n      <td>1</td>\n    </tr>\n    <tr>\n      <th>4</th>\n      <td>수민</td>\n      <td>31</td>\n      <td>생수</td>\n      <td>2</td>\n    </tr>\n  </tbody>\n</table>\n</div>"
     },
     "metadata": {},
     "execution_count": 65
    }
   ],
   "source": [
    "cust1 = customer.set_index('customer_id')\n",
    "\n",
    "order1 = orders.set_index('customer_id')\n",
    "\n",
    "pd.merge(cust1, order1, left_index=True, right_index=True)"
   ]
  },
  {
   "cell_type": "code",
   "execution_count": 66,
   "metadata": {},
   "outputs": [
    {
     "output_type": "execute_result",
     "data": {
      "text/plain": [
       "      customer_id  나이  quantity\n",
       "item                           \n",
       "수건              4  42         5\n",
       "생수              6  52         4\n",
       "치약              2  40         4\n",
       "칫솔              1  20         2\n",
       "이어폰             3  30         1\n",
       "헤드셋             3  30         1"
      ],
      "text/html": "<div>\n<style scoped>\n    .dataframe tbody tr th:only-of-type {\n        vertical-align: middle;\n    }\n\n    .dataframe tbody tr th {\n        vertical-align: top;\n    }\n\n    .dataframe thead th {\n        text-align: right;\n    }\n</style>\n<table border=\"1\" class=\"dataframe\">\n  <thead>\n    <tr style=\"text-align: right;\">\n      <th></th>\n      <th>customer_id</th>\n      <th>나이</th>\n      <th>quantity</th>\n    </tr>\n    <tr>\n      <th>item</th>\n      <th></th>\n      <th></th>\n      <th></th>\n    </tr>\n  </thead>\n  <tbody>\n    <tr>\n      <th>수건</th>\n      <td>4</td>\n      <td>42</td>\n      <td>5</td>\n    </tr>\n    <tr>\n      <th>생수</th>\n      <td>6</td>\n      <td>52</td>\n      <td>4</td>\n    </tr>\n    <tr>\n      <th>치약</th>\n      <td>2</td>\n      <td>40</td>\n      <td>4</td>\n    </tr>\n    <tr>\n      <th>칫솔</th>\n      <td>1</td>\n      <td>20</td>\n      <td>2</td>\n    </tr>\n    <tr>\n      <th>이어폰</th>\n      <td>3</td>\n      <td>30</td>\n      <td>1</td>\n    </tr>\n    <tr>\n      <th>헤드셋</th>\n      <td>3</td>\n      <td>30</td>\n      <td>1</td>\n    </tr>\n  </tbody>\n</table>\n</div>"
     },
     "metadata": {},
     "execution_count": 66
    }
   ],
   "source": [
    "# 많이 구입한 항목 구하기 \n",
    "\n",
    "pd.merge(customer, orders, on='customer_id').groupby('item').sum().sort_values('quantity', ascending=False)"
   ]
  },
  {
   "cell_type": "code",
   "execution_count": 67,
   "metadata": {},
   "outputs": [
    {
     "output_type": "execute_result",
     "data": {
      "text/plain": [
       "      customer_id  나이  quantity\n",
       "item                           \n",
       "치약              2  40         4\n",
       "칫솔              1  20         2"
      ],
      "text/html": "<div>\n<style scoped>\n    .dataframe tbody tr th:only-of-type {\n        vertical-align: middle;\n    }\n\n    .dataframe tbody tr th {\n        vertical-align: top;\n    }\n\n    .dataframe thead th {\n        text-align: right;\n    }\n</style>\n<table border=\"1\" class=\"dataframe\">\n  <thead>\n    <tr style=\"text-align: right;\">\n      <th></th>\n      <th>customer_id</th>\n      <th>나이</th>\n      <th>quantity</th>\n    </tr>\n    <tr>\n      <th>item</th>\n      <th></th>\n      <th></th>\n      <th></th>\n    </tr>\n  </thead>\n  <tbody>\n    <tr>\n      <th>치약</th>\n      <td>2</td>\n      <td>40</td>\n      <td>4</td>\n    </tr>\n    <tr>\n      <th>칫솔</th>\n      <td>1</td>\n      <td>20</td>\n      <td>2</td>\n    </tr>\n  </tbody>\n</table>\n</div>"
     },
     "metadata": {},
     "execution_count": 67
    }
   ],
   "source": [
    "# 많은 물건을 구입한 사람 구하기\n",
    "\n",
    "pd.merge(customer, orders, on='customer_id').groupby(['name', 'item']).sum().loc['영희']"
   ]
  }
 ],
 "metadata": {
  "kernelspec": {
   "display_name": "Python 3",
   "language": "python",
   "name": "python3"
  },
  "language_info": {
   "codemirror_mode": {
    "name": "ipython",
    "version": 3
   },
   "file_extension": ".py",
   "mimetype": "text/x-python",
   "name": "python",
   "nbconvert_exporter": "python",
   "pygments_lexer": "ipython3",
   "version": "3.6.9-final"
  }
 },
 "nbformat": 4,
 "nbformat_minor": 2
}