{
 "metadata": {
  "language_info": {
   "codemirror_mode": {
    "name": "ipython",
    "version": 3
   },
   "file_extension": ".py",
   "mimetype": "text/x-python",
   "name": "python",
   "nbconvert_exporter": "python",
   "pygments_lexer": "ipython3",
   "version": "3.6.9-final"
  },
  "orig_nbformat": 2,
  "kernelspec": {
   "name": "python3",
   "display_name": "Python 3",
   "language": "python"
  }
 },
 "nbformat": 4,
 "nbformat_minor": 2,
 "cells": [
  {
   "source": [
    "# Series"
   ],
   "cell_type": "markdown",
   "metadata": {}
  },
  {
   "source": [
    "* ## 생성자\n",
    "    ## Series([data, index, dtype, name, copy, …])"
   ],
   "cell_type": "markdown",
   "metadata": {}
  },
  {
   "source": [
    "* ## 속성\n",
    "    ### [Series.index](https://pandas.pydata.org/pandas-docs/stable/reference/api/pandas.Series.index.html#pandas.Series.index) : Series의 인덱스(축 레이블)입니다.\n",
    "    ### [Series.array](https://pandas.pydata.org/pandas-docs/stable/reference/api/pandas.Series.array.html#pandas.Series.array) : 이 Series 또는 Index를 지원하는 데이터의 ExtensionArray입니다.\n",
    "    ### [Series.values](https://pandas.pydata.org/pandas-docs/stable/reference/api/pandas.Series.values.html#pandas.Series.values) : dtype에 따라 sandarray 또는 ndarray를 반환합니다.\n",
    "    ### [Series.dtype](https://pandas.pydata.org/pandas-docs/stable/reference/api/pandas.Series.dtype.html#pandas.Series.dtype) : 기본 데이터의 dtype 개체를 반환합니다.\n",
    "    ### [Series.shape](https://pandas.pydata.org/pandas-docs/stable/reference/api/pandas.Series.shape.html#pandas.Series.shape) : 기본 데이터의 모양에 대한 튜플을 반환합니다.\n",
    "    ### [Series.nbytes](https://pandas.pydata.org/pandas-docs/stable/reference/api/pandas.Series.nbytes.html#pandas.Series.nbytes) : 기본 데이터의 바이트 수를 반환합니다.\n",
    "    ### [Series.ndim](https://pandas.pydata.org/pandas-docs/stable/reference/api/pandas.Series.ndim.html#pandas.Series.ndim) : 정의 1에 의한 기본 데이터의 차원 수.\n",
    "    ### [Series.size](https://pandas.pydata.org/pandas-docs/stable/reference/api/pandas.Series.size.html#pandas.Series.size) : 기본 데이터의 요소 수를 반환합니다.\n",
    "    ### [Series.T](https://pandas.pydata.org/pandas-docs/stable/reference/api/pandas.Series.T.html#pandas.Series.T) : 전치사를 반환합니다. 이는 정의 자체입니다.\n",
    "    ### [Series.memory_usage([index, deep])](https://pandas.pydata.org/pandas-docs/stable/reference/api/pandas.Series.memory_usage.html#pandas.Series.memory_usage) : 시리즈의 메모리 사용량을 반환합니다.\n",
    "    ### [Series.hasnans](https://pandas.pydata.org/pandas-docs/stable/reference/api/pandas.Series.hasnans.html#pandas.Series.hasnans) : Nan이 있으면 돌아옵니다. 다양한 성능 향상을 지원합니다.\n",
    "    ### [Series.empty](https://pandas.pydata.org/pandas-docs/stable/reference/api/pandas.Series.empty.html#pandas.Series.empty) :  DataFrame이 비어 있는지 여부를 나타냅니다.\n",
    "    ### [Series.dtypes](https://pandas.pydata.org/pandas-docs/stable/reference/api/pandas.Series.dtypes.html#pandas.Series.dtypes) : 기본 데이터의 dtype 개체를 반환합니다.\n",
    "    ### [Series.name](https://pandas.pydata.org/pandas-docs/stable/reference/api/pandas.Series.name.html#pandas.Series.name) : 시리즈 이름을 반환합니다.\n",
    "    ### [Series.flags](https://pandas.pydata.org/pandas-docs/stable/reference/api/pandas.Series.flags.html#pandas.Series.flags) : 이 판다 개체와 관련된 속성을 가져옵니다.\n",
    "    ### [Series.set_flags(*[, copy, …])](https://pandas.pydata.org/pandas-docs/stable/reference/api/pandas.Series.set_flags.html#pandas.Series.set_flags) : 업데이트된 플래그가 있는 새 개체를 반환합니다.\n"
   ],
   "cell_type": "markdown",
   "metadata": {}
  },
  {
   "cell_type": "code",
   "execution_count": 1,
   "metadata": {},
   "outputs": [
    {
     "output_type": "execute_result",
     "data": {
      "text/plain": [
       "0    1\n",
       "1    2\n",
       "2    3\n",
       "dtype: int64"
      ]
     },
     "metadata": {},
     "execution_count": 1
    }
   ],
   "source": [
    "import numpy as np \n",
    "import pandas as pd\n",
    "\n",
    "# 정수값 데이터 생성 \n",
    "s1 = pd.Series([1, 2, 3])\n",
    "s1"
   ]
  },
  {
   "cell_type": "code",
   "execution_count": 2,
   "metadata": {},
   "outputs": [
    {
     "output_type": "execute_result",
     "data": {
      "text/plain": [
       "0    a\n",
       "1    b\n",
       "2    c\n",
       "dtype: object"
      ]
     },
     "metadata": {},
     "execution_count": 2
    }
   ],
   "source": [
    "# 문자열 데이터 생성 \n",
    "s2 = pd.Series(['a', 'b', 'c'])\n",
    "s2"
   ]
  },
  {
   "cell_type": "code",
   "execution_count": 3,
   "metadata": {},
   "outputs": [
    {
     "output_type": "execute_result",
     "data": {
      "text/plain": [
       "0        0\n",
       "1        1\n",
       "2        2\n",
       "3        3\n",
       "4        4\n",
       "      ... \n",
       "195    195\n",
       "196    196\n",
       "197    197\n",
       "198    198\n",
       "199    199\n",
       "Length: 200, dtype: int64"
      ]
     },
     "metadata": {},
     "execution_count": 3
    }
   ],
   "source": [
    "# 범위를 통한 데이터 생성\n",
    "s3 = pd.Series(np.arange(200))\n",
    "s3"
   ]
  },
  {
   "cell_type": "code",
   "execution_count": 4,
   "metadata": {},
   "outputs": [
    {
     "output_type": "execute_result",
     "data": {
      "text/plain": [
       "100    1\n",
       "200    2\n",
       "300    3\n",
       "dtype: int64"
      ]
     },
     "metadata": {},
     "execution_count": 4
    }
   ],
   "source": [
    "# index 값을 만들어 데이터 생성\n",
    "# pd.Series([data_values],[index_values]])\n",
    "\n",
    "s4 = pd.Series([1, 2, 3], [100, 200, 300])\n",
    "s4"
   ]
  },
  {
   "cell_type": "code",
   "execution_count": 5,
   "metadata": {},
   "outputs": [
    {
     "output_type": "execute_result",
     "data": {
      "text/plain": [
       "a    1\n",
       "m    2\n",
       "k    3\n",
       "dtype: int64"
      ]
     },
     "metadata": {},
     "execution_count": 5
    }
   ],
   "source": [
    "s5 = pd.Series([1, 2, 3], ['a','m','k'])\n",
    "s5"
   ]
  },
  {
   "cell_type": "code",
   "execution_count": 6,
   "metadata": {},
   "outputs": [
    {
     "output_type": "execute_result",
     "data": {
      "text/plain": [
       "100    0\n",
       "101    1\n",
       "102    2\n",
       "103    3\n",
       "104    4\n",
       "dtype: int16"
      ]
     },
     "metadata": {},
     "execution_count": 6
    }
   ],
   "source": [
    "# 데이터 타입을 정해서 데이터 생성\n",
    "\n",
    "s6 = pd.Series(np.arange(5), np.arange(100,105), dtype = np.int16)\n",
    "s6"
   ]
  },
  {
   "source": [
    "### Series size, shape, unique, count, value_counts 함수\n",
    "- size : 개수 반환\n",
    "- shape : 튜플 형태로 shape반환\n",
    "- unique : 유일한 값만 ndarray로 반환\n",
    "- count : NaN을 제외한 개수 반환\n",
    "- mean : NaN을 제외한 평균\n",
    "- value_counts : NaN을 제외하고 각 값들의 빈도를 반환"
   ],
   "cell_type": "markdown",
   "metadata": {}
  },
  {
   "cell_type": "code",
   "execution_count": 7,
   "metadata": {},
   "outputs": [
    {
     "output_type": "execute_result",
     "data": {
      "text/plain": [
       "0     2.0\n",
       "1     3.0\n",
       "2     5.0\n",
       "3     5.0\n",
       "4     7.0\n",
       "5     8.0\n",
       "6     NaN\n",
       "7     NaN\n",
       "8     NaN\n",
       "9     NaN\n",
       "10    NaN\n",
       "11    NaN\n",
       "12    NaN\n",
       "13    NaN\n",
       "14    NaN\n",
       "15    NaN\n",
       "dtype: float64"
      ]
     },
     "metadata": {},
     "execution_count": 7
    }
   ],
   "source": [
    "# 데이터 값의 수가 다른 두 데이터의 연산 \n",
    "\n",
    "s = pd.Series([1, 1, 2, 1, 2, 2, 2, 1, 1, 3, 3, 4, 5, 5, 7, np.NaN])\n",
    "s1 = pd.Series([1, 2, 3, 4, 5, 6])\n",
    "\n",
    "s + s1"
   ]
  },
  {
   "cell_type": "code",
   "execution_count": 8,
   "metadata": {},
   "outputs": [
    {
     "output_type": "execute_result",
     "data": {
      "text/plain": [
       "3"
      ]
     },
     "metadata": {},
     "execution_count": 8
    }
   ],
   "source": [
    "# bool값을 이용한 조건 값 계산\n",
    "\n",
    "s = pd.Series(np.arange(10), np.arange(10)+1)\n",
    "(s >= 7).sum()"
   ]
  },
  {
   "source": [
    "# 조건으로 데이터 계산\n",
    "\n",
    "s = pd.Series(np.arange(10), np.arange(10)+1)\n",
    "s[(s >= 7)].sum()"
   ],
   "cell_type": "code",
   "metadata": {},
   "execution_count": 9,
   "outputs": [
    {
     "output_type": "execute_result",
     "data": {
      "text/plain": [
       "24"
      ]
     },
     "metadata": {},
     "execution_count": 9
    }
   ]
  },
  {
   "cell_type": "code",
   "execution_count": 10,
   "metadata": {},
   "outputs": [
    {
     "output_type": "execute_result",
     "data": {
      "text/plain": [
       "a    300\n",
       "b    101\n",
       "c    900\n",
       "d    103\n",
       "e    104\n",
       "dtype: int64"
      ]
     },
     "metadata": {},
     "execution_count": 10
    }
   ],
   "source": [
    "# 특정 값의 데이터 변경\n",
    "\n",
    "s = pd.Series(np.arange(100, 105), ['a', 'b', 'c', 'd', 'e'])\n",
    "s[['a', 'c']] = [300, 900]\n",
    "s"
   ]
  },
  {
   "cell_type": "code",
   "execution_count": 11,
   "metadata": {},
   "outputs": [
    {
     "output_type": "execute_result",
     "data": {
      "text/plain": [
       "a    400\n",
       "b    101\n",
       "c    900\n",
       "d    103\n",
       "e    104\n",
       "dtype: int64"
      ]
     },
     "metadata": {},
     "execution_count": 11
    }
   ],
   "source": [
    "s['a'] = 400\n",
    "s"
   ]
  },
  {
   "cell_type": "code",
   "execution_count": 12,
   "metadata": {},
   "outputs": [
    {
     "output_type": "execute_result",
     "data": {
      "text/plain": [
       "b    101\n",
       "c    102\n",
       "d    103\n",
       "dtype: int64"
      ]
     },
     "metadata": {},
     "execution_count": 12
    }
   ],
   "source": [
    "# 특정 범위의 데이터 값 출력\n",
    "\n",
    "s2 = pd.Series(np.arange(100, 105), ['a', 'b', 'c', 'd', 'e'])\n",
    "s2['b':'d']"
   ]
  }
 ]
}