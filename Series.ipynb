{
 "metadata": {
  "language_info": {
   "codemirror_mode": {
    "name": "ipython",
    "version": 3
   },
   "file_extension": ".py",
   "mimetype": "text/x-python",
   "name": "python",
   "nbconvert_exporter": "python",
   "pygments_lexer": "ipython3",
   "version": "3.6.9-final"
  },
  "orig_nbformat": 2,
  "kernelspec": {
   "name": "python3",
   "display_name": "Python 3",
   "language": "python"
  }
 },
 "nbformat": 4,
 "nbformat_minor": 2,
 "cells": [
  {
   "source": [
    "# Series"
   ],
   "cell_type": "markdown",
   "metadata": {}
  },
  {
   "source": [
    "* ## 생성자\n",
    "    ## Series([data, index, dtype, name, copy, …])"
   ],
   "cell_type": "markdown",
   "metadata": {}
  },
  {
   "source": [
    "* ## 속성\n",
    "    ### [Series.index](https://pandas.pydata.org/pandas-docs/stable/reference/api/pandas.Series.index.html#pandas.Series.index) : Series의 인덱스(축 레이블)입니다.\n",
    "    ### [Series.array](https://pandas.pydata.org/pandas-docs/stable/reference/api/pandas.Series.array.html#pandas.Series.array) : 이 Series 또는 Index를 지원하는 데이터의 ExtensionArray입니다.\n",
    "    ### [Series.values](https://pandas.pydata.org/pandas-docs/stable/reference/api/pandas.Series.values.html#pandas.Series.values) : dtype에 따라 sandarray 또는 ndarray를 반환합니다.\n",
    "    ### [Series.dtype](https://pandas.pydata.org/pandas-docs/stable/reference/api/pandas.Series.dtype.html#pandas.Series.dtype) : 기본 데이터의 dtype 개체를 반환합니다.\n",
    "    ### [Series.shape](https://pandas.pydata.org/pandas-docs/stable/reference/api/pandas.Series.shape.html#pandas.Series.shape) : 기본 데이터의 모양에 대한 튜플을 반환합니다.\n",
    "    ### [Series.nbytes](https://pandas.pydata.org/pandas-docs/stable/reference/api/pandas.Series.nbytes.html#pandas.Series.nbytes) : 기본 데이터의 바이트 수를 반환합니다.\n",
    "    ### [Series.ndim](https://pandas.pydata.org/pandas-docs/stable/reference/api/pandas.Series.ndim.html#pandas.Series.ndim) : 정의 1에 의한 기본 데이터의 차원 수.\n",
    "    ### [Series.size](https://pandas.pydata.org/pandas-docs/stable/reference/api/pandas.Series.size.html#pandas.Series.size) : 기본 데이터의 요소 수를 반환합니다.\n",
    "    ### [Series.T](https://pandas.pydata.org/pandas-docs/stable/reference/api/pandas.Series.T.html#pandas.Series.T) : 전치사를 반환합니다. 이는 정의 자체입니다.\n",
    "    ### [Series.memory_usage([index, deep])](https://pandas.pydata.org/pandas-docs/stable/reference/api/pandas.Series.memory_usage.html#pandas.Series.memory_usage) : 시리즈의 메모리 사용량을 반환합니다.\n",
    "    ### [Series.hasnans](https://pandas.pydata.org/pandas-docs/stable/reference/api/pandas.Series.hasnans.html#pandas.Series.hasnans) : Nan이 있으면 돌아옵니다. 다양한 성능 향상을 지원합니다.\n",
    "    ### [Series.empty](https://pandas.pydata.org/pandas-docs/stable/reference/api/pandas.Series.empty.html#pandas.Series.empty) :  DataFrame이 비어 있는지 여부를 나타냅니다.\n",
    "    ### [Series.dtypes](https://pandas.pydata.org/pandas-docs/stable/reference/api/pandas.Series.dtypes.html#pandas.Series.dtypes) : 기본 데이터의 dtype 개체를 반환합니다.\n",
    "    ### [Series.name](https://pandas.pydata.org/pandas-docs/stable/reference/api/pandas.Series.name.html#pandas.Series.name) : 시리즈 이름을 반환합니다.\n",
    "    ### [Series.flags](https://pandas.pydata.org/pandas-docs/stable/reference/api/pandas.Series.flags.html#pandas.Series.flags) : 이 판다 개체와 관련된 속성을 가져옵니다.\n",
    "    ### [Series.set_flags(*[, copy, …])](https://pandas.pydata.org/pandas-docs/stable/reference/api/pandas.Series.set_flags.html#pandas.Series.set_flags) : 업데이트된 플래그가 있는 새 개체를 반환합니다.\n"
   ],
   "cell_type": "markdown",
   "metadata": {}
  },
  {
   "cell_type": "code",
   "execution_count": null,
   "metadata": {},
   "outputs": [],
   "source": []
  }
 ]
}