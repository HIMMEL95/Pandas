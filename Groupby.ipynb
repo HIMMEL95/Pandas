{
 "metadata": {
  "language_info": {
   "codemirror_mode": {
    "name": "ipython",
    "version": 3
   },
   "file_extension": ".py",
   "mimetype": "text/x-python",
   "name": "python",
   "nbconvert_exporter": "python",
   "pygments_lexer": "ipython3",
   "version": "3.6.9-final"
  },
  "orig_nbformat": 2,
  "kernelspec": {
   "name": "python3",
   "display_name": "Python 3",
   "language": "python"
  }
 },
 "nbformat": 4,
 "nbformat_minor": 2,
 "cells": [
  {
   "cell_type": "code",
   "execution_count": 1,
   "metadata": {},
   "outputs": [
    {
     "output_type": "execute_result",
     "data": {
      "text/plain": [
       "{1: [1, 3, 6, 11, 23, 27, 30, 31, 34, 35, 52, 54, 55, 61, 62, 64, 83, 88, 92, 96, 97, 102, 110, 118, 124, 136, 137, 139, 151, 155, 166, 168, 170, 174, 177, 185, 187, 194, 195, 209, 215, 218, 224, 230, 245, 248, 252, 256, 257, 258, 262, 263, 268, 269, 270, 273, 275, 284, 290, 291, 295, 297, 298, 299, 305, 306, 307, 309, 310, 311, 318, 319, 325, 329, 331, 332, 334, 336, 337, 339, 341, 351, 356, 366, 369, 370, 373, 375, 377, 380, 383, 390, 393, 412, 430, 434, 435, 438, 445, 447, ...], 2: [9, 15, 17, 20, 21, 33, 41, 43, 53, 56, 58, 66, 70, 72, 78, 84, 98, 99, 117, 120, 122, 123, 133, 134, 135, 144, 145, 148, 149, 150, 161, 178, 181, 183, 190, 191, 193, 199, 211, 213, 217, 219, 221, 226, 228, 232, 234, 236, 237, 238, 239, 242, 247, 249, 259, 265, 272, 277, 288, 292, 303, 308, 312, 314, 316, 317, 322, 323, 327, 340, 342, 343, 344, 345, 346, 357, 361, 385, 387, 389, 397, 398, 399, 405, 407, 413, 416, 417, 418, 426, 427, 432, 437, 439, 440, 443, 446, 450, 458, 463, ...], 3: [0, 2, 4, 5, 7, 8, 10, 12, 13, 14, 16, 18, 19, 22, 24, 25, 26, 28, 29, 32, 36, 37, 38, 39, 40, 42, 44, 45, 46, 47, 48, 49, 50, 51, 57, 59, 60, 63, 65, 67, 68, 69, 71, 73, 74, 75, 76, 77, 79, 80, 81, 82, 85, 86, 87, 89, 90, 91, 93, 94, 95, 100, 101, 103, 104, 105, 106, 107, 108, 109, 111, 112, 113, 114, 115, 116, 119, 121, 125, 126, 127, 128, 129, 130, 131, 132, 138, 140, 141, 142, 143, 146, 147, 152, 153, 154, 156, 157, 158, 159, ...]}"
      ]
     },
     "metadata": {},
     "execution_count": 1
    }
   ],
   "source": [
    "# groups 속성\n",
    "\n",
    "import pandas as pd\n",
    "import numpy as np\n",
    "\n",
    "train_data = pd.read_csv('../train.csv')\n",
    "\n",
    "class_group = train_data.groupby('Pclass')\n",
    "class_group.groups"
   ]
  },
  {
   "source": [
    "## groupping 함수\n",
    "- 그룹 데이터에 적용 가능한 통계 함수(NaN은 제외한 연산)\n",
    "- count : 데이터 개수\n",
    "- sum : 데이터 합\n",
    "- mean, std, var : 평균, 표준편차, 분산\n",
    "- min, max : 최소, 최대"
   ],
   "cell_type": "markdown",
   "metadata": {}
  },
  {
   "cell_type": "code",
   "execution_count": 2,
   "metadata": {},
   "outputs": [
    {
     "output_type": "execute_result",
     "data": {
      "text/plain": [
       "        PassengerId  Survived  Name  Sex  Age  SibSp  Parch  Ticket  Fare  \\\n",
       "Pclass                                                                      \n",
       "1               216       216   216  216  186    216    216     216   216   \n",
       "2               184       184   184  184  173    184    184     184   184   \n",
       "3               491       491   491  491  355    491    491     491   491   \n",
       "\n",
       "        Cabin  Embarked  \n",
       "Pclass                   \n",
       "1         176       214  \n",
       "2          16       184  \n",
       "3          12       491  "
      ],
      "text/html": "<div>\n<style scoped>\n    .dataframe tbody tr th:only-of-type {\n        vertical-align: middle;\n    }\n\n    .dataframe tbody tr th {\n        vertical-align: top;\n    }\n\n    .dataframe thead th {\n        text-align: right;\n    }\n</style>\n<table border=\"1\" class=\"dataframe\">\n  <thead>\n    <tr style=\"text-align: right;\">\n      <th></th>\n      <th>PassengerId</th>\n      <th>Survived</th>\n      <th>Name</th>\n      <th>Sex</th>\n      <th>Age</th>\n      <th>SibSp</th>\n      <th>Parch</th>\n      <th>Ticket</th>\n      <th>Fare</th>\n      <th>Cabin</th>\n      <th>Embarked</th>\n    </tr>\n    <tr>\n      <th>Pclass</th>\n      <th></th>\n      <th></th>\n      <th></th>\n      <th></th>\n      <th></th>\n      <th></th>\n      <th></th>\n      <th></th>\n      <th></th>\n      <th></th>\n      <th></th>\n    </tr>\n  </thead>\n  <tbody>\n    <tr>\n      <th>1</th>\n      <td>216</td>\n      <td>216</td>\n      <td>216</td>\n      <td>216</td>\n      <td>186</td>\n      <td>216</td>\n      <td>216</td>\n      <td>216</td>\n      <td>216</td>\n      <td>176</td>\n      <td>214</td>\n    </tr>\n    <tr>\n      <th>2</th>\n      <td>184</td>\n      <td>184</td>\n      <td>184</td>\n      <td>184</td>\n      <td>173</td>\n      <td>184</td>\n      <td>184</td>\n      <td>184</td>\n      <td>184</td>\n      <td>16</td>\n      <td>184</td>\n    </tr>\n    <tr>\n      <th>3</th>\n      <td>491</td>\n      <td>491</td>\n      <td>491</td>\n      <td>491</td>\n      <td>355</td>\n      <td>491</td>\n      <td>491</td>\n      <td>491</td>\n      <td>491</td>\n      <td>12</td>\n      <td>491</td>\n    </tr>\n  </tbody>\n</table>\n</div>"
     },
     "metadata": {},
     "execution_count": 2
    }
   ],
   "source": [
    "class_group.count()"
   ]
  },
  {
   "cell_type": "code",
   "execution_count": 3,
   "metadata": {},
   "outputs": [
    {
     "output_type": "execute_result",
     "data": {
      "text/plain": [
       "        PassengerId  Survived      Age  SibSp  Parch        Fare\n",
       "Pclass                                                          \n",
       "1             99705       136  7111.42     90     77  18177.4125\n",
       "2             82056        87  5168.83     74     70   3801.8417\n",
       "3            215625       119  8924.92    302    193   6714.6951"
      ],
      "text/html": "<div>\n<style scoped>\n    .dataframe tbody tr th:only-of-type {\n        vertical-align: middle;\n    }\n\n    .dataframe tbody tr th {\n        vertical-align: top;\n    }\n\n    .dataframe thead th {\n        text-align: right;\n    }\n</style>\n<table border=\"1\" class=\"dataframe\">\n  <thead>\n    <tr style=\"text-align: right;\">\n      <th></th>\n      <th>PassengerId</th>\n      <th>Survived</th>\n      <th>Age</th>\n      <th>SibSp</th>\n      <th>Parch</th>\n      <th>Fare</th>\n    </tr>\n    <tr>\n      <th>Pclass</th>\n      <th></th>\n      <th></th>\n      <th></th>\n      <th></th>\n      <th></th>\n      <th></th>\n    </tr>\n  </thead>\n  <tbody>\n    <tr>\n      <th>1</th>\n      <td>99705</td>\n      <td>136</td>\n      <td>7111.42</td>\n      <td>90</td>\n      <td>77</td>\n      <td>18177.4125</td>\n    </tr>\n    <tr>\n      <th>2</th>\n      <td>82056</td>\n      <td>87</td>\n      <td>5168.83</td>\n      <td>74</td>\n      <td>70</td>\n      <td>3801.8417</td>\n    </tr>\n    <tr>\n      <th>3</th>\n      <td>215625</td>\n      <td>119</td>\n      <td>8924.92</td>\n      <td>302</td>\n      <td>193</td>\n      <td>6714.6951</td>\n    </tr>\n  </tbody>\n</table>\n</div>"
     },
     "metadata": {},
     "execution_count": 3
    }
   ],
   "source": [
    "class_group.sum()"
   ]
  },
  {
   "cell_type": "code",
   "execution_count": 4,
   "metadata": {},
   "outputs": [
    {
     "output_type": "execute_result",
     "data": {
      "text/plain": [
       "        PassengerId  Survived        Age     SibSp     Parch       Fare\n",
       "Pclass                                                                 \n",
       "1        461.597222  0.629630  38.233441  0.416667  0.356481  84.154687\n",
       "2        445.956522  0.472826  29.877630  0.402174  0.380435  20.662183\n",
       "3        439.154786  0.242363  25.140620  0.615071  0.393075  13.675550"
      ],
      "text/html": "<div>\n<style scoped>\n    .dataframe tbody tr th:only-of-type {\n        vertical-align: middle;\n    }\n\n    .dataframe tbody tr th {\n        vertical-align: top;\n    }\n\n    .dataframe thead th {\n        text-align: right;\n    }\n</style>\n<table border=\"1\" class=\"dataframe\">\n  <thead>\n    <tr style=\"text-align: right;\">\n      <th></th>\n      <th>PassengerId</th>\n      <th>Survived</th>\n      <th>Age</th>\n      <th>SibSp</th>\n      <th>Parch</th>\n      <th>Fare</th>\n    </tr>\n    <tr>\n      <th>Pclass</th>\n      <th></th>\n      <th></th>\n      <th></th>\n      <th></th>\n      <th></th>\n      <th></th>\n    </tr>\n  </thead>\n  <tbody>\n    <tr>\n      <th>1</th>\n      <td>461.597222</td>\n      <td>0.629630</td>\n      <td>38.233441</td>\n      <td>0.416667</td>\n      <td>0.356481</td>\n      <td>84.154687</td>\n    </tr>\n    <tr>\n      <th>2</th>\n      <td>445.956522</td>\n      <td>0.472826</td>\n      <td>29.877630</td>\n      <td>0.402174</td>\n      <td>0.380435</td>\n      <td>20.662183</td>\n    </tr>\n    <tr>\n      <th>3</th>\n      <td>439.154786</td>\n      <td>0.242363</td>\n      <td>25.140620</td>\n      <td>0.615071</td>\n      <td>0.393075</td>\n      <td>13.675550</td>\n    </tr>\n  </tbody>\n</table>\n</div>"
     },
     "metadata": {},
     "execution_count": 4
    }
   ],
   "source": [
    "class_group.mean()"
   ]
  },
  {
   "cell_type": "code",
   "execution_count": 5,
   "metadata": {},
   "outputs": [
    {
     "output_type": "execute_result",
     "data": {
      "text/plain": [
       "Sex\n",
       "female    0.742038\n",
       "male      0.188908\n",
       "Name: Survived, dtype: float64"
      ]
     },
     "metadata": {},
     "execution_count": 5
    }
   ],
   "source": [
    "train_data.groupby(['Sex']).Survived.mean()\n",
    "\n",
    "# = train_data.groupby(['Sex'])['Survived'].mean()"
   ]
  },
  {
   "cell_type": "code",
   "execution_count": 6,
   "metadata": {},
   "outputs": [
    {
     "output_type": "execute_result",
     "data": {
      "text/plain": [
       "              PassengerId  Survived  SibSp  Parch      Fare\n",
       "Pclass Age                                                 \n",
       "1      0.92         306.0       1.0    1.0    2.0  151.5500\n",
       "       2.00         298.0       0.0    1.0    2.0  151.5500\n",
       "       4.00         446.0       1.0    0.0    2.0   81.8583\n",
       "       11.00        803.0       1.0    1.0    2.0  120.0000\n",
       "       14.00        436.0       1.0    1.0    2.0  120.0000\n",
       "...                   ...       ...    ...    ...       ...\n",
       "3      61.00        327.0       0.0    0.0    0.0    6.2375\n",
       "       63.00        484.0       1.0    0.0    0.0    9.5875\n",
       "       65.00        281.0       0.0    0.0    0.0    7.7500\n",
       "       70.50        117.0       0.0    0.0    0.0    7.7500\n",
       "       74.00        852.0       0.0    0.0    0.0    7.7750\n",
       "\n",
       "[182 rows x 5 columns]"
      ],
      "text/html": "<div>\n<style scoped>\n    .dataframe tbody tr th:only-of-type {\n        vertical-align: middle;\n    }\n\n    .dataframe tbody tr th {\n        vertical-align: top;\n    }\n\n    .dataframe thead th {\n        text-align: right;\n    }\n</style>\n<table border=\"1\" class=\"dataframe\">\n  <thead>\n    <tr style=\"text-align: right;\">\n      <th></th>\n      <th></th>\n      <th>PassengerId</th>\n      <th>Survived</th>\n      <th>SibSp</th>\n      <th>Parch</th>\n      <th>Fare</th>\n    </tr>\n    <tr>\n      <th>Pclass</th>\n      <th>Age</th>\n      <th></th>\n      <th></th>\n      <th></th>\n      <th></th>\n      <th></th>\n    </tr>\n  </thead>\n  <tbody>\n    <tr>\n      <th rowspan=\"5\" valign=\"top\">1</th>\n      <th>0.92</th>\n      <td>306.0</td>\n      <td>1.0</td>\n      <td>1.0</td>\n      <td>2.0</td>\n      <td>151.5500</td>\n    </tr>\n    <tr>\n      <th>2.00</th>\n      <td>298.0</td>\n      <td>0.0</td>\n      <td>1.0</td>\n      <td>2.0</td>\n      <td>151.5500</td>\n    </tr>\n    <tr>\n      <th>4.00</th>\n      <td>446.0</td>\n      <td>1.0</td>\n      <td>0.0</td>\n      <td>2.0</td>\n      <td>81.8583</td>\n    </tr>\n    <tr>\n      <th>11.00</th>\n      <td>803.0</td>\n      <td>1.0</td>\n      <td>1.0</td>\n      <td>2.0</td>\n      <td>120.0000</td>\n    </tr>\n    <tr>\n      <th>14.00</th>\n      <td>436.0</td>\n      <td>1.0</td>\n      <td>1.0</td>\n      <td>2.0</td>\n      <td>120.0000</td>\n    </tr>\n    <tr>\n      <th>...</th>\n      <th>...</th>\n      <td>...</td>\n      <td>...</td>\n      <td>...</td>\n      <td>...</td>\n      <td>...</td>\n    </tr>\n    <tr>\n      <th rowspan=\"5\" valign=\"top\">3</th>\n      <th>61.00</th>\n      <td>327.0</td>\n      <td>0.0</td>\n      <td>0.0</td>\n      <td>0.0</td>\n      <td>6.2375</td>\n    </tr>\n    <tr>\n      <th>63.00</th>\n      <td>484.0</td>\n      <td>1.0</td>\n      <td>0.0</td>\n      <td>0.0</td>\n      <td>9.5875</td>\n    </tr>\n    <tr>\n      <th>65.00</th>\n      <td>281.0</td>\n      <td>0.0</td>\n      <td>0.0</td>\n      <td>0.0</td>\n      <td>7.7500</td>\n    </tr>\n    <tr>\n      <th>70.50</th>\n      <td>117.0</td>\n      <td>0.0</td>\n      <td>0.0</td>\n      <td>0.0</td>\n      <td>7.7500</td>\n    </tr>\n    <tr>\n      <th>74.00</th>\n      <td>852.0</td>\n      <td>0.0</td>\n      <td>0.0</td>\n      <td>0.0</td>\n      <td>7.7750</td>\n    </tr>\n  </tbody>\n</table>\n<p>182 rows × 5 columns</p>\n</div>"
     },
     "metadata": {},
     "execution_count": 6
    }
   ],
   "source": [
    "# 여러 컬럼을 묶어서 특정 값 구하기\n",
    "\n",
    "train_data.groupby(['Pclass', 'Age']).mean()"
   ]
  },
  {
   "cell_type": "code",
   "execution_count": 7,
   "metadata": {},
   "outputs": [
    {
     "output_type": "execute_result",
     "data": {
      "text/plain": [
       "PassengerId    443.105263\n",
       "Survived         0.921053\n",
       "Age             28.722973\n",
       "SibSp            0.486842\n",
       "Parch            0.605263\n",
       "Fare            21.970121\n",
       "Name: (2, female), dtype: float64"
      ]
     },
     "metadata": {},
     "execution_count": 7
    }
   ],
   "source": [
    "# loc을 활용하여 묶은 열들의 조건 값 구하기 \n",
    "\n",
    "train_data.groupby(['Pclass', 'Sex']).mean().loc[(2,'female')]"
   ]
  },
  {
   "cell_type": "code",
   "execution_count": 8,
   "metadata": {},
   "outputs": [
    {
     "output_type": "execute_result",
     "data": {
      "text/plain": [
       "        PassengerId  Survived  \\\n",
       "Pclass                          \n",
       "3                 1         0   \n",
       "1                 2         1   \n",
       "3                 3         1   \n",
       "1                 4         1   \n",
       "3                 5         0   \n",
       "...             ...       ...   \n",
       "2               887         0   \n",
       "1               888         1   \n",
       "3               889         0   \n",
       "1               890         1   \n",
       "3               891         0   \n",
       "\n",
       "                                                     Name     Sex   Age  \\\n",
       "Pclass                                                                    \n",
       "3                                 Braund, Mr. Owen Harris    male  22.0   \n",
       "1       Cumings, Mrs. John Bradley (Florence Briggs Th...  female  38.0   \n",
       "3                                  Heikkinen, Miss. Laina  female  26.0   \n",
       "1            Futrelle, Mrs. Jacques Heath (Lily May Peel)  female  35.0   \n",
       "3                                Allen, Mr. William Henry    male  35.0   \n",
       "...                                                   ...     ...   ...   \n",
       "2                                   Montvila, Rev. Juozas    male  27.0   \n",
       "1                            Graham, Miss. Margaret Edith  female  19.0   \n",
       "3                Johnston, Miss. Catherine Helen \"Carrie\"  female   NaN   \n",
       "1                                   Behr, Mr. Karl Howell    male  26.0   \n",
       "3                                     Dooley, Mr. Patrick    male  32.0   \n",
       "\n",
       "        SibSp  Parch            Ticket     Fare Cabin Embarked  \n",
       "Pclass                                                          \n",
       "3           1      0         A/5 21171   7.2500   NaN        S  \n",
       "1           1      0          PC 17599  71.2833   C85        C  \n",
       "3           0      0  STON/O2. 3101282   7.9250   NaN        S  \n",
       "1           1      0            113803  53.1000  C123        S  \n",
       "3           0      0            373450   8.0500   NaN        S  \n",
       "...       ...    ...               ...      ...   ...      ...  \n",
       "2           0      0            211536  13.0000   NaN        S  \n",
       "1           0      0            112053  30.0000   B42        S  \n",
       "3           1      2        W./C. 6607  23.4500   NaN        S  \n",
       "1           0      0            111369  30.0000  C148        C  \n",
       "3           0      0            370376   7.7500   NaN        Q  \n",
       "\n",
       "[891 rows x 11 columns]"
      ],
      "text/html": "<div>\n<style scoped>\n    .dataframe tbody tr th:only-of-type {\n        vertical-align: middle;\n    }\n\n    .dataframe tbody tr th {\n        vertical-align: top;\n    }\n\n    .dataframe thead th {\n        text-align: right;\n    }\n</style>\n<table border=\"1\" class=\"dataframe\">\n  <thead>\n    <tr style=\"text-align: right;\">\n      <th></th>\n      <th>PassengerId</th>\n      <th>Survived</th>\n      <th>Name</th>\n      <th>Sex</th>\n      <th>Age</th>\n      <th>SibSp</th>\n      <th>Parch</th>\n      <th>Ticket</th>\n      <th>Fare</th>\n      <th>Cabin</th>\n      <th>Embarked</th>\n    </tr>\n    <tr>\n      <th>Pclass</th>\n      <th></th>\n      <th></th>\n      <th></th>\n      <th></th>\n      <th></th>\n      <th></th>\n      <th></th>\n      <th></th>\n      <th></th>\n      <th></th>\n      <th></th>\n    </tr>\n  </thead>\n  <tbody>\n    <tr>\n      <th>3</th>\n      <td>1</td>\n      <td>0</td>\n      <td>Braund, Mr. Owen Harris</td>\n      <td>male</td>\n      <td>22.0</td>\n      <td>1</td>\n      <td>0</td>\n      <td>A/5 21171</td>\n      <td>7.2500</td>\n      <td>NaN</td>\n      <td>S</td>\n    </tr>\n    <tr>\n      <th>1</th>\n      <td>2</td>\n      <td>1</td>\n      <td>Cumings, Mrs. John Bradley (Florence Briggs Th...</td>\n      <td>female</td>\n      <td>38.0</td>\n      <td>1</td>\n      <td>0</td>\n      <td>PC 17599</td>\n      <td>71.2833</td>\n      <td>C85</td>\n      <td>C</td>\n    </tr>\n    <tr>\n      <th>3</th>\n      <td>3</td>\n      <td>1</td>\n      <td>Heikkinen, Miss. Laina</td>\n      <td>female</td>\n      <td>26.0</td>\n      <td>0</td>\n      <td>0</td>\n      <td>STON/O2. 3101282</td>\n      <td>7.9250</td>\n      <td>NaN</td>\n      <td>S</td>\n    </tr>\n    <tr>\n      <th>1</th>\n      <td>4</td>\n      <td>1</td>\n      <td>Futrelle, Mrs. Jacques Heath (Lily May Peel)</td>\n      <td>female</td>\n      <td>35.0</td>\n      <td>1</td>\n      <td>0</td>\n      <td>113803</td>\n      <td>53.1000</td>\n      <td>C123</td>\n      <td>S</td>\n    </tr>\n    <tr>\n      <th>3</th>\n      <td>5</td>\n      <td>0</td>\n      <td>Allen, Mr. William Henry</td>\n      <td>male</td>\n      <td>35.0</td>\n      <td>0</td>\n      <td>0</td>\n      <td>373450</td>\n      <td>8.0500</td>\n      <td>NaN</td>\n      <td>S</td>\n    </tr>\n    <tr>\n      <th>...</th>\n      <td>...</td>\n      <td>...</td>\n      <td>...</td>\n      <td>...</td>\n      <td>...</td>\n      <td>...</td>\n      <td>...</td>\n      <td>...</td>\n      <td>...</td>\n      <td>...</td>\n      <td>...</td>\n    </tr>\n    <tr>\n      <th>2</th>\n      <td>887</td>\n      <td>0</td>\n      <td>Montvila, Rev. Juozas</td>\n      <td>male</td>\n      <td>27.0</td>\n      <td>0</td>\n      <td>0</td>\n      <td>211536</td>\n      <td>13.0000</td>\n      <td>NaN</td>\n      <td>S</td>\n    </tr>\n    <tr>\n      <th>1</th>\n      <td>888</td>\n      <td>1</td>\n      <td>Graham, Miss. Margaret Edith</td>\n      <td>female</td>\n      <td>19.0</td>\n      <td>0</td>\n      <td>0</td>\n      <td>112053</td>\n      <td>30.0000</td>\n      <td>B42</td>\n      <td>S</td>\n    </tr>\n    <tr>\n      <th>3</th>\n      <td>889</td>\n      <td>0</td>\n      <td>Johnston, Miss. Catherine Helen \"Carrie\"</td>\n      <td>female</td>\n      <td>NaN</td>\n      <td>1</td>\n      <td>2</td>\n      <td>W./C. 6607</td>\n      <td>23.4500</td>\n      <td>NaN</td>\n      <td>S</td>\n    </tr>\n    <tr>\n      <th>1</th>\n      <td>890</td>\n      <td>1</td>\n      <td>Behr, Mr. Karl Howell</td>\n      <td>male</td>\n      <td>26.0</td>\n      <td>0</td>\n      <td>0</td>\n      <td>111369</td>\n      <td>30.0000</td>\n      <td>C148</td>\n      <td>C</td>\n    </tr>\n    <tr>\n      <th>3</th>\n      <td>891</td>\n      <td>0</td>\n      <td>Dooley, Mr. Patrick</td>\n      <td>male</td>\n      <td>32.0</td>\n      <td>0</td>\n      <td>0</td>\n      <td>370376</td>\n      <td>7.7500</td>\n      <td>NaN</td>\n      <td>Q</td>\n    </tr>\n  </tbody>\n</table>\n<p>891 rows × 11 columns</p>\n</div>"
     },
     "metadata": {},
     "execution_count": 8
    }
   ],
   "source": [
    "# index를 활용한 groupby \n",
    "\n",
    "train_data.set_index('Pclass')"
   ]
  },
  {
   "cell_type": "code",
   "execution_count": 9,
   "metadata": {},
   "outputs": [
    {
     "output_type": "execute_result",
     "data": {
      "text/plain": [
       "               PassengerId  Survived  \\\n",
       "Pclass Sex                             \n",
       "3      male              1         0   \n",
       "1      female            2         1   \n",
       "3      female            3         1   \n",
       "1      female            4         1   \n",
       "3      male              5         0   \n",
       "...                    ...       ...   \n",
       "2      male            887         0   \n",
       "1      female          888         1   \n",
       "3      female          889         0   \n",
       "1      male            890         1   \n",
       "3      male            891         0   \n",
       "\n",
       "                                                            Name   Age  SibSp  \\\n",
       "Pclass Sex                                                                      \n",
       "3      male                              Braund, Mr. Owen Harris  22.0      1   \n",
       "1      female  Cumings, Mrs. John Bradley (Florence Briggs Th...  38.0      1   \n",
       "3      female                             Heikkinen, Miss. Laina  26.0      0   \n",
       "1      female       Futrelle, Mrs. Jacques Heath (Lily May Peel)  35.0      1   \n",
       "3      male                             Allen, Mr. William Henry  35.0      0   \n",
       "...                                                          ...   ...    ...   \n",
       "2      male                                Montvila, Rev. Juozas  27.0      0   \n",
       "1      female                       Graham, Miss. Margaret Edith  19.0      0   \n",
       "3      female           Johnston, Miss. Catherine Helen \"Carrie\"   NaN      1   \n",
       "1      male                                Behr, Mr. Karl Howell  26.0      0   \n",
       "3      male                                  Dooley, Mr. Patrick  32.0      0   \n",
       "\n",
       "               Parch            Ticket     Fare Cabin Embarked  \n",
       "Pclass Sex                                                      \n",
       "3      male        0         A/5 21171   7.2500   NaN        S  \n",
       "1      female      0          PC 17599  71.2833   C85        C  \n",
       "3      female      0  STON/O2. 3101282   7.9250   NaN        S  \n",
       "1      female      0            113803  53.1000  C123        S  \n",
       "3      male        0            373450   8.0500   NaN        S  \n",
       "...              ...               ...      ...   ...      ...  \n",
       "2      male        0            211536  13.0000   NaN        S  \n",
       "1      female      0            112053  30.0000   B42        S  \n",
       "3      female      2        W./C. 6607  23.4500   NaN        S  \n",
       "1      male        0            111369  30.0000  C148        C  \n",
       "3      male        0            370376   7.7500   NaN        Q  \n",
       "\n",
       "[891 rows x 10 columns]"
      ],
      "text/html": "<div>\n<style scoped>\n    .dataframe tbody tr th:only-of-type {\n        vertical-align: middle;\n    }\n\n    .dataframe tbody tr th {\n        vertical-align: top;\n    }\n\n    .dataframe thead th {\n        text-align: right;\n    }\n</style>\n<table border=\"1\" class=\"dataframe\">\n  <thead>\n    <tr style=\"text-align: right;\">\n      <th></th>\n      <th></th>\n      <th>PassengerId</th>\n      <th>Survived</th>\n      <th>Name</th>\n      <th>Age</th>\n      <th>SibSp</th>\n      <th>Parch</th>\n      <th>Ticket</th>\n      <th>Fare</th>\n      <th>Cabin</th>\n      <th>Embarked</th>\n    </tr>\n    <tr>\n      <th>Pclass</th>\n      <th>Sex</th>\n      <th></th>\n      <th></th>\n      <th></th>\n      <th></th>\n      <th></th>\n      <th></th>\n      <th></th>\n      <th></th>\n      <th></th>\n      <th></th>\n    </tr>\n  </thead>\n  <tbody>\n    <tr>\n      <th>3</th>\n      <th>male</th>\n      <td>1</td>\n      <td>0</td>\n      <td>Braund, Mr. Owen Harris</td>\n      <td>22.0</td>\n      <td>1</td>\n      <td>0</td>\n      <td>A/5 21171</td>\n      <td>7.2500</td>\n      <td>NaN</td>\n      <td>S</td>\n    </tr>\n    <tr>\n      <th>1</th>\n      <th>female</th>\n      <td>2</td>\n      <td>1</td>\n      <td>Cumings, Mrs. John Bradley (Florence Briggs Th...</td>\n      <td>38.0</td>\n      <td>1</td>\n      <td>0</td>\n      <td>PC 17599</td>\n      <td>71.2833</td>\n      <td>C85</td>\n      <td>C</td>\n    </tr>\n    <tr>\n      <th>3</th>\n      <th>female</th>\n      <td>3</td>\n      <td>1</td>\n      <td>Heikkinen, Miss. Laina</td>\n      <td>26.0</td>\n      <td>0</td>\n      <td>0</td>\n      <td>STON/O2. 3101282</td>\n      <td>7.9250</td>\n      <td>NaN</td>\n      <td>S</td>\n    </tr>\n    <tr>\n      <th>1</th>\n      <th>female</th>\n      <td>4</td>\n      <td>1</td>\n      <td>Futrelle, Mrs. Jacques Heath (Lily May Peel)</td>\n      <td>35.0</td>\n      <td>1</td>\n      <td>0</td>\n      <td>113803</td>\n      <td>53.1000</td>\n      <td>C123</td>\n      <td>S</td>\n    </tr>\n    <tr>\n      <th>3</th>\n      <th>male</th>\n      <td>5</td>\n      <td>0</td>\n      <td>Allen, Mr. William Henry</td>\n      <td>35.0</td>\n      <td>0</td>\n      <td>0</td>\n      <td>373450</td>\n      <td>8.0500</td>\n      <td>NaN</td>\n      <td>S</td>\n    </tr>\n    <tr>\n      <th>...</th>\n      <th>...</th>\n      <td>...</td>\n      <td>...</td>\n      <td>...</td>\n      <td>...</td>\n      <td>...</td>\n      <td>...</td>\n      <td>...</td>\n      <td>...</td>\n      <td>...</td>\n      <td>...</td>\n    </tr>\n    <tr>\n      <th>2</th>\n      <th>male</th>\n      <td>887</td>\n      <td>0</td>\n      <td>Montvila, Rev. Juozas</td>\n      <td>27.0</td>\n      <td>0</td>\n      <td>0</td>\n      <td>211536</td>\n      <td>13.0000</td>\n      <td>NaN</td>\n      <td>S</td>\n    </tr>\n    <tr>\n      <th>1</th>\n      <th>female</th>\n      <td>888</td>\n      <td>1</td>\n      <td>Graham, Miss. Margaret Edith</td>\n      <td>19.0</td>\n      <td>0</td>\n      <td>0</td>\n      <td>112053</td>\n      <td>30.0000</td>\n      <td>B42</td>\n      <td>S</td>\n    </tr>\n    <tr>\n      <th>3</th>\n      <th>female</th>\n      <td>889</td>\n      <td>0</td>\n      <td>Johnston, Miss. Catherine Helen \"Carrie\"</td>\n      <td>NaN</td>\n      <td>1</td>\n      <td>2</td>\n      <td>W./C. 6607</td>\n      <td>23.4500</td>\n      <td>NaN</td>\n      <td>S</td>\n    </tr>\n    <tr>\n      <th>1</th>\n      <th>male</th>\n      <td>890</td>\n      <td>1</td>\n      <td>Behr, Mr. Karl Howell</td>\n      <td>26.0</td>\n      <td>0</td>\n      <td>0</td>\n      <td>111369</td>\n      <td>30.0000</td>\n      <td>C148</td>\n      <td>C</td>\n    </tr>\n    <tr>\n      <th>3</th>\n      <th>male</th>\n      <td>891</td>\n      <td>0</td>\n      <td>Dooley, Mr. Patrick</td>\n      <td>32.0</td>\n      <td>0</td>\n      <td>0</td>\n      <td>370376</td>\n      <td>7.7500</td>\n      <td>NaN</td>\n      <td>Q</td>\n    </tr>\n  </tbody>\n</table>\n<p>891 rows × 10 columns</p>\n</div>"
     },
     "metadata": {},
     "execution_count": 9
    }
   ],
   "source": [
    "train_data.set_index(['Pclass', 'Sex'])"
   ]
  },
  {
   "source": [
    "# Transform"
   ],
   "cell_type": "markdown",
   "metadata": {}
  },
  {
   "cell_type": "code",
   "execution_count": 10,
   "metadata": {},
   "outputs": [
    {
     "output_type": "execute_result",
     "data": {
      "text/plain": [
       "        PassengerId  Survived        Age     SibSp     Parch       Fare\n",
       "Pclass                                                                 \n",
       "1        461.597222  0.629630  38.233441  0.416667  0.356481  84.154687\n",
       "2        445.956522  0.472826  29.877630  0.402174  0.380435  20.662183\n",
       "3        439.154786  0.242363  25.140620  0.615071  0.393075  13.675550"
      ],
      "text/html": "<div>\n<style scoped>\n    .dataframe tbody tr th:only-of-type {\n        vertical-align: middle;\n    }\n\n    .dataframe tbody tr th {\n        vertical-align: top;\n    }\n\n    .dataframe thead th {\n        text-align: right;\n    }\n</style>\n<table border=\"1\" class=\"dataframe\">\n  <thead>\n    <tr style=\"text-align: right;\">\n      <th></th>\n      <th>PassengerId</th>\n      <th>Survived</th>\n      <th>Age</th>\n      <th>SibSp</th>\n      <th>Parch</th>\n      <th>Fare</th>\n    </tr>\n    <tr>\n      <th>Pclass</th>\n      <th></th>\n      <th></th>\n      <th></th>\n      <th></th>\n      <th></th>\n      <th></th>\n    </tr>\n  </thead>\n  <tbody>\n    <tr>\n      <th>1</th>\n      <td>461.597222</td>\n      <td>0.629630</td>\n      <td>38.233441</td>\n      <td>0.416667</td>\n      <td>0.356481</td>\n      <td>84.154687</td>\n    </tr>\n    <tr>\n      <th>2</th>\n      <td>445.956522</td>\n      <td>0.472826</td>\n      <td>29.877630</td>\n      <td>0.402174</td>\n      <td>0.380435</td>\n      <td>20.662183</td>\n    </tr>\n    <tr>\n      <th>3</th>\n      <td>439.154786</td>\n      <td>0.242363</td>\n      <td>25.140620</td>\n      <td>0.615071</td>\n      <td>0.393075</td>\n      <td>13.675550</td>\n    </tr>\n  </tbody>\n</table>\n</div>"
     },
     "metadata": {},
     "execution_count": 10
    }
   ],
   "source": [
    "train_data.groupby('Pclass').mean()"
   ]
  },
  {
   "cell_type": "code",
   "execution_count": 11,
   "metadata": {},
   "outputs": [
    {
     "output_type": "execute_result",
     "data": {
      "text/plain": [
       "     PassengerId  Survived        Age     SibSp     Parch       Fare\n",
       "0     439.154786  0.242363  25.140620  0.615071  0.393075  13.675550\n",
       "1     461.597222  0.629630  38.233441  0.416667  0.356481  84.154687\n",
       "2     439.154786  0.242363  25.140620  0.615071  0.393075  13.675550\n",
       "3     461.597222  0.629630  38.233441  0.416667  0.356481  84.154687\n",
       "4     439.154786  0.242363  25.140620  0.615071  0.393075  13.675550\n",
       "..           ...       ...        ...       ...       ...        ...\n",
       "886   445.956522  0.472826  29.877630  0.402174  0.380435  20.662183\n",
       "887   461.597222  0.629630  38.233441  0.416667  0.356481  84.154687\n",
       "888   439.154786  0.242363  25.140620  0.615071  0.393075  13.675550\n",
       "889   461.597222  0.629630  38.233441  0.416667  0.356481  84.154687\n",
       "890   439.154786  0.242363  25.140620  0.615071  0.393075  13.675550\n",
       "\n",
       "[891 rows x 6 columns]"
      ],
      "text/html": "<div>\n<style scoped>\n    .dataframe tbody tr th:only-of-type {\n        vertical-align: middle;\n    }\n\n    .dataframe tbody tr th {\n        vertical-align: top;\n    }\n\n    .dataframe thead th {\n        text-align: right;\n    }\n</style>\n<table border=\"1\" class=\"dataframe\">\n  <thead>\n    <tr style=\"text-align: right;\">\n      <th></th>\n      <th>PassengerId</th>\n      <th>Survived</th>\n      <th>Age</th>\n      <th>SibSp</th>\n      <th>Parch</th>\n      <th>Fare</th>\n    </tr>\n  </thead>\n  <tbody>\n    <tr>\n      <th>0</th>\n      <td>439.154786</td>\n      <td>0.242363</td>\n      <td>25.140620</td>\n      <td>0.615071</td>\n      <td>0.393075</td>\n      <td>13.675550</td>\n    </tr>\n    <tr>\n      <th>1</th>\n      <td>461.597222</td>\n      <td>0.629630</td>\n      <td>38.233441</td>\n      <td>0.416667</td>\n      <td>0.356481</td>\n      <td>84.154687</td>\n    </tr>\n    <tr>\n      <th>2</th>\n      <td>439.154786</td>\n      <td>0.242363</td>\n      <td>25.140620</td>\n      <td>0.615071</td>\n      <td>0.393075</td>\n      <td>13.675550</td>\n    </tr>\n    <tr>\n      <th>3</th>\n      <td>461.597222</td>\n      <td>0.629630</td>\n      <td>38.233441</td>\n      <td>0.416667</td>\n      <td>0.356481</td>\n      <td>84.154687</td>\n    </tr>\n    <tr>\n      <th>4</th>\n      <td>439.154786</td>\n      <td>0.242363</td>\n      <td>25.140620</td>\n      <td>0.615071</td>\n      <td>0.393075</td>\n      <td>13.675550</td>\n    </tr>\n    <tr>\n      <th>...</th>\n      <td>...</td>\n      <td>...</td>\n      <td>...</td>\n      <td>...</td>\n      <td>...</td>\n      <td>...</td>\n    </tr>\n    <tr>\n      <th>886</th>\n      <td>445.956522</td>\n      <td>0.472826</td>\n      <td>29.877630</td>\n      <td>0.402174</td>\n      <td>0.380435</td>\n      <td>20.662183</td>\n    </tr>\n    <tr>\n      <th>887</th>\n      <td>461.597222</td>\n      <td>0.629630</td>\n      <td>38.233441</td>\n      <td>0.416667</td>\n      <td>0.356481</td>\n      <td>84.154687</td>\n    </tr>\n    <tr>\n      <th>888</th>\n      <td>439.154786</td>\n      <td>0.242363</td>\n      <td>25.140620</td>\n      <td>0.615071</td>\n      <td>0.393075</td>\n      <td>13.675550</td>\n    </tr>\n    <tr>\n      <th>889</th>\n      <td>461.597222</td>\n      <td>0.629630</td>\n      <td>38.233441</td>\n      <td>0.416667</td>\n      <td>0.356481</td>\n      <td>84.154687</td>\n    </tr>\n    <tr>\n      <th>890</th>\n      <td>439.154786</td>\n      <td>0.242363</td>\n      <td>25.140620</td>\n      <td>0.615071</td>\n      <td>0.393075</td>\n      <td>13.675550</td>\n    </tr>\n  </tbody>\n</table>\n<p>891 rows × 6 columns</p>\n</div>"
     },
     "metadata": {},
     "execution_count": 11
    }
   ],
   "source": [
    "train_data.groupby('Pclass').transform(np.mean)"
   ]
  },
  {
   "source": [
    "# Pivot_table "
   ],
   "cell_type": "markdown",
   "metadata": {}
  },
  {
   "cell_type": "code",
   "execution_count": 12,
   "metadata": {},
   "outputs": [
    {
     "output_type": "execute_result",
     "data": {
      "text/plain": [
       "    지역   요일   강수량  강수확률\n",
       "0   서울  월요일   100    80\n",
       "1   서울  화요일    80    70\n",
       "2   서울  수요일  1000    90\n",
       "3   경기  월요일   200    10\n",
       "4   경기  화요일   200    20\n",
       "5   부산  월요일   100    30\n",
       "6   서울  목요일    50    50\n",
       "7   서울  금요일   100    90\n",
       "8   부산  화요일   200    20\n",
       "9   경기  수요일   100    80\n",
       "10  경기  목요일    50    50\n",
       "11  경기  금요일   100    10"
      ],
      "text/html": "<div>\n<style scoped>\n    .dataframe tbody tr th:only-of-type {\n        vertical-align: middle;\n    }\n\n    .dataframe tbody tr th {\n        vertical-align: top;\n    }\n\n    .dataframe thead th {\n        text-align: right;\n    }\n</style>\n<table border=\"1\" class=\"dataframe\">\n  <thead>\n    <tr style=\"text-align: right;\">\n      <th></th>\n      <th>지역</th>\n      <th>요일</th>\n      <th>강수량</th>\n      <th>강수확률</th>\n    </tr>\n  </thead>\n  <tbody>\n    <tr>\n      <th>0</th>\n      <td>서울</td>\n      <td>월요일</td>\n      <td>100</td>\n      <td>80</td>\n    </tr>\n    <tr>\n      <th>1</th>\n      <td>서울</td>\n      <td>화요일</td>\n      <td>80</td>\n      <td>70</td>\n    </tr>\n    <tr>\n      <th>2</th>\n      <td>서울</td>\n      <td>수요일</td>\n      <td>1000</td>\n      <td>90</td>\n    </tr>\n    <tr>\n      <th>3</th>\n      <td>경기</td>\n      <td>월요일</td>\n      <td>200</td>\n      <td>10</td>\n    </tr>\n    <tr>\n      <th>4</th>\n      <td>경기</td>\n      <td>화요일</td>\n      <td>200</td>\n      <td>20</td>\n    </tr>\n    <tr>\n      <th>5</th>\n      <td>부산</td>\n      <td>월요일</td>\n      <td>100</td>\n      <td>30</td>\n    </tr>\n    <tr>\n      <th>6</th>\n      <td>서울</td>\n      <td>목요일</td>\n      <td>50</td>\n      <td>50</td>\n    </tr>\n    <tr>\n      <th>7</th>\n      <td>서울</td>\n      <td>금요일</td>\n      <td>100</td>\n      <td>90</td>\n    </tr>\n    <tr>\n      <th>8</th>\n      <td>부산</td>\n      <td>화요일</td>\n      <td>200</td>\n      <td>20</td>\n    </tr>\n    <tr>\n      <th>9</th>\n      <td>경기</td>\n      <td>수요일</td>\n      <td>100</td>\n      <td>80</td>\n    </tr>\n    <tr>\n      <th>10</th>\n      <td>경기</td>\n      <td>목요일</td>\n      <td>50</td>\n      <td>50</td>\n    </tr>\n    <tr>\n      <th>11</th>\n      <td>경기</td>\n      <td>금요일</td>\n      <td>100</td>\n      <td>10</td>\n    </tr>\n  </tbody>\n</table>\n</div>"
     },
     "metadata": {},
     "execution_count": 12
    }
   ],
   "source": [
    "df = pd.DataFrame({\n",
    "    '지역' : ['서울', '서울', '서울', '경기', '경기', '부산', '서울', '서울', '부산', '경기', '경기', '경기'],\n",
    "    '요일' : ['월요일', '화요일', '수요일', '월요일', '화요일', '월요일', '목요일', '금요일', '화요일', '수요일', '목요일', '금요일'],\n",
    "    '강수량' : [100, 80, 1000, 200, 200, 100, 50, 100, 200, 100, 50, 100],\n",
    "    '강수확률' : [80, 70, 90, 10, 20, 30, 50, 90, 20, 80, 50, 10]\n",
    "})\n",
    "df"
   ]
  },
  {
   "cell_type": "code",
   "execution_count": 13,
   "metadata": {},
   "outputs": [
    {
     "output_type": "execute_result",
     "data": {
      "text/plain": [
       "      강수량                              강수확률                        \n",
       "요일    금요일   목요일     수요일    월요일    화요일   금요일   목요일   수요일   월요일   화요일\n",
       "지역                                                                 \n",
       "경기  100.0  50.0   100.0  200.0  200.0  10.0  50.0  80.0  10.0  20.0\n",
       "부산    NaN   NaN     NaN  100.0  200.0   NaN   NaN   NaN  30.0  20.0\n",
       "서울  100.0  50.0  1000.0  100.0   80.0  90.0  50.0  90.0  80.0  70.0"
      ],
      "text/html": "<div>\n<style scoped>\n    .dataframe tbody tr th:only-of-type {\n        vertical-align: middle;\n    }\n\n    .dataframe tbody tr th {\n        vertical-align: top;\n    }\n\n    .dataframe thead tr th {\n        text-align: left;\n    }\n\n    .dataframe thead tr:last-of-type th {\n        text-align: right;\n    }\n</style>\n<table border=\"1\" class=\"dataframe\">\n  <thead>\n    <tr>\n      <th></th>\n      <th colspan=\"5\" halign=\"left\">강수량</th>\n      <th colspan=\"5\" halign=\"left\">강수확률</th>\n    </tr>\n    <tr>\n      <th>요일</th>\n      <th>금요일</th>\n      <th>목요일</th>\n      <th>수요일</th>\n      <th>월요일</th>\n      <th>화요일</th>\n      <th>금요일</th>\n      <th>목요일</th>\n      <th>수요일</th>\n      <th>월요일</th>\n      <th>화요일</th>\n    </tr>\n    <tr>\n      <th>지역</th>\n      <th></th>\n      <th></th>\n      <th></th>\n      <th></th>\n      <th></th>\n      <th></th>\n      <th></th>\n      <th></th>\n      <th></th>\n      <th></th>\n    </tr>\n  </thead>\n  <tbody>\n    <tr>\n      <th>경기</th>\n      <td>100.0</td>\n      <td>50.0</td>\n      <td>100.0</td>\n      <td>200.0</td>\n      <td>200.0</td>\n      <td>10.0</td>\n      <td>50.0</td>\n      <td>80.0</td>\n      <td>10.0</td>\n      <td>20.0</td>\n    </tr>\n    <tr>\n      <th>부산</th>\n      <td>NaN</td>\n      <td>NaN</td>\n      <td>NaN</td>\n      <td>100.0</td>\n      <td>200.0</td>\n      <td>NaN</td>\n      <td>NaN</td>\n      <td>NaN</td>\n      <td>30.0</td>\n      <td>20.0</td>\n    </tr>\n    <tr>\n      <th>서울</th>\n      <td>100.0</td>\n      <td>50.0</td>\n      <td>1000.0</td>\n      <td>100.0</td>\n      <td>80.0</td>\n      <td>90.0</td>\n      <td>50.0</td>\n      <td>90.0</td>\n      <td>80.0</td>\n      <td>70.0</td>\n    </tr>\n  </tbody>\n</table>\n</div>"
     },
     "metadata": {},
     "execution_count": 13
    }
   ],
   "source": [
    "# 지역을 기준으로 요일 확인하기\n",
    "df.pivot(index='지역', columns='요일')"
   ]
  },
  {
   "cell_type": "code",
   "execution_count": 14,
   "metadata": {},
   "outputs": [
    {
     "output_type": "execute_result",
     "data": {
      "text/plain": [
       "       강수량                 강수확률            \n",
       "지역      경기     부산      서울    경기    부산    서울\n",
       "요일                                         \n",
       "금요일  100.0    NaN   100.0  10.0   NaN  90.0\n",
       "목요일   50.0    NaN    50.0  50.0   NaN  50.0\n",
       "수요일  100.0    NaN  1000.0  80.0   NaN  90.0\n",
       "월요일  200.0  100.0   100.0  10.0  30.0  80.0\n",
       "화요일  200.0  200.0    80.0  20.0  20.0  70.0"
      ],
      "text/html": "<div>\n<style scoped>\n    .dataframe tbody tr th:only-of-type {\n        vertical-align: middle;\n    }\n\n    .dataframe tbody tr th {\n        vertical-align: top;\n    }\n\n    .dataframe thead tr th {\n        text-align: left;\n    }\n\n    .dataframe thead tr:last-of-type th {\n        text-align: right;\n    }\n</style>\n<table border=\"1\" class=\"dataframe\">\n  <thead>\n    <tr>\n      <th></th>\n      <th colspan=\"3\" halign=\"left\">강수량</th>\n      <th colspan=\"3\" halign=\"left\">강수확률</th>\n    </tr>\n    <tr>\n      <th>지역</th>\n      <th>경기</th>\n      <th>부산</th>\n      <th>서울</th>\n      <th>경기</th>\n      <th>부산</th>\n      <th>서울</th>\n    </tr>\n    <tr>\n      <th>요일</th>\n      <th></th>\n      <th></th>\n      <th></th>\n      <th></th>\n      <th></th>\n      <th></th>\n    </tr>\n  </thead>\n  <tbody>\n    <tr>\n      <th>금요일</th>\n      <td>100.0</td>\n      <td>NaN</td>\n      <td>100.0</td>\n      <td>10.0</td>\n      <td>NaN</td>\n      <td>90.0</td>\n    </tr>\n    <tr>\n      <th>목요일</th>\n      <td>50.0</td>\n      <td>NaN</td>\n      <td>50.0</td>\n      <td>50.0</td>\n      <td>NaN</td>\n      <td>50.0</td>\n    </tr>\n    <tr>\n      <th>수요일</th>\n      <td>100.0</td>\n      <td>NaN</td>\n      <td>1000.0</td>\n      <td>80.0</td>\n      <td>NaN</td>\n      <td>90.0</td>\n    </tr>\n    <tr>\n      <th>월요일</th>\n      <td>200.0</td>\n      <td>100.0</td>\n      <td>100.0</td>\n      <td>10.0</td>\n      <td>30.0</td>\n      <td>80.0</td>\n    </tr>\n    <tr>\n      <th>화요일</th>\n      <td>200.0</td>\n      <td>200.0</td>\n      <td>80.0</td>\n      <td>20.0</td>\n      <td>20.0</td>\n      <td>70.0</td>\n    </tr>\n  </tbody>\n</table>\n</div>"
     },
     "metadata": {},
     "execution_count": 14
    }
   ],
   "source": [
    "df.pivot(index='요일', columns='지역')"
   ]
  },
  {
   "cell_type": "code",
   "execution_count": 15,
   "metadata": {},
   "outputs": [
    {
     "output_type": "execute_result",
     "data": {
      "text/plain": [
       "지역      경기     부산      서울\n",
       "요일                       \n",
       "금요일  100.0    NaN   100.0\n",
       "목요일   50.0    NaN    50.0\n",
       "수요일  100.0    NaN  1000.0\n",
       "월요일  200.0  100.0   100.0\n",
       "화요일  200.0  200.0    80.0"
      ],
      "text/html": "<div>\n<style scoped>\n    .dataframe tbody tr th:only-of-type {\n        vertical-align: middle;\n    }\n\n    .dataframe tbody tr th {\n        vertical-align: top;\n    }\n\n    .dataframe thead th {\n        text-align: right;\n    }\n</style>\n<table border=\"1\" class=\"dataframe\">\n  <thead>\n    <tr style=\"text-align: right;\">\n      <th>지역</th>\n      <th>경기</th>\n      <th>부산</th>\n      <th>서울</th>\n    </tr>\n    <tr>\n      <th>요일</th>\n      <th></th>\n      <th></th>\n      <th></th>\n    </tr>\n  </thead>\n  <tbody>\n    <tr>\n      <th>금요일</th>\n      <td>100.0</td>\n      <td>NaN</td>\n      <td>100.0</td>\n    </tr>\n    <tr>\n      <th>목요일</th>\n      <td>50.0</td>\n      <td>NaN</td>\n      <td>50.0</td>\n    </tr>\n    <tr>\n      <th>수요일</th>\n      <td>100.0</td>\n      <td>NaN</td>\n      <td>1000.0</td>\n    </tr>\n    <tr>\n      <th>월요일</th>\n      <td>200.0</td>\n      <td>100.0</td>\n      <td>100.0</td>\n    </tr>\n    <tr>\n      <th>화요일</th>\n      <td>200.0</td>\n      <td>200.0</td>\n      <td>80.0</td>\n    </tr>\n  </tbody>\n</table>\n</div>"
     },
     "metadata": {},
     "execution_count": 15
    }
   ],
   "source": [
    "df.pivot(index='요일', columns='지역', values='강수량')"
   ]
  },
  {
   "cell_type": "code",
   "execution_count": 16,
   "metadata": {},
   "outputs": [
    {
     "output_type": "execute_result",
     "data": {
      "text/plain": [
       "지역     경기    부산    서울\n",
       "요일                   \n",
       "금요일  10.0   NaN  90.0\n",
       "목요일  50.0   NaN  50.0\n",
       "수요일  80.0   NaN  90.0\n",
       "월요일  10.0  30.0  80.0\n",
       "화요일  20.0  20.0  70.0"
      ],
      "text/html": "<div>\n<style scoped>\n    .dataframe tbody tr th:only-of-type {\n        vertical-align: middle;\n    }\n\n    .dataframe tbody tr th {\n        vertical-align: top;\n    }\n\n    .dataframe thead th {\n        text-align: right;\n    }\n</style>\n<table border=\"1\" class=\"dataframe\">\n  <thead>\n    <tr style=\"text-align: right;\">\n      <th>지역</th>\n      <th>경기</th>\n      <th>부산</th>\n      <th>서울</th>\n    </tr>\n    <tr>\n      <th>요일</th>\n      <th></th>\n      <th></th>\n      <th></th>\n    </tr>\n  </thead>\n  <tbody>\n    <tr>\n      <th>금요일</th>\n      <td>10.0</td>\n      <td>NaN</td>\n      <td>90.0</td>\n    </tr>\n    <tr>\n      <th>목요일</th>\n      <td>50.0</td>\n      <td>NaN</td>\n      <td>50.0</td>\n    </tr>\n    <tr>\n      <th>수요일</th>\n      <td>80.0</td>\n      <td>NaN</td>\n      <td>90.0</td>\n    </tr>\n    <tr>\n      <th>월요일</th>\n      <td>10.0</td>\n      <td>30.0</td>\n      <td>80.0</td>\n    </tr>\n    <tr>\n      <th>화요일</th>\n      <td>20.0</td>\n      <td>20.0</td>\n      <td>70.0</td>\n    </tr>\n  </tbody>\n</table>\n</div>"
     },
     "metadata": {},
     "execution_count": 16
    }
   ],
   "source": [
    "df.pivot(index='요일', columns='지역', values='강수확률')"
   ]
  },
  {
   "cell_type": "code",
   "execution_count": 19,
   "metadata": {},
   "outputs": [
    {
     "output_type": "execute_result",
     "data": {
      "text/plain": [
       "    지역   요일   강수량  강수확률\n",
       "0   서울  월요일   100    80\n",
       "1   서울  월요일    80    70\n",
       "2   서울  수요일  1000    90\n",
       "3   경기  월요일   200    10\n",
       "4   경기  화요일   200    20\n",
       "5   부산  월요일   100    30\n",
       "6   서울  목요일    50    50\n",
       "7   서울  금요일   100    90\n",
       "8   부산  화요일   200    20\n",
       "9   경기  수요일   100    80\n",
       "10  경기  목요일    50    50\n",
       "11  경기  금요일   100    10"
      ],
      "text/html": "<div>\n<style scoped>\n    .dataframe tbody tr th:only-of-type {\n        vertical-align: middle;\n    }\n\n    .dataframe tbody tr th {\n        vertical-align: top;\n    }\n\n    .dataframe thead th {\n        text-align: right;\n    }\n</style>\n<table border=\"1\" class=\"dataframe\">\n  <thead>\n    <tr style=\"text-align: right;\">\n      <th></th>\n      <th>지역</th>\n      <th>요일</th>\n      <th>강수량</th>\n      <th>강수확률</th>\n    </tr>\n  </thead>\n  <tbody>\n    <tr>\n      <th>0</th>\n      <td>서울</td>\n      <td>월요일</td>\n      <td>100</td>\n      <td>80</td>\n    </tr>\n    <tr>\n      <th>1</th>\n      <td>서울</td>\n      <td>월요일</td>\n      <td>80</td>\n      <td>70</td>\n    </tr>\n    <tr>\n      <th>2</th>\n      <td>서울</td>\n      <td>수요일</td>\n      <td>1000</td>\n      <td>90</td>\n    </tr>\n    <tr>\n      <th>3</th>\n      <td>경기</td>\n      <td>월요일</td>\n      <td>200</td>\n      <td>10</td>\n    </tr>\n    <tr>\n      <th>4</th>\n      <td>경기</td>\n      <td>화요일</td>\n      <td>200</td>\n      <td>20</td>\n    </tr>\n    <tr>\n      <th>5</th>\n      <td>부산</td>\n      <td>월요일</td>\n      <td>100</td>\n      <td>30</td>\n    </tr>\n    <tr>\n      <th>6</th>\n      <td>서울</td>\n      <td>목요일</td>\n      <td>50</td>\n      <td>50</td>\n    </tr>\n    <tr>\n      <th>7</th>\n      <td>서울</td>\n      <td>금요일</td>\n      <td>100</td>\n      <td>90</td>\n    </tr>\n    <tr>\n      <th>8</th>\n      <td>부산</td>\n      <td>화요일</td>\n      <td>200</td>\n      <td>20</td>\n    </tr>\n    <tr>\n      <th>9</th>\n      <td>경기</td>\n      <td>수요일</td>\n      <td>100</td>\n      <td>80</td>\n    </tr>\n    <tr>\n      <th>10</th>\n      <td>경기</td>\n      <td>목요일</td>\n      <td>50</td>\n      <td>50</td>\n    </tr>\n    <tr>\n      <th>11</th>\n      <td>경기</td>\n      <td>금요일</td>\n      <td>100</td>\n      <td>10</td>\n    </tr>\n  </tbody>\n</table>\n</div>"
     },
     "metadata": {},
     "execution_count": 19
    }
   ],
   "source": [
    "# 중복된 데이터 추가\n",
    "df2 = pd.DataFrame({\n",
    "    '지역' : ['서울', '서울', '서울', '경기', '경기', '부산', '서울', '서울', '부산', '경기', '경기', '경기'],\n",
    "    '요일' : ['월요일', '월요일', '수요일', '월요일', '화요일', '월요일', '목요일', '금요일', '화요일', '수요일', '목요일', '금요일'],\n",
    "    '강수량' : [100, 80, 1000, 200, 200, 100, 50, 100, 200, 100, 50, 100],\n",
    "    '강수확률' : [80, 70, 90, 10, 20, 30, 50, 90, 20, 80, 50, 10]\n",
    "})\n",
    "df2"
   ]
  },
  {
   "cell_type": "code",
   "execution_count": 21,
   "metadata": {},
   "outputs": [
    {
     "output_type": "execute_result",
     "data": {
      "text/plain": [
       "       강수량                 강수확률            \n",
       "지역      경기     부산      서울    경기    부산    서울\n",
       "요일                                         \n",
       "금요일  100.0    NaN   100.0  10.0   NaN  90.0\n",
       "목요일   50.0    NaN    50.0  50.0   NaN  50.0\n",
       "수요일  100.0    NaN  1000.0  80.0   NaN  90.0\n",
       "월요일  200.0  100.0    90.0  10.0  30.0  75.0\n",
       "화요일  200.0  200.0     NaN  20.0  20.0   NaN"
      ],
      "text/html": "<div>\n<style scoped>\n    .dataframe tbody tr th:only-of-type {\n        vertical-align: middle;\n    }\n\n    .dataframe tbody tr th {\n        vertical-align: top;\n    }\n\n    .dataframe thead tr th {\n        text-align: left;\n    }\n\n    .dataframe thead tr:last-of-type th {\n        text-align: right;\n    }\n</style>\n<table border=\"1\" class=\"dataframe\">\n  <thead>\n    <tr>\n      <th></th>\n      <th colspan=\"3\" halign=\"left\">강수량</th>\n      <th colspan=\"3\" halign=\"left\">강수확률</th>\n    </tr>\n    <tr>\n      <th>지역</th>\n      <th>경기</th>\n      <th>부산</th>\n      <th>서울</th>\n      <th>경기</th>\n      <th>부산</th>\n      <th>서울</th>\n    </tr>\n    <tr>\n      <th>요일</th>\n      <th></th>\n      <th></th>\n      <th></th>\n      <th></th>\n      <th></th>\n      <th></th>\n    </tr>\n  </thead>\n  <tbody>\n    <tr>\n      <th>금요일</th>\n      <td>100.0</td>\n      <td>NaN</td>\n      <td>100.0</td>\n      <td>10.0</td>\n      <td>NaN</td>\n      <td>90.0</td>\n    </tr>\n    <tr>\n      <th>목요일</th>\n      <td>50.0</td>\n      <td>NaN</td>\n      <td>50.0</td>\n      <td>50.0</td>\n      <td>NaN</td>\n      <td>50.0</td>\n    </tr>\n    <tr>\n      <th>수요일</th>\n      <td>100.0</td>\n      <td>NaN</td>\n      <td>1000.0</td>\n      <td>80.0</td>\n      <td>NaN</td>\n      <td>90.0</td>\n    </tr>\n    <tr>\n      <th>월요일</th>\n      <td>200.0</td>\n      <td>100.0</td>\n      <td>90.0</td>\n      <td>10.0</td>\n      <td>30.0</td>\n      <td>75.0</td>\n    </tr>\n    <tr>\n      <th>화요일</th>\n      <td>200.0</td>\n      <td>200.0</td>\n      <td>NaN</td>\n      <td>20.0</td>\n      <td>20.0</td>\n      <td>NaN</td>\n    </tr>\n  </tbody>\n</table>\n</div>"
     },
     "metadata": {},
     "execution_count": 21
    }
   ],
   "source": [
    "pd.pivot_table(df2, index='요일', columns='지역', aggfunc=np.mean)"
   ]
  },
  {
   "cell_type": "code",
   "execution_count": null,
   "metadata": {},
   "outputs": [],
   "source": []
  }
 ]
}